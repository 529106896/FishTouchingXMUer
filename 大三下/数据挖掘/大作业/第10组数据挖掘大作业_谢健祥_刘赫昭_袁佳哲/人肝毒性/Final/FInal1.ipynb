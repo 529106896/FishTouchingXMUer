{
 "cells": [
  {
   "cell_type": "markdown",
   "metadata": {},
   "source": [
    "# 人肝毒性数据集V2"
   ]
  },
  {
   "cell_type": "markdown",
   "metadata": {},
   "source": [
    "## 预备工作"
   ]
  },
  {
   "cell_type": "markdown",
   "metadata": {},
   "source": [
    "### (1)导入需要的包"
   ]
  },
  {
   "cell_type": "code",
   "execution_count": 2,
   "metadata": {},
   "outputs": [],
   "source": [
    "import pandas as  pd\n",
    "import numpy as np\n",
    "import math\n",
    "from sklearn import metrics\n",
    "from sklearn import model_selection\n",
    "from sklearn import decomposition\n",
    "from sklearn.ensemble import RandomForestClassifier\n",
    "from matplotlib import pyplot as plt\n",
    "from sklearn.preprocessing import label_binarize\n",
    "import copy\n",
    "import pandas as pd\n",
    "import numpy as np\n",
    "import seaborn           as sns\n",
    "import matplotlib.pyplot as plt\n",
    "from sklearn.manifold import TSNE\n",
    "from sklearn import preprocessing\n",
    "from sklearn import decomposition\n",
    "from sklearn import metrics\n",
    "from sklearn.cluster import KMeans\n",
    "from sklearn.cluster import SpectralClustering\n",
    "from sklearn.tree import DecisionTreeClassifier\n",
    "from sklearn.ensemble import RandomForestClassifier\n",
    "from sklearn.tree import ExtraTreeClassifier\n",
    "from sklearn.ensemble import GradientBoostingClassifier\n",
    "import xgboost as xgb\n",
    "from sklearn.svm import SVC\n",
    "from sklearn.svm import LinearSVC\n",
    "from sklearn.neighbors import KNeighborsClassifier\n",
    "from sklearn.manifold import TSNE\n",
    "from sklearn.feature_selection import SelectFromModel\n",
    "from sklearn.feature_selection import VarianceThreshold\n",
    "from sklearn import preprocessing\n",
    "from tqdm import tqdm"
   ]
  },
  {
   "cell_type": "markdown",
   "metadata": {},
   "source": [
    "### (2)加载数据集"
   ]
  },
  {
   "cell_type": "code",
   "execution_count": 4,
   "metadata": {},
   "outputs": [],
   "source": [
    "path_V1 = r'V1_ECFP4.csv'\n",
    "path_V2 = r'V2_ECFP4.csv'\n",
    "path_V3 = r'V3_ECFP4.csv'"
   ]
  },
  {
   "cell_type": "code",
   "execution_count": 5,
   "metadata": {},
   "outputs": [
    {
     "data": {
      "text/html": [
       "<div>\n",
       "<style scoped>\n",
       "    .dataframe tbody tr th:only-of-type {\n",
       "        vertical-align: middle;\n",
       "    }\n",
       "\n",
       "    .dataframe tbody tr th {\n",
       "        vertical-align: top;\n",
       "    }\n",
       "\n",
       "    .dataframe thead th {\n",
       "        text-align: right;\n",
       "    }\n",
       "</style>\n",
       "<table border=\"1\" class=\"dataframe\">\n",
       "  <thead>\n",
       "    <tr style=\"text-align: right;\">\n",
       "      <th></th>\n",
       "      <th>0_x</th>\n",
       "      <th>1_x</th>\n",
       "      <th>2_x</th>\n",
       "      <th>3_x</th>\n",
       "      <th>4_x</th>\n",
       "      <th>5_x</th>\n",
       "      <th>6_x</th>\n",
       "      <th>7_x</th>\n",
       "      <th>8_x</th>\n",
       "      <th>9_x</th>\n",
       "      <th>...</th>\n",
       "      <th>6793</th>\n",
       "      <th>7358</th>\n",
       "      <th>58472</th>\n",
       "      <th>50865</th>\n",
       "      <th>23200</th>\n",
       "      <th>51293</th>\n",
       "      <th>10962</th>\n",
       "      <th>10153</th>\n",
       "      <th>874_y</th>\n",
       "      <th>label</th>\n",
       "    </tr>\n",
       "  </thead>\n",
       "  <tbody>\n",
       "    <tr>\n",
       "      <th>0</th>\n",
       "      <td>0</td>\n",
       "      <td>0</td>\n",
       "      <td>0</td>\n",
       "      <td>0</td>\n",
       "      <td>0</td>\n",
       "      <td>0</td>\n",
       "      <td>0</td>\n",
       "      <td>0</td>\n",
       "      <td>0</td>\n",
       "      <td>0</td>\n",
       "      <td>...</td>\n",
       "      <td>0.367231</td>\n",
       "      <td>0.179570</td>\n",
       "      <td>0.061695</td>\n",
       "      <td>-0.099412</td>\n",
       "      <td>0.283813</td>\n",
       "      <td>-0.340380</td>\n",
       "      <td>0.224328</td>\n",
       "      <td>-0.115066</td>\n",
       "      <td>0.189834</td>\n",
       "      <td>1</td>\n",
       "    </tr>\n",
       "    <tr>\n",
       "      <th>1</th>\n",
       "      <td>0</td>\n",
       "      <td>1</td>\n",
       "      <td>0</td>\n",
       "      <td>0</td>\n",
       "      <td>0</td>\n",
       "      <td>0</td>\n",
       "      <td>0</td>\n",
       "      <td>0</td>\n",
       "      <td>0</td>\n",
       "      <td>0</td>\n",
       "      <td>...</td>\n",
       "      <td>0.354631</td>\n",
       "      <td>0.057300</td>\n",
       "      <td>0.094630</td>\n",
       "      <td>-0.412270</td>\n",
       "      <td>-0.105818</td>\n",
       "      <td>0.203349</td>\n",
       "      <td>0.953430</td>\n",
       "      <td>0.183600</td>\n",
       "      <td>-0.370929</td>\n",
       "      <td>1</td>\n",
       "    </tr>\n",
       "    <tr>\n",
       "      <th>2</th>\n",
       "      <td>0</td>\n",
       "      <td>0</td>\n",
       "      <td>0</td>\n",
       "      <td>0</td>\n",
       "      <td>0</td>\n",
       "      <td>0</td>\n",
       "      <td>0</td>\n",
       "      <td>0</td>\n",
       "      <td>0</td>\n",
       "      <td>0</td>\n",
       "      <td>...</td>\n",
       "      <td>0.609978</td>\n",
       "      <td>0.165716</td>\n",
       "      <td>1.303920</td>\n",
       "      <td>0.260526</td>\n",
       "      <td>0.295288</td>\n",
       "      <td>-1.103160</td>\n",
       "      <td>0.103670</td>\n",
       "      <td>0.689616</td>\n",
       "      <td>0.179787</td>\n",
       "      <td>1</td>\n",
       "    </tr>\n",
       "    <tr>\n",
       "      <th>3</th>\n",
       "      <td>0</td>\n",
       "      <td>0</td>\n",
       "      <td>0</td>\n",
       "      <td>0</td>\n",
       "      <td>0</td>\n",
       "      <td>0</td>\n",
       "      <td>0</td>\n",
       "      <td>0</td>\n",
       "      <td>0</td>\n",
       "      <td>0</td>\n",
       "      <td>...</td>\n",
       "      <td>0.101864</td>\n",
       "      <td>-0.375501</td>\n",
       "      <td>0.490118</td>\n",
       "      <td>-0.173101</td>\n",
       "      <td>0.368423</td>\n",
       "      <td>-0.230248</td>\n",
       "      <td>0.335399</td>\n",
       "      <td>0.148853</td>\n",
       "      <td>-0.120057</td>\n",
       "      <td>1</td>\n",
       "    </tr>\n",
       "    <tr>\n",
       "      <th>4</th>\n",
       "      <td>0</td>\n",
       "      <td>0</td>\n",
       "      <td>0</td>\n",
       "      <td>0</td>\n",
       "      <td>0</td>\n",
       "      <td>0</td>\n",
       "      <td>0</td>\n",
       "      <td>0</td>\n",
       "      <td>0</td>\n",
       "      <td>0</td>\n",
       "      <td>...</td>\n",
       "      <td>0.038717</td>\n",
       "      <td>-0.186841</td>\n",
       "      <td>0.175487</td>\n",
       "      <td>-0.338824</td>\n",
       "      <td>-0.035254</td>\n",
       "      <td>-0.236442</td>\n",
       "      <td>-0.034348</td>\n",
       "      <td>0.141268</td>\n",
       "      <td>0.032462</td>\n",
       "      <td>1</td>\n",
       "    </tr>\n",
       "  </tbody>\n",
       "</table>\n",
       "<p>5 rows × 3227 columns</p>\n",
       "</div>"
      ],
      "text/plain": [
       "   0_x  1_x  2_x  3_x  4_x  5_x  6_x  7_x  8_x  9_x  ...      6793      7358  \\\n",
       "0    0    0    0    0    0    0    0    0    0    0  ...  0.367231  0.179570   \n",
       "1    0    1    0    0    0    0    0    0    0    0  ...  0.354631  0.057300   \n",
       "2    0    0    0    0    0    0    0    0    0    0  ...  0.609978  0.165716   \n",
       "3    0    0    0    0    0    0    0    0    0    0  ...  0.101864 -0.375501   \n",
       "4    0    0    0    0    0    0    0    0    0    0  ...  0.038717 -0.186841   \n",
       "\n",
       "      58472     50865     23200     51293     10962     10153     874_y  label  \n",
       "0  0.061695 -0.099412  0.283813 -0.340380  0.224328 -0.115066  0.189834      1  \n",
       "1  0.094630 -0.412270 -0.105818  0.203349  0.953430  0.183600 -0.370929      1  \n",
       "2  1.303920  0.260526  0.295288 -1.103160  0.103670  0.689616  0.179787      1  \n",
       "3  0.490118 -0.173101  0.368423 -0.230248  0.335399  0.148853 -0.120057      1  \n",
       "4  0.175487 -0.338824 -0.035254 -0.236442 -0.034348  0.141268  0.032462      1  \n",
       "\n",
       "[5 rows x 3227 columns]"
      ]
     },
     "execution_count": 5,
     "metadata": {},
     "output_type": "execute_result"
    }
   ],
   "source": [
    "raw_df = pd.read_csv(path_V2)\n",
    "raw_df.head()"
   ]
  },
  {
   "cell_type": "code",
   "execution_count": 13,
   "metadata": {},
   "outputs": [
    {
     "data": {
      "text/plain": [
       "0    1\n",
       "1    1\n",
       "2    1\n",
       "3    1\n",
       "4    1\n",
       "Name: label, dtype: int64"
      ]
     },
     "execution_count": 13,
     "metadata": {},
     "output_type": "execute_result"
    }
   ],
   "source": [
    "label = raw_df['label']\n",
    "label.head()"
   ]
  },
  {
   "cell_type": "markdown",
   "metadata": {},
   "source": [
    "按照说明文件中的描述，把数据的不同属性分开，其中ECFP4为离散型数据，其余为连续型数据"
   ]
  },
  {
   "cell_type": "code",
   "execution_count": 14,
   "metadata": {},
   "outputs": [
    {
     "name": "stdout",
     "output_type": "stream",
     "text": [
      "   0_x  1_x  2_x  3_x  4_x  5_x  6_x  7_x  8_x  9_x  ...      9738      6793  \\\n",
      "0    0    0    0    0    0    0    0    0    0    0  ...  0.204497  0.367231   \n",
      "1    0    1    0    0    0    0    0    0    0    0  ...  1.727372  0.354631   \n",
      "2    0    0    0    0    0    0    0    0    0    0  ...  0.276930  0.609978   \n",
      "3    0    0    0    0    0    0    0    0    0    0  ...  0.271406  0.101864   \n",
      "4    0    0    0    0    0    0    0    0    0    0  ...  0.025737  0.038717   \n",
      "\n",
      "       7358     58472     50865     23200     51293     10962     10153  \\\n",
      "0  0.179570  0.061695 -0.099412  0.283813 -0.340380  0.224328 -0.115066   \n",
      "1  0.057300  0.094630 -0.412270 -0.105818  0.203349  0.953430  0.183600   \n",
      "2  0.165716  1.303920  0.260526  0.295288 -1.103160  0.103670  0.689616   \n",
      "3 -0.375501  0.490118 -0.173101  0.368423 -0.230248  0.335399  0.148853   \n",
      "4 -0.186841  0.175487 -0.338824 -0.035254 -0.236442 -0.034348  0.141268   \n",
      "\n",
      "      874_y  \n",
      "0  0.189834  \n",
      "1 -0.370929  \n",
      "2  0.179787  \n",
      "3 -0.120057  \n",
      "4  0.032462  \n",
      "\n",
      "[5 rows x 3226 columns]\n",
      "(554, 3226)\n",
      "(554, 2048)\n",
      "(554, 200)\n",
      "(554, 978)\n",
      "(554, 2248)\n"
     ]
    }
   ],
   "source": [
    "X=raw_df.iloc[:,:-1]\n",
    "ECFP4 = raw_df.iloc[:,0:2048]\n",
    "phychem = raw_df.iloc[:,2048:2248]\n",
    "L7 = raw_df.iloc[:,2248:-1]\n",
    "phychem_ECFP4 = pd.concat([phychem,ECFP4],axis=1)\n",
    "# print(ECFP4.head())\n",
    "# print(phychem.head())\n",
    "# print(L7.head())\n",
    "print(X.head())\n",
    "print(X.shape)\n",
    "print(ECFP4.shape)\n",
    "print(phychem.shape)\n",
    "print(L7.shape)\n",
    "print(phychem_ECFP4.shape)"
   ]
  },
  {
   "cell_type": "markdown",
   "metadata": {},
   "source": [
    "### (3)函数定义"
   ]
  },
  {
   "cell_type": "markdown",
   "metadata": {},
   "source": [
    "之后会用到的绘制聚类混淆矩阵的函数"
   ]
  },
  {
   "cell_type": "code",
   "execution_count": 7,
   "metadata": {},
   "outputs": [],
   "source": [
    "def show_heatmap(cm,col_names,figsize=(5, 5)):\n",
    "    f, ax = plt.subplots(figsize=figsize)\n",
    "    ax =  sns.heatmap(cm,cmap=\"YlGnBu_r\",fmt=\"d\",annot=True,ax=ax,xticklabels=col_names,yticklabels=col_names)\n",
    "    ax.set_xlabel(\"cluster\")\n",
    "    ax.set_ylabel(\"truth\")\n",
    "    plt.show() "
   ]
  },
  {
   "cell_type": "markdown",
   "metadata": {},
   "source": [
    "绘制使用TSNE降维成二维数据的函数"
   ]
  },
  {
   "cell_type": "code",
   "execution_count": 8,
   "metadata": {},
   "outputs": [],
   "source": [
    "def draw_scatters_in_tsne(X_reduced_df,clustering_labels_list,titles,shape = (1,1),figsize = (8,8)):\n",
    "    fig_clustered_data = plt.figure(figsize=figsize)\n",
    "    for i in range(len(clustering_labels_list)):\n",
    "        X_tsne_frame = pd.concat([X_reduced_df,clustering_labels_list[i]], axis=1) \n",
    "        cluster_color = {-1:'gray',0:'red',1:'blue',2:'magenta',3:'yellow',4:'cyan',5:'black',6:'green', 7:'#fff0f5', 8:'#ffdab9',9:'#ffa500' }\n",
    "        if X_tsne_frame['cluster'].max()>10:\n",
    "            colors_clustered_data = X_tsne_frame['cluster'].map(lambda x: x*x*x)\n",
    "        else:\n",
    "            colors_clustered_data = X_tsne_frame['cluster'].map(cluster_color)\n",
    "\n",
    "        # pos = str(shape[0])+str(shape[1])+str((i+1)%shape[1])\n",
    "        pos = str(shape[0])+str(shape[1])+str((i+1))\n",
    "\n",
    "        ax_clustered_data = fig_clustered_data.add_subplot(pos)\n",
    "        ax_clustered_data.scatter(X_tsne_frame['tsne_1'].values,X_tsne_frame['tsne_2'].values,c=colors_clustered_data)\n",
    "        ax_clustered_data.set_xlabel('Component 1')\n",
    "        ax_clustered_data.set_ylabel('Component 2')\n",
    "        ax_clustered_data.set_title(titles[i])"
   ]
  },
  {
   "cell_type": "markdown",
   "metadata": {},
   "source": [
    "得到f1_score、recall_0、precision_1等评价指标的函数，利用这个函数的结果来评价模型与基分类器的好坏"
   ]
  },
  {
   "cell_type": "code",
   "execution_count": 9,
   "metadata": {},
   "outputs": [],
   "source": [
    "# 输入分类器，获取评价标准，如accuracy、precision等\n",
    "def my_cross_validate_score(estimator,X,y,cv = 5,mean = False,ret_est=False):\n",
    "    kf = model_selection.StratifiedKFold(n_splits=cv)\n",
    "    #存储k次训练中得到的模型与其对应的分数\n",
    "    res = dict()\n",
    "    accuracy = []\n",
    "    f1_score = []\n",
    "    auc = []\n",
    "    recall_0 = []\n",
    "    recall_1 = []\n",
    "    precision_0 = []\n",
    "    precision_1 = []\n",
    "    it=1\n",
    "    #进行k次训练\n",
    "    for train_index, test_index in kf.split(X,y):\n",
    "        # print('train_index', train_index, 'test_index', test_index)\n",
    "        train_X, train_y = X.iloc[train_index],y.iloc[train_index]\n",
    "        test_X, test_y = X.iloc[test_index],y.iloc[test_index]\n",
    "        estimator.fit(train_X,train_y)\n",
    "        clf_predict = estimator.predict(test_X)\n",
    "        report = metrics.classification_report(test_y,clf_predict,output_dict=True)\n",
    "        \n",
    "        accuracy.append(report['accuracy'])\n",
    "        f1_score.append(report['macro avg']['f1-score'])\n",
    "        try:\n",
    "            if isinstance(estimator, SVC) or isinstance(estimator, LinearSVC):\n",
    "                score = estimator.decision_function(test_X)\n",
    "                test_y_hot = label_binarize(test_y, classes=(0, 1))\n",
    "                fpr, tpr, thresholds = metrics.roc_curve(test_y_hot.ravel(), score.ravel())\n",
    "                auc.append(metrics.auc(fpr, tpr))\n",
    "            else:\n",
    "                auc.append(metrics.roc_auc_score(test_y,estimator.predict_proba(test_X)[:,1]))\n",
    "        except:\n",
    "            auc.append(0)\n",
    "        recall_0.append(report['0']['recall'])\n",
    "        recall_1.append(report['1']['recall'])\n",
    "        precision_0.append(report['0']['precision'])\n",
    "        precision_1.append(report['1']['precision'])\n",
    "        # print(\"iteration\",it,\".....\")\n",
    "        it+=1\n",
    "        res['accuracy'] = accuracy\n",
    "        res['f1_score'] = f1_score\n",
    "        res['auc'] = auc\n",
    "        res['recall_0'] = recall_0\n",
    "        res['recall_1'] = recall_1\n",
    "        res['precision_0'] = precision_0\n",
    "        res['precision_1'] = precision_1\n",
    "        \n",
    "    if mean:\n",
    "        for key in res.keys():\n",
    "            res[key] = np.mean(res[key])\n",
    "    if ret_est:\n",
    "        return res,estimator\n",
    "    else:\n",
    "        return res\n"
   ]
  },
  {
   "cell_type": "markdown",
   "metadata": {},
   "source": [
    "设置随机种子使得结果可以复现"
   ]
  },
  {
   "cell_type": "code",
   "execution_count": 10,
   "metadata": {},
   "outputs": [],
   "source": [
    "rand_state = 2022528"
   ]
  },
  {
   "cell_type": "markdown",
   "metadata": {},
   "source": [
    "### (4)数据基本情况查看"
   ]
  },
  {
   "cell_type": "code",
   "execution_count": 15,
   "metadata": {},
   "outputs": [
    {
     "data": {
      "text/html": [
       "<div>\n",
       "<style scoped>\n",
       "    .dataframe tbody tr th:only-of-type {\n",
       "        vertical-align: middle;\n",
       "    }\n",
       "\n",
       "    .dataframe tbody tr th {\n",
       "        vertical-align: top;\n",
       "    }\n",
       "\n",
       "    .dataframe thead th {\n",
       "        text-align: right;\n",
       "    }\n",
       "</style>\n",
       "<table border=\"1\" class=\"dataframe\">\n",
       "  <thead>\n",
       "    <tr style=\"text-align: right;\">\n",
       "      <th></th>\n",
       "      <th>cluster</th>\n",
       "    </tr>\n",
       "  </thead>\n",
       "  <tbody>\n",
       "    <tr>\n",
       "      <th>0</th>\n",
       "      <td>1</td>\n",
       "    </tr>\n",
       "    <tr>\n",
       "      <th>1</th>\n",
       "      <td>1</td>\n",
       "    </tr>\n",
       "    <tr>\n",
       "      <th>2</th>\n",
       "      <td>1</td>\n",
       "    </tr>\n",
       "    <tr>\n",
       "      <th>3</th>\n",
       "      <td>1</td>\n",
       "    </tr>\n",
       "    <tr>\n",
       "      <th>4</th>\n",
       "      <td>1</td>\n",
       "    </tr>\n",
       "  </tbody>\n",
       "</table>\n",
       "</div>"
      ],
      "text/plain": [
       "   cluster\n",
       "0        1\n",
       "1        1\n",
       "2        1\n",
       "3        1\n",
       "4        1"
      ]
     },
     "execution_count": 15,
     "metadata": {},
     "output_type": "execute_result"
    }
   ],
   "source": [
    "label_df = pd.DataFrame(label.values,columns=['cluster'])\n",
    "label_df.head()"
   ]
  },
  {
   "cell_type": "markdown",
   "metadata": {},
   "source": [
    "使用TSNE将数据的各类属性降维成二维并绘制图像查看数据的基本情况。"
   ]
  },
  {
   "cell_type": "code",
   "execution_count": 16,
   "metadata": {},
   "outputs": [
    {
     "data": {
      "image/png": "[encoded data removed]",
      "text/plain": [
       "<Figure size 432x288 with 1 Axes>"
      ]
     },
     "metadata": {
      "needs_background": "light"
     },
     "output_type": "display_data"
    },
    {
     "data": {
      "image/png": "[encoded data removed]",
      "text/plain": [
       "<Figure size 432x288 with 1 Axes>"
      ]
     },
     "metadata": {
      "needs_background": "light"
     },
     "output_type": "display_data"
    },
    {
     "data": {
      "image/png": "[encoded data removed]",
      "text/plain": [
       "<Figure size 432x288 with 1 Axes>"
      ]
     },
     "metadata": {
      "needs_background": "light"
     },
     "output_type": "display_data"
    },
    {
     "data": {
      "image/png": "[encoded data removed]",
      "text/plain": [
       "<Figure size 432x288 with 1 Axes>"
      ]
     },
     "metadata": {
      "needs_background": "light"
     },
     "output_type": "display_data"
    },
    {
     "data": {
      "text/plain": [
       "<Figure size 432x288 with 0 Axes>"
      ]
     },
     "metadata": {},
     "output_type": "display_data"
    }
   ],
   "source": [
    "data = [ECFP4,phychem,L7,phychem_ECFP4]\n",
    "f_names = ['ECFP4','phychem','L7','phychem_ECFP4']\n",
    "\n",
    "for f,name in zip(data,f_names):\n",
    "    tsne = TSNE(n_components=2,random_state=rand_state)\n",
    "    tsne.fit_transform(f)\n",
    "    tsne_df = pd.DataFrame(tsne.embedding_,columns=['tsne_1','tsne_2'])\n",
    "    plt.scatter(x=tsne_df['tsne_1'],y=tsne_df['tsne_2'])\n",
    "    plt.title(name)\n",
    "    plt.show()\n",
    "    plt.clf()\n",
    "\n"
   ]
  },
  {
   "cell_type": "code",
   "execution_count": 75,
   "metadata": {},
   "outputs": [
    {
     "data": {
      "image/png": "[encoded data removed]",
      "text/plain": [
       "<Figure size 576x576 with 1 Axes>"
      ]
     },
     "metadata": {
      "needs_background": "light"
     },
     "output_type": "display_data"
    },
    {
     "data": {
      "image/png": "[encoded data removed]",
      "text/plain": [
       "<Figure size 576x576 with 1 Axes>"
      ]
     },
     "metadata": {
      "needs_background": "light"
     },
     "output_type": "display_data"
    },
    {
     "data": {
      "image/png": "[encoded data removed]",
      "text/plain": [
       "<Figure size 576x576 with 1 Axes>"
      ]
     },
     "metadata": {
      "needs_background": "light"
     },
     "output_type": "display_data"
    },
    {
     "data": {
      "image/png": "[encoded data removed]",
      "text/plain": [
       "<Figure size 576x576 with 1 Axes>"
      ]
     },
     "metadata": {
      "needs_background": "light"
     },
     "output_type": "display_data"
    }
   ],
   "source": [
    "for f,name in zip(data,f_names):\n",
    "    tsne = TSNE(n_components=2,random_state=rand_state)\n",
    "    tsne.fit_transform(f)\n",
    "    tsne_df = pd.DataFrame(tsne.embedding_,columns=['tsne_1','tsne_2'])\n",
    "    draw_scatters_in_tsne(tsne_df,[label_df],titles=[name])"
   ]
  },
  {
   "cell_type": "markdown",
   "metadata": {},
   "source": [
    "使用不同颜色标注不同的标签，从二维散点图中可以看出两类数据夹杂在一起，几乎看不出明显的聚簇。"
   ]
  },
  {
   "cell_type": "markdown",
   "metadata": {},
   "source": [
    "使用sum函数求得每一个样本的ECFP4属性值的和，可以看出2000多维的属性中只有平均40个左右的1，其余全为0，ECFP4是十分稀疏的。"
   ]
  },
  {
   "cell_type": "code",
   "execution_count": 17,
   "metadata": {},
   "outputs": [
    {
     "data": {
      "text/plain": [
       "0      16\n",
       "1      52\n",
       "2      15\n",
       "3      22\n",
       "4      21\n",
       "       ..\n",
       "549    44\n",
       "550    32\n",
       "551    59\n",
       "552    63\n",
       "553    56\n",
       "Length: 554, dtype: int64"
      ]
     },
     "execution_count": 17,
     "metadata": {},
     "output_type": "execute_result"
    }
   ],
   "source": [
    "ECFP4.sum(axis=1)"
   ]
  },
  {
   "cell_type": "markdown",
   "metadata": {},
   "source": [
    "### (5)后续使用的训练数据测试数据划分"
   ]
  },
  {
   "cell_type": "markdown",
   "metadata": {},
   "source": [
    "根据数据说明中的描述，将数据属性进行划分，其中测试集的大小为0.2。这个数据仅供初步测试模型性能使用，最终测试时仍使用上面提到的函数进行十折交叉验证，取其输出位最终的结果。"
   ]
  },
  {
   "cell_type": "code",
   "execution_count": 18,
   "metadata": {},
   "outputs": [],
   "source": [
    "X_train_phychem, X_test_phychem, y_train_phychem, y_test_phychem = model_selection.train_test_split(phychem,label,test_size = 0.2)\n",
    "X_train_ECFP4_phychem, X_test_ECFP4_phychem, y_train_ECFP4_phychem, y_test_ECFP4_phychem = model_selection.train_test_split(phychem_ECFP4,label,test_size = 0.2)\n",
    "X_train_ECFP4, X_test_ECFP4, y_train_ECFP4, y_test_ECFP4 = model_selection.train_test_split(ECFP4,label,test_size = 0.2)\n",
    "# X_train_ECFP4, X_test_ECFP4, y_train_ECFP4, y_test_ECFP4 = model_selection.train_test_split(ECFP4,label,test_size = 0.2)"
   ]
  },
  {
   "cell_type": "markdown",
   "metadata": {},
   "source": [
    "这一份数据中包含了全部的属性。"
   ]
  },
  {
   "cell_type": "code",
   "execution_count": 19,
   "metadata": {},
   "outputs": [
    {
     "data": {
      "text/html": [
       "<div>\n",
       "<style scoped>\n",
       "    .dataframe tbody tr th:only-of-type {\n",
       "        vertical-align: middle;\n",
       "    }\n",
       "\n",
       "    .dataframe tbody tr th {\n",
       "        vertical-align: top;\n",
       "    }\n",
       "\n",
       "    .dataframe thead th {\n",
       "        text-align: right;\n",
       "    }\n",
       "</style>\n",
       "<table border=\"1\" class=\"dataframe\">\n",
       "  <thead>\n",
       "    <tr style=\"text-align: right;\">\n",
       "      <th></th>\n",
       "      <th>5720</th>\n",
       "      <th>466_y</th>\n",
       "      <th>6009</th>\n",
       "      <th>2309</th>\n",
       "      <th>387_y</th>\n",
       "      <th>3553</th>\n",
       "      <th>427_y</th>\n",
       "      <th>5898</th>\n",
       "      <th>23365</th>\n",
       "      <th>6657</th>\n",
       "      <th>...</th>\n",
       "      <th>64943</th>\n",
       "      <th>9738</th>\n",
       "      <th>6793</th>\n",
       "      <th>7358</th>\n",
       "      <th>58472</th>\n",
       "      <th>50865</th>\n",
       "      <th>23200</th>\n",
       "      <th>51293</th>\n",
       "      <th>10962</th>\n",
       "      <th>10153</th>\n",
       "    </tr>\n",
       "  </thead>\n",
       "  <tbody>\n",
       "    <tr>\n",
       "      <th>55</th>\n",
       "      <td>-0.105282</td>\n",
       "      <td>-0.062533</td>\n",
       "      <td>-0.205452</td>\n",
       "      <td>-0.019369</td>\n",
       "      <td>-0.255942</td>\n",
       "      <td>-0.231431</td>\n",
       "      <td>0.202688</td>\n",
       "      <td>0.177382</td>\n",
       "      <td>0.045566</td>\n",
       "      <td>-0.042738</td>\n",
       "      <td>...</td>\n",
       "      <td>0.338033</td>\n",
       "      <td>0.082580</td>\n",
       "      <td>-0.089841</td>\n",
       "      <td>-0.112553</td>\n",
       "      <td>0.208902</td>\n",
       "      <td>-0.179678</td>\n",
       "      <td>-0.045541</td>\n",
       "      <td>-0.101763</td>\n",
       "      <td>0.385161</td>\n",
       "      <td>-0.037050</td>\n",
       "    </tr>\n",
       "    <tr>\n",
       "      <th>329</th>\n",
       "      <td>-0.323354</td>\n",
       "      <td>-0.464177</td>\n",
       "      <td>0.190436</td>\n",
       "      <td>-0.248748</td>\n",
       "      <td>0.775470</td>\n",
       "      <td>0.013808</td>\n",
       "      <td>0.681385</td>\n",
       "      <td>-0.426653</td>\n",
       "      <td>1.122504</td>\n",
       "      <td>0.345047</td>\n",
       "      <td>...</td>\n",
       "      <td>0.262118</td>\n",
       "      <td>0.088119</td>\n",
       "      <td>-0.301127</td>\n",
       "      <td>-1.113456</td>\n",
       "      <td>-0.936189</td>\n",
       "      <td>-0.392421</td>\n",
       "      <td>0.691013</td>\n",
       "      <td>-0.394498</td>\n",
       "      <td>0.433843</td>\n",
       "      <td>0.613905</td>\n",
       "    </tr>\n",
       "    <tr>\n",
       "      <th>50</th>\n",
       "      <td>0.498839</td>\n",
       "      <td>-0.563608</td>\n",
       "      <td>-1.546347</td>\n",
       "      <td>-0.886613</td>\n",
       "      <td>-0.278694</td>\n",
       "      <td>-0.453120</td>\n",
       "      <td>1.154923</td>\n",
       "      <td>-0.367472</td>\n",
       "      <td>-0.077632</td>\n",
       "      <td>-0.375049</td>\n",
       "      <td>...</td>\n",
       "      <td>-2.055068</td>\n",
       "      <td>2.176915</td>\n",
       "      <td>-0.119695</td>\n",
       "      <td>-0.062970</td>\n",
       "      <td>0.232973</td>\n",
       "      <td>1.336448</td>\n",
       "      <td>-0.166813</td>\n",
       "      <td>-1.371525</td>\n",
       "      <td>2.765948</td>\n",
       "      <td>0.157608</td>\n",
       "    </tr>\n",
       "    <tr>\n",
       "      <th>184</th>\n",
       "      <td>-0.398690</td>\n",
       "      <td>-0.307042</td>\n",
       "      <td>-0.144026</td>\n",
       "      <td>-0.018383</td>\n",
       "      <td>-0.180916</td>\n",
       "      <td>0.614746</td>\n",
       "      <td>0.189477</td>\n",
       "      <td>-0.127681</td>\n",
       "      <td>0.023744</td>\n",
       "      <td>0.398428</td>\n",
       "      <td>...</td>\n",
       "      <td>-0.460604</td>\n",
       "      <td>-0.060025</td>\n",
       "      <td>0.329140</td>\n",
       "      <td>-0.432663</td>\n",
       "      <td>0.023191</td>\n",
       "      <td>-0.158064</td>\n",
       "      <td>0.198725</td>\n",
       "      <td>-0.746737</td>\n",
       "      <td>-0.175553</td>\n",
       "      <td>-0.194750</td>\n",
       "    </tr>\n",
       "    <tr>\n",
       "      <th>449</th>\n",
       "      <td>0.232197</td>\n",
       "      <td>0.119009</td>\n",
       "      <td>0.213146</td>\n",
       "      <td>0.098524</td>\n",
       "      <td>0.297371</td>\n",
       "      <td>-0.197247</td>\n",
       "      <td>0.086431</td>\n",
       "      <td>-0.191887</td>\n",
       "      <td>-0.012693</td>\n",
       "      <td>-0.391408</td>\n",
       "      <td>...</td>\n",
       "      <td>0.103882</td>\n",
       "      <td>0.718680</td>\n",
       "      <td>-0.035717</td>\n",
       "      <td>-0.249665</td>\n",
       "      <td>-0.024924</td>\n",
       "      <td>-0.068692</td>\n",
       "      <td>-0.360696</td>\n",
       "      <td>-0.018436</td>\n",
       "      <td>-0.054086</td>\n",
       "      <td>0.195716</td>\n",
       "    </tr>\n",
       "  </tbody>\n",
       "</table>\n",
       "<p>5 rows × 977 columns</p>\n",
       "</div>"
      ],
      "text/plain": [
       "         5720     466_y      6009      2309     387_y      3553     427_y  \\\n",
       "55  -0.105282 -0.062533 -0.205452 -0.019369 -0.255942 -0.231431  0.202688   \n",
       "329 -0.323354 -0.464177  0.190436 -0.248748  0.775470  0.013808  0.681385   \n",
       "50   0.498839 -0.563608 -1.546347 -0.886613 -0.278694 -0.453120  1.154923   \n",
       "184 -0.398690 -0.307042 -0.144026 -0.018383 -0.180916  0.614746  0.189477   \n",
       "449  0.232197  0.119009  0.213146  0.098524  0.297371 -0.197247  0.086431   \n",
       "\n",
       "         5898     23365      6657  ...     64943      9738      6793  \\\n",
       "55   0.177382  0.045566 -0.042738  ...  0.338033  0.082580 -0.089841   \n",
       "329 -0.426653  1.122504  0.345047  ...  0.262118  0.088119 -0.301127   \n",
       "50  -0.367472 -0.077632 -0.375049  ... -2.055068  2.176915 -0.119695   \n",
       "184 -0.127681  0.023744  0.398428  ... -0.460604 -0.060025  0.329140   \n",
       "449 -0.191887 -0.012693 -0.391408  ...  0.103882  0.718680 -0.035717   \n",
       "\n",
       "         7358     58472     50865     23200     51293     10962     10153  \n",
       "55  -0.112553  0.208902 -0.179678 -0.045541 -0.101763  0.385161 -0.037050  \n",
       "329 -1.113456 -0.936189 -0.392421  0.691013 -0.394498  0.433843  0.613905  \n",
       "50  -0.062970  0.232973  1.336448 -0.166813 -1.371525  2.765948  0.157608  \n",
       "184 -0.432663  0.023191 -0.158064  0.198725 -0.746737 -0.175553 -0.194750  \n",
       "449 -0.249665 -0.024924 -0.068692 -0.360696 -0.018436 -0.054086  0.195716  \n",
       "\n",
       "[5 rows x 977 columns]"
      ]
     },
     "execution_count": 19,
     "metadata": {},
     "output_type": "execute_result"
    }
   ],
   "source": [
    "# X_test.iloc[:,2248:-1]\n",
    "X_train, X_test, y_train, y_test = model_selection.train_test_split(X,label,test_size = 0.1)\n",
    "X_test.iloc[:,2248:-1].head()"
   ]
  },
  {
   "cell_type": "markdown",
   "metadata": {},
   "source": [
    "### (6)模型构建的一些前置工作"
   ]
  },
  {
   "cell_type": "markdown",
   "metadata": {},
   "source": [
    "首先不做任何处理直接运行各个算法，查看各种算法的基本情况，根据结果选出在某些指标上突出的分类器作为集成学习的基分类器。  \n",
    "由于数据集中数据包含离散型与连续型数据，所以考虑将不同类型的属性分开建模，故应该考察不同模型在不同属性上的表现。  \n",
    "这里只保留了测试以ECFP4作为测试数据时的代码，查找phychem与ECFP4+phychem时将测试数据换成对应变量即可。  \n",
    "将结果整理到Excel文档之中，最为选择基分类器的依据。"
   ]
  },
  {
   "cell_type": "code",
   "execution_count": null,
   "metadata": {},
   "outputs": [],
   "source": [
    "als = [DecisionTreeClassifier(),RandomForestClassifier(),ExtraTreeClassifier(),GradientBoostingClassifier()\n",
    ",xgb.XGBClassifier(probability=True,use_label_encoder=False),SVC(),LinearSVC(),KNeighborsClassifier()]\n",
    "names = ['DecisionTreeClassifier','RandomForestClassifier','ExtraTreeClassifier',\n",
    "'GradientBoostingClassifier','XGBClassifier','SVC','LinearSVC','KNeighborsClassifier']\n",
    "\n",
    "for clf,name in zip(als,names):\n",
    "    res = my_cross_validate_score(clf,ECFP4,label,mean=True,cv=10)\n",
    "    print(name)\n",
    "    print(res)"
   ]
  },
  {
   "cell_type": "markdown",
   "metadata": {},
   "source": [
    "尝试引入特征选择。使用SelectFromModel算法进行自动特征选择，它通过分析数据在模型上的贡献度，将贡献度低于某个阈值(默认为所有属性贡献度的平均值)的属性剔除。"
   ]
  },
  {
   "cell_type": "markdown",
   "metadata": {},
   "source": [
    "尝试将SelectFromModel与LinearSVC进行结合，为之后模型的构建进行技术验证。"
   ]
  },
  {
   "cell_type": "code",
   "execution_count": 18,
   "metadata": {},
   "outputs": [],
   "source": [
    "class LinearSVC_with_feature_selection:\n",
    "    def __init__(self):\n",
    "        self.LinearSVC = LinearSVC()\n",
    "        self.selector = None\n",
    "\n",
    "    def fit(self,X_train,y_train):\n",
    "        ECFP4 = X_train.iloc[:,0:2048]\n",
    "        # phychem = X_train.iloc[:,2048:2248]\n",
    "        # L7 = X_train.iloc[:,2248:]\n",
    "        # phychem_ECFP4 = pd.concat([phychem,ECFP4],axis=1)\n",
    "        self.selector = SelectFromModel(estimator = self.LinearSVC).fit(ECFP4, y_train)\n",
    "        X_train_selected = self.selector.transform(ECFP4)\n",
    "        X_train_selected = pd.DataFrame(X_train_selected)\n",
    "        print(X_train_selected.shape)\n",
    "        self.LinearSVC.fit(X_train_selected,y_train)\n",
    "\n",
    "    def predict(self,X_test):\n",
    "        ECFP4 = X_test.iloc[:,0:2048]\n",
    "        return self.LinearSVC.predict(self.selector.transform(ECFP4))\n"
   ]
  },
  {
   "cell_type": "markdown",
   "metadata": {},
   "source": [
    "将ECFP4进行特征抽取"
   ]
  },
  {
   "cell_type": "code",
   "execution_count": 19,
   "metadata": {},
   "outputs": [
    {
     "name": "stdout",
     "output_type": "stream",
     "text": [
      "(498, 809)\n",
      "(498, 803)\n",
      "(498, 806)\n",
      "(498, 793)\n",
      "(499, 797)\n",
      "(499, 806)\n",
      "(499, 805)\n",
      "(499, 798)\n",
      "(499, 807)\n",
      "(499, 811)\n"
     ]
    },
    {
     "data": {
      "text/plain": [
       "{'accuracy': 0.6426298701298702,\n",
       " 'f1_score': 0.5938851936882622,\n",
       " 'auc': 0.0,\n",
       " 'recall_0': 0.47222222222222215,\n",
       " 'recall_1': 0.7246799431009958,\n",
       " 'precision_0': 0.44698565486800784,\n",
       " 'precision_1': 0.7433602136885311}"
      ]
     },
     "execution_count": 19,
     "metadata": {},
     "output_type": "execute_result"
    }
   ],
   "source": [
    "my_cross_validate_score(LinearSVC_with_feature_selection(),X,label,cv=10,mean=True)"
   ]
  },
  {
   "cell_type": "markdown",
   "metadata": {},
   "source": [
    "## 对预分类模型的探索"
   ]
  },
  {
   "cell_type": "markdown",
   "metadata": {},
   "source": [
    "尝试先对样本进行聚类，若判断为小类，则选择小类效果好的分类器对样本进行判断"
   ]
  },
  {
   "cell_type": "markdown",
   "metadata": {},
   "source": [
    "寻找最佳的聚类算法对样本进行预分类。同样由于数据集包含不同类型属性，故将不同的属性分开建模，选出表现最好的模型与数据的组合。"
   ]
  },
  {
   "cell_type": "markdown",
   "metadata": {},
   "source": [
    "### (1)KMeans"
   ]
  },
  {
   "cell_type": "markdown",
   "metadata": {},
   "source": [
    "首先考虑的是KMeans算法，根据以往的经验将数据预先降维2维之后再进行KMeans聚类分析。"
   ]
  },
  {
   "cell_type": "code",
   "execution_count": 20,
   "metadata": {},
   "outputs": [
    {
     "data": {
      "text/plain": [
       "KMeans(algorithm='auto', copy_x=True, init='k-means++', max_iter=300,\n",
       "       n_clusters=2, n_init=10, n_jobs=None, precompute_distances='auto',\n",
       "       random_state=None, tol=0.0001, verbose=0)"
      ]
     },
     "execution_count": 20,
     "metadata": {},
     "output_type": "execute_result"
    }
   ],
   "source": [
    "kmeans0 = KMeans(n_clusters=2,init=\"k-means++\")\n",
    "kmeans1 = KMeans(n_clusters=2,init=\"k-means++\")\n",
    "kmeans2 = KMeans(n_clusters=2,init=\"k-means++\")\n",
    "kmeans3 = KMeans(n_clusters=2,init=\"k-means++\")\n",
    "pca_2 = decomposition.PCA(n_components=2)\n",
    "\n",
    "X_2d = pca_2.fit_transform(X)\n",
    "ECFP4_2d = pca_2.fit_transform(ECFP4)\n",
    "phychem_2d = pca_2.fit_transform(phychem)\n",
    "L7_2d = pca_2.fit_transform(L7)\n",
    "\n",
    "kmeans0.fit(X_2d)\n",
    "kmeans1.fit(ECFP4_2d)\n",
    "kmeans2.fit(phychem_2d)\n",
    "kmeans3.fit(L7_2d)\n",
    "# kmeans0.fit(X)\n",
    "# kmeans1.fit(ECFP4)\n",
    "# kmeans2.fit(phychem)\n",
    "# kmeans3.fit(L7)"
   ]
  },
  {
   "cell_type": "markdown",
   "metadata": {},
   "source": [
    "以adjusted_rand_score得分与silhouette_score作为选择的依据"
   ]
  },
  {
   "cell_type": "code",
   "execution_count": 22,
   "metadata": {},
   "outputs": [
    {
     "name": "stdout",
     "output_type": "stream",
     "text": [
      "adjusted_rand_score\n",
      "0.018183952905913542\n",
      "0.003450455922474578\n",
      "-0.005817986742173575\n",
      "0.014897088455190386\n"
     ]
    },
    {
     "data": {
      "image/png": "[encoded data removed]",
      "text/plain": [
       "<Figure size 360x360 with 2 Axes>"
      ]
     },
     "metadata": {
      "needs_background": "light"
     },
     "output_type": "display_data"
    },
    {
     "data": {
      "image/png": "[encoded data removed]",
      "text/plain": [
       "<Figure size 360x360 with 2 Axes>"
      ]
     },
     "metadata": {
      "needs_background": "light"
     },
     "output_type": "display_data"
    },
    {
     "data": {
      "image/png": "[encoded data removed]",
      "text/plain": [
       "<Figure size 360x360 with 2 Axes>"
      ]
     },
     "metadata": {
      "needs_background": "light"
     },
     "output_type": "display_data"
    },
    {
     "data": {
      "image/png": "[encoded data removed]",
      "text/plain": [
       "<Figure size 360x360 with 2 Axes>"
      ]
     },
     "metadata": {
      "needs_background": "light"
     },
     "output_type": "display_data"
    },
    {
     "name": "stdout",
     "output_type": "stream",
     "text": [
      "silhouette_score\n",
      "0.4756124623646594\n",
      "0.4053123913340878\n",
      "0.42292394700199554\n",
      "0.4764903084862228\n"
     ]
    }
   ],
   "source": [
    "print(\"adjusted_rand_score\")\n",
    "print(metrics.adjusted_rand_score(label,kmeans0.labels_))\n",
    "print(metrics.adjusted_rand_score(label,kmeans1.labels_))\n",
    "print(metrics.adjusted_rand_score(label,kmeans2.labels_))\n",
    "print(metrics.adjusted_rand_score(label,kmeans3.labels_))\n",
    "show_heatmap(metrics.confusion_matrix(label,kmeans0.labels_),col_names=['1','0'])\n",
    "show_heatmap(metrics.confusion_matrix(label,kmeans1.labels_),col_names=['1','0'])\n",
    "show_heatmap(metrics.confusion_matrix(label,kmeans2.labels_),col_names=['1','0'])\n",
    "show_heatmap(metrics.confusion_matrix(label,kmeans3.labels_),col_names=['1','0'])\n",
    "\n",
    "print(\"silhouette_score\")\n",
    "Kms_ss0=metrics.silhouette_score(X_2d,kmeans0.labels_)\n",
    "Kms_ss1=metrics.silhouette_score(ECFP4_2d,kmeans1.labels_)\n",
    "Kms_ss2=metrics.silhouette_score(phychem_2d,kmeans2.labels_)\n",
    "Kms_ss3=metrics.silhouette_score(L7_2d,kmeans3.labels_)\n",
    "print(Kms_ss0)\n",
    "print(Kms_ss1)\n",
    "print(Kms_ss2)\n",
    "print(Kms_ss3)\n",
    "# print(metrics.silhouette_score(X,kmeans0.labels_))\n",
    "# print(metrics.silhouette_score(ECFP4,kmeans1.labels_))\n",
    "# print(metrics.silhouette_score(phychem,kmeans2.labels_))\n",
    "# print(metrics.silhouette_score(L7,kmeans3.labels_))"
   ]
  },
  {
   "cell_type": "markdown",
   "metadata": {},
   "source": [
    "### (2)SpectralClustering"
   ]
  },
  {
   "cell_type": "markdown",
   "metadata": {},
   "source": [
    "根据上面绘制出的数据二维散点图以及sklearn文档的描述(Few clusters, even cluster size, non-flat geometry, transductive)，我们认为SpectralClustering能得到不错的结果，所以也将SpectralClustering的聚类结果进行了研究。"
   ]
  },
  {
   "cell_type": "code",
   "execution_count": 24,
   "metadata": {},
   "outputs": [
    {
     "name": "stderr",
     "output_type": "stream",
     "text": [
      "e:\\anaconda\\lib\\site-packages\\sklearn\\manifold\\_spectral_embedding.py:236: UserWarning: Graph is not fully connected, spectral embedding may not work as expected.\n",
      "  warnings.warn(\"Graph is not fully connected, spectral embedding\"\n",
      "e:\\anaconda\\lib\\site-packages\\sklearn\\manifold\\_spectral_embedding.py:236: UserWarning: Graph is not fully connected, spectral embedding may not work as expected.\n",
      "  warnings.warn(\"Graph is not fully connected, spectral embedding\"\n"
     ]
    },
    {
     "data": {
      "text/plain": [
       "SpectralClustering(affinity='rbf', assign_labels='kmeans', coef0=1, degree=3,\n",
       "                   eigen_solver=None, eigen_tol=0.0, gamma=1.0,\n",
       "                   kernel_params=None, n_clusters=2, n_components=None,\n",
       "                   n_init=10, n_jobs=None, n_neighbors=10, random_state=None)"
      ]
     },
     "execution_count": 24,
     "metadata": {},
     "output_type": "execute_result"
    }
   ],
   "source": [
    "sc0 = SpectralClustering(n_clusters=2)\n",
    "sc1 = SpectralClustering(n_clusters=2)\n",
    "sc2 = SpectralClustering(n_clusters=2)\n",
    "sc3 = SpectralClustering(n_clusters=2)\n",
    "sc0.fit(X)\n",
    "sc1.fit(ECFP4)\n",
    "sc2.fit(phychem)\n",
    "sc3.fit(L7)"
   ]
  },
  {
   "cell_type": "code",
   "execution_count": 25,
   "metadata": {},
   "outputs": [
    {
     "name": "stdout",
     "output_type": "stream",
     "text": [
      "adjusted_rand_score\n",
      "-0.0018707629589576843\n",
      "-0.0018707629589576843\n",
      "0.01364705882421066\n",
      "-0.0018707629589576843\n",
      "silhouette_score\n",
      "0.4038893618674423\n",
      "0.2484785380727736\n",
      "0.1505073063033234\n",
      "0.46442852967083503\n"
     ]
    }
   ],
   "source": [
    "print(\"adjusted_rand_score\")\n",
    "print(metrics.adjusted_rand_score(label,sc0.labels_))\n",
    "print(metrics.adjusted_rand_score(label,sc1.labels_))\n",
    "print(metrics.adjusted_rand_score(label,sc2.labels_))\n",
    "print(metrics.adjusted_rand_score(label,sc3.labels_))\n",
    "\n",
    "print(\"silhouette_score\")\n",
    "sc_ss0=metrics.silhouette_score(X,sc0.labels_)\n",
    "sc_ss1=metrics.silhouette_score(ECFP4,sc1.labels_)\n",
    "sc_ss2=metrics.silhouette_score(phychem,sc2.labels_)\n",
    "sc_ss3=metrics.silhouette_score(L7,sc3.labels_)\n",
    "print(sc_ss0)\n",
    "print(sc_ss1)\n",
    "print(sc_ss2)\n",
    "print(sc_ss3)\n",
    "\n",
    "# print(sc0.labels_)\n",
    "# print(sc1.labels_)\n",
    "# print(sc2.labels_)\n",
    "# print(sc3.labels_)"
   ]
  },
  {
   "cell_type": "markdown",
   "metadata": {},
   "source": [
    "### (3)投票聚类"
   ]
  },
  {
   "cell_type": "markdown",
   "metadata": {},
   "source": [
    "此外，我们还尝试了在聚类时就使用投票算法，下面为将不同数据建模的KMeans算法进行投票集成的模型"
   ]
  },
  {
   "cell_type": "code",
   "execution_count": 26,
   "metadata": {},
   "outputs": [],
   "source": [
    "class My_vote_cluster():\n",
    "    def __init__(self):\n",
    "        self.kmeans1 = KMeans(n_clusters=2,init=\"k-means++\")\n",
    "        self.kmeans2 = KMeans(n_clusters=2,init=\"k-means++\")\n",
    "        self.kmeans3 = KMeans(n_clusters=2,init=\"k-means++\")\n",
    "        self.label_ = None\n",
    "    \n",
    "    def ensemble_map(self,x):\n",
    "        if x<=1:\n",
    "            return 0;\n",
    "        else:\n",
    "            return 1;\n",
    "\n",
    "    def fit(self,X_train_clus):\n",
    "        X_train_ECFP4 = X_train_clus.iloc[:,0:2048]\n",
    "        X_train_phychem = X_train_clus.iloc[:,2048:2248]\n",
    "        X_train_L7 = X_train_clus.iloc[:,2248:-1]\n",
    "        self.kmeans1.fit(X_train_ECFP4)\n",
    "        self.kmeans2.fit(X_train_phychem)\n",
    "        self.kmeans3.fit(X_train_L7)\n",
    "        pred_df = pd.DataFrame({'label1': self.kmeans1.labels_,'label2':self.kmeans2.labels_,'label3':self.kmeans3.labels_,})\n",
    "        print(pred_df)\n",
    "        pred_ensemble_df = pred_df.sum(axis=1)\n",
    "        print(pred_ensemble_df)\n",
    "        print(pred_ensemble_df.shape)\n",
    "        pred_ensemble_df = pred_ensemble_df.map(self.ensemble_map)\n",
    "        self.label_ = pred_ensemble_df\n",
    "        \n",
    "    def predict(self,X_test_clus):\n",
    "        pred1 = self.kmeans1.predict(X_test_clus)\n",
    "        pred2 = self.kmeans2.predict(X_test_clus)\n",
    "        pred3 = self.kmeans3.predict(X_test_clus)\n",
    "        pred_df = pd.DataFrame({'pred1':pred1,'pred2':pred2,'pred3':pred3,})\n",
    "        pred_ensemble_df = pred_df.sum(axis=1)\n",
    "        print(pred_ensemble_df)\n",
    "        pred_ensemble_df=pred_ensemble_df.map(self.ensemble_map)\n",
    "        return pred_ensemble_df\n",
    "        "
   ]
  },
  {
   "cell_type": "markdown",
   "metadata": {},
   "source": [
    "查看投票聚类模型的表现"
   ]
  },
  {
   "cell_type": "code",
   "execution_count": 27,
   "metadata": {},
   "outputs": [
    {
     "name": "stdout",
     "output_type": "stream",
     "text": [
      "     label1  label2  label3\n",
      "0         0       1       0\n",
      "1         0       0       1\n",
      "2         0       1       1\n",
      "3         0       1       0\n",
      "4         0       1       0\n",
      "..      ...     ...     ...\n",
      "549       1       1       0\n",
      "550       0       0       1\n",
      "551       0       0       0\n",
      "552       1       0       0\n",
      "553       1       0       0\n",
      "\n",
      "[554 rows x 3 columns]\n",
      "0      1\n",
      "1      1\n",
      "2      2\n",
      "3      1\n",
      "4      1\n",
      "      ..\n",
      "549    2\n",
      "550    1\n",
      "551    0\n",
      "552    1\n",
      "553    1\n",
      "Length: 554, dtype: int64\n",
      "(554,)\n",
      "adjusted_rand_score\n",
      "0.0090460472084694\n",
      "silhouette_score\n",
      "0.09290335944668321\n"
     ]
    }
   ],
   "source": [
    "vote_clus = My_vote_cluster()\n",
    "vote_clus.fit(X)\n",
    "vote_label = vote_clus.label_\n",
    "# print(vote_label.values)\n",
    "print(\"adjusted_rand_score\")\n",
    "vc_arc = metrics.adjusted_rand_score(label,vote_label)\n",
    "print(vc_arc)\n",
    "print(\"silhouette_score\")\n",
    "vc_ss = metrics.silhouette_score(X,vote_label)\n",
    "print(vc_ss)"
   ]
  },
  {
   "cell_type": "markdown",
   "metadata": {},
   "source": [
    "### (4)根据距离自定义聚类函数"
   ]
  },
  {
   "cell_type": "markdown",
   "metadata": {},
   "source": [
    "自定义的聚类函数，计算出训练数据的几何中心。对于每一个测试数据，计算其与两个(共有两类标签)几何中心的距离，将它分为距离近的那一类。这样也不需要进行标签对齐。"
   ]
  },
  {
   "cell_type": "code",
   "execution_count": 28,
   "metadata": {},
   "outputs": [],
   "source": [
    "class My_pre_clus():\n",
    "    def __init__(self):\n",
    "        self.center1=dict()\n",
    "        self.center0=dict()\n",
    "    \n",
    "    def fit(self,X_train,y_train):\n",
    "        index_1 = y_train[y_train == 1].index\n",
    "        index_0 = y_train[y_train == 0].index\n",
    "        ECFP4 = X_train.iloc[:,0:2048]\n",
    "        phychem = X_train.iloc[:,2048:2248]\n",
    "        L7 = X_train.iloc[:,2248:]\n",
    "        \n",
    "        ECFP4_1 = ECFP4.loc[index_1]\n",
    "        ECFP4_0 = ECFP4.loc[index_0]\n",
    "        phychem_1 = phychem.loc[index_1]\n",
    "        phychem_0 = phychem.loc[index_0]\n",
    "        L7_1 = L7.loc[index_1]\n",
    "        L7_0 = L7.loc[index_0]    \n",
    "\n",
    "        ECFP4_1_center = ECFP4_1.mean()\n",
    "        ECFP4_0_center = ECFP4_0.mean()\n",
    "        phychem_1_center = phychem_1.mean()\n",
    "        phychem_0_center = phychem_0.mean()\n",
    "        L7_1_center = L7_1.mean()\n",
    "        L7_0_center = L7_0.mean()\n",
    "        self.center1['ECFP4'] = ECFP4_1_center\n",
    "        self.center1['phychem'] = phychem_1_center\n",
    "        self.center1['L7'] = L7_1_center\n",
    "        self.center0['ECFP4'] = ECFP4_0_center\n",
    "        self.center0['phychem'] = phychem_0_center\n",
    "        self.center0['L7'] = L7_0_center\n",
    "\n",
    "    def eu_distance(self,cor1,cor2):\n",
    "        square = 0\n",
    "        for x1,x2 in zip(cor1,cor2):\n",
    "            square+=math.pow((x1-x2),2)\n",
    "        return math.sqrt(square)\n",
    "\n",
    "    def predict(self,X_test):\n",
    "        ECFP4 = X_test.iloc[:,0:2048]\n",
    "        phychem = X_test.iloc[:,2048:2248]\n",
    "        L7 = X_test.iloc[:,2248:]\n",
    "\n",
    "        res = []\n",
    "        for i in range(len(X_test)):\n",
    "            vote = 0\n",
    "            d1_ECFP4 = self.eu_distance(ECFP4.iloc[i],self.center1['ECFP4'])\n",
    "            d0_ECFP4 = self.eu_distance(ECFP4.iloc[i],self.center0['ECFP4'])\n",
    "            if d1_ECFP4<d0_ECFP4:\n",
    "                vote+=1\n",
    "            d1_phychem = self.eu_distance(phychem.iloc[i],self.center1['phychem'])\n",
    "            d0_phychem = self.eu_distance(phychem.iloc[i],self.center0['phychem'])\n",
    "            if d1_phychem<d0_phychem:\n",
    "                vote+=1\n",
    "            d1_L7 = self.eu_distance(L7.iloc[i],self.center1['L7'])\n",
    "            d0_L7 = self.eu_distance(L7.iloc[i],self.center0['L7'])\n",
    "            if d1_L7<d0_L7:\n",
    "                vote+=1\n",
    "            \n",
    "            if vote<=1:\n",
    "                res.append(0)\n",
    "            else:\n",
    "                res.append(1)\n",
    "        return res"
   ]
  },
  {
   "cell_type": "code",
   "execution_count": 29,
   "metadata": {},
   "outputs": [
    {
     "name": "stdout",
     "output_type": "stream",
     "text": [
      "(498, 3226)\n",
      "(498,)\n"
     ]
    }
   ],
   "source": [
    "print(X_train.shape)\n",
    "print(y_train.shape)"
   ]
  },
  {
   "cell_type": "code",
   "execution_count": 30,
   "metadata": {},
   "outputs": [],
   "source": [
    "my_pre_clus = My_pre_clus()\n",
    "my_pre_clus.fit(X_train,y_train)\n",
    "# print(my_pre_clus.center1)\n",
    "# print(my_pre_clus.center0)"
   ]
  },
  {
   "cell_type": "code",
   "execution_count": 32,
   "metadata": {},
   "outputs": [
    {
     "name": "stdout",
     "output_type": "stream",
     "text": [
      "[1, 1, 0, 1, 1, 0, 0, 1, 0, 1, 1, 1, 1, 0, 1, 1, 0, 0, 1, 1, 1, 0, 1, 1, 1, 1, 1, 0, 1, 0, 1, 1, 1, 1, 0, 0, 1, 1, 0, 1, 1, 0, 0, 0, 1, 1, 1, 1, 0, 1, 1, 1, 1, 0, 0, 1]\n"
     ]
    }
   ],
   "source": [
    "print(my_pre_clus.predict(X_test))\n",
    "# print(y_test)"
   ]
  },
  {
   "cell_type": "markdown",
   "metadata": {},
   "source": [
    "查看聚类结果。"
   ]
  },
  {
   "cell_type": "code",
   "execution_count": 33,
   "metadata": {},
   "outputs": [
    {
     "name": "stdout",
     "output_type": "stream",
     "text": [
      "adjusted_rand_score\n",
      "0.11218994159144352\n",
      "silhouette_score\n",
      "0.015605622271507136\n"
     ]
    }
   ],
   "source": [
    "print(\"adjusted_rand_score\")\n",
    "mpc_arc = metrics.adjusted_rand_score(y_test,my_pre_clus.predict(X_test))\n",
    "print(mpc_arc)\n",
    "print(\"silhouette_score\")\n",
    "mpc_ss = metrics.silhouette_score(X_test,my_pre_clus.predict(X_test))\n",
    "print(mpc_ss)"
   ]
  },
  {
   "cell_type": "code",
   "execution_count": 45,
   "metadata": {},
   "outputs": [
    {
     "data": {
      "image/png": "[encoded data removed]",
      "text/plain": [
       "<Figure size 1080x360 with 1 Axes>"
      ]
     },
     "metadata": {
      "needs_background": "light"
     },
     "output_type": "display_data"
    }
   ],
   "source": [
    "ss_scores = [Kms_ss0,Kms_ss1,Kms_ss2,Kms_ss3,sc_ss0,sc_ss1,sc_ss2,sc_ss3,vc_ss,mpc_ss]\n",
    "clus_names = ['kms_X','kms_ECFP4','kms_phychem','kms_L7','sc_X','sc_ECFP4','sc_phychem','sc_L7','vc','mpc']\n",
    "\n",
    "def autolabel(rects):\n",
    "    for rect in rects:\n",
    "        height = rect.get_height()\n",
    "        plt.text(rect.get_x()+rect.get_width()/2.-0.25, 1.01*height, '%s' % round(height,4))\n",
    "\n",
    "plt.figure(figsize=(15,5))\n",
    "rects=plt.bar(clus_names,ss_scores,width=0.5,color=\"c\")\n",
    "plt.xlabel(\"clus_names\")\n",
    "plt.ylabel(\"silhouette_score\")\n",
    "autolabel(rects)"
   ]
  },
  {
   "cell_type": "markdown",
   "metadata": {},
   "source": [
    "综合上述尝试的结果，我们发现使用L7属性进行建模的KMeans算法能在聚类时得到最好的结果。所以在后续的模型中使用L7建模的KMeans算法进行预分类。"
   ]
  },
  {
   "cell_type": "markdown",
   "metadata": {},
   "source": [
    "## 模型的实现"
   ]
  },
  {
   "cell_type": "markdown",
   "metadata": {},
   "source": [
    "有了前面工作的基础，就可以开始实现我们的模型了"
   ]
  },
  {
   "cell_type": "markdown",
   "metadata": {},
   "source": [
    "### 首先是 预分类+投票 模型"
   ]
  },
  {
   "cell_type": "code",
   "execution_count": 21,
   "metadata": {},
   "outputs": [],
   "source": [
    "class My_vote_clf():\n",
    "    def __init__(self, topN,score = 'recall'):\n",
    "        #使用phychem进行训练的基分类器\n",
    "        GDBT_phychem = GradientBoostingClassifier()\n",
    "        RandomForest_phychem = RandomForestClassifier()\n",
    "        XGB_phychem = xgb.XGBClassifier(probability=True)\n",
    "        SVC_phychem = SVC()\n",
    "        KNN_phychem = KNeighborsClassifier()\n",
    "        #使用ECFP4_phychem进行训练的基分类器\n",
    "        RandomForest_ECFP4_phychem = RandomForestClassifier()\n",
    "        ExtraTree_ECFP4_phychem = ExtraTreeClassifier()\n",
    "        SVC_ECFP4_phychem = SVC()\n",
    "        LinearSVC_ECFP4_phychem = LinearSVC()\n",
    "        KNN_ECFP4_phychem = KNeighborsClassifier()\n",
    "        #使用ECFP4进行训练的基分类器\n",
    "        RandomForest_ECFP4 = RandomForestClassifier()\n",
    "        GDBT_ECFP4 = GradientBoostingClassifier()\n",
    "        SVC_ECFP4 = SVC()\n",
    "        LinearSVC_ECFP4 = LinearSVC()\n",
    "        KNN_ECFP4 = KNeighborsClassifier()\n",
    "        \n",
    "        self.base_als_phychem = [GDBT_phychem,RandomForest_phychem,XGB_phychem,SVC_phychem,KNN_phychem]\n",
    "        self.base_als_ECFP4_phychem = [RandomForest_ECFP4_phychem,ExtraTree_ECFP4_phychem,SVC_ECFP4_phychem,LinearSVC_ECFP4_phychem,KNN_ECFP4_phychem]\n",
    "        self.base_als_ECFP4 = [RandomForest_ECFP4,GDBT_ECFP4,SVC_ECFP4,LinearSVC_ECFP4,KNN_ECFP4]\n",
    "\n",
    "        self.all_base_algo = self.base_als_phychem+self.base_als_ECFP4_phychem+self.base_als_ECFP4\n",
    "\n",
    "        self.res_dic = dict()\n",
    "        self.keys = ['accuracy','f1_score','auc','recall_0','recall_1','precision_0','precision_1']\n",
    "\n",
    "        self.kmeans = KMeans(n_clusters=2)\n",
    "        self.topN = topN\n",
    "        self.score = score\n",
    "\n",
    "    def res_map(self,x):\n",
    "        thres = int(self.topN/2)\n",
    "        # print(thres)\n",
    "        if x<=thres:\n",
    "            return 0\n",
    "        else:\n",
    "            return 1\n",
    "        \n",
    "    def fit(self,X,y):\n",
    "        ECFP4 = X.iloc[:,0:2048]\n",
    "        phychem = X.iloc[:,2048:2248]\n",
    "        L7 = X.iloc[:,2248:]\n",
    "        phychem_ECFP4 = pd.concat([phychem,ECFP4],axis=1)\n",
    "        for key in self.keys:\n",
    "            self.res_dic[key] = []\n",
    "\n",
    "        for i in range(len(self.base_als_phychem)):\n",
    "            temp_res = my_cross_validate_score(self.base_als_phychem[i],phychem,y,cv=10,mean=True)\n",
    "            for key in self.keys:\n",
    "                self.res_dic[key].append(temp_res[key])\n",
    "\n",
    "        for i in range(len(self.base_als_ECFP4_phychem)):\n",
    "            temp_res = my_cross_validate_score(self.base_als_ECFP4_phychem[i],phychem_ECFP4,y,cv=10,mean=True)\n",
    "            for key in self.keys:\n",
    "                self.res_dic[key].append(temp_res[key])\n",
    "\n",
    "        for i in range(len(self.base_als_ECFP4)):\n",
    "            temp_res = my_cross_validate_score(self.base_als_ECFP4[i],ECFP4,y,cv=10,mean=True)\n",
    "            for key in self.keys:\n",
    "                self.res_dic[key].append(temp_res[key])\n",
    "\n",
    "        # self.kmeans.fit(L7)\n",
    "        pca_2=decomposition.PCA(n_components=2)\n",
    "        L7_2d = pca_2.fit_transform(L7)\n",
    "        self.kmeans.fit(L7_2d)\n",
    "\n",
    "        print(self.res_dic)\n",
    "    def predict(self,X_test):\n",
    "        ECFP4 = X_test.iloc[:,0:2048]\n",
    "        phychem = X_test.iloc[:,2048:2248]\n",
    "        L7 = X_test.iloc[:,2248:]\n",
    "        phychem_ECFP4 = pd.concat([phychem,ECFP4],axis=1)\n",
    "        \n",
    "        if self.score in ['recall','precision']:\n",
    "            clf41_index = pd.DataFrame(self.res_dic).sort_values([self.score+'_1'],ascending=False)[:self.topN].index\n",
    "            clf40_index = pd.DataFrame(self.res_dic).sort_values([self.score+'_0'],ascending=False)[:self.topN].index\n",
    "        else:\n",
    "            clf41_index = pd.DataFrame(self.res_dic).sort_values([self.score],ascending=False)[:self.topN].index\n",
    "            clf40_index = pd.DataFrame(self.res_dic).sort_values([self.score],ascending=False)[:self.topN].index \n",
    "\n",
    "\n",
    "        clf41 = []\n",
    "        clf40 = []\n",
    "        for i,j in zip(clf41_index,clf40_index):\n",
    "            clf41.append(copy.deepcopy(self.all_base_algo[i]))\n",
    "            clf40.append(copy.deepcopy(self.all_base_algo[j]))\n",
    "        \n",
    "        # prepred = self.kmeans.predict(L7)\n",
    "        pca_2=decomposition.PCA(n_components=2)\n",
    "        L7_2d = pca_2.fit_transform(L7)\n",
    "        prepred = self.kmeans.predict(L7_2d)\n",
    "        clf41_preds = []\n",
    "        clf40_preds = []\n",
    "        \n",
    "        print('clf41:',clf41)\n",
    "        print('clf40:',clf40)\n",
    "        \n",
    "        for i in range(len(clf41)):\n",
    "            print('i:',i)\n",
    "            print('clf41_index[i]:',clf41_index[i])\n",
    "            if clf41_index[i] in range(0,5):\n",
    "                clf41_preds.append(clf41[i].predict(phychem))\n",
    "            elif clf41_index[i] in range(5,10):\n",
    "                clf41_preds.append(clf41[i].predict(phychem_ECFP4))\n",
    "            else:\n",
    "                clf41_preds.append(clf41[i].predict(ECFP4))\n",
    "\n",
    "        for i in range(len(clf40)):\n",
    "            if clf40_index[i] in range(0,5):\n",
    "                clf40_preds.append(clf40[i].predict(phychem))\n",
    "            elif clf40_index[i] in range(5,10):\n",
    "                clf40_preds.append(clf40[i].predict(phychem_ECFP4))\n",
    "            else:\n",
    "                clf40_preds.append(clf40[i].predict(ECFP4))\n",
    "\n",
    "        # col_names = ['clf0','clf1','clf2','clf3','clf4']\n",
    "        clf41_preds_dic = dict()\n",
    "        clf40_preds_dic = dict()\n",
    "        \n",
    "        for i  in range(self.topN):\n",
    "            key = 'clf'+str(i)\n",
    "            clf41_preds_dic[key] = clf41_preds[i]\n",
    "            clf40_preds_dic[key] = clf40_preds[i]\n",
    "        \n",
    "        clf41_preds_df = pd.DataFrame(clf41_preds_dic)\n",
    "        clf40_preds_df = pd.DataFrame(clf40_preds_dic)\n",
    "\n",
    "        clf41_voted_pred = clf41_preds_df.sum(axis=1).map(self.res_map)\n",
    "        clf40_voted_pred = clf40_preds_df.sum(axis=1).map(self.res_map)\n",
    "        \n",
    "        res = []\n",
    "\n",
    "        for i in range(len(prepred)):\n",
    "            if prepred[i] == 1:\n",
    "                res.append(clf41_voted_pred[i])\n",
    "            else:\n",
    "                res.append(clf40_voted_pred[i])\n",
    "\n",
    "        print('prepred',prepred)\n",
    "\n",
    "        print('clf41',clf41)\n",
    "        print('clf40',clf40)\n",
    "\n",
    "        print('clf41_preds_dic',clf41_preds_dic)\n",
    "        print('clf40_preds_dic',clf40_preds_dic)\n",
    "        \n",
    "        print('clf41_voted_pred',clf41_voted_pred)\n",
    "        print('clf40_voted_pred',clf40_voted_pred)\n",
    "\n",
    "        return res        "
   ]
  },
  {
   "cell_type": "markdown",
   "metadata": {},
   "source": [
    "使用之前定义的测试数据与训练数据搜索最佳的参数，这里相当于进行一折交叉验证"
   ]
  },
  {
   "cell_type": "code",
   "execution_count": null,
   "metadata": {},
   "outputs": [],
   "source": [
    "scores = ['accuracy','precision','recall','f1_score']\n",
    "topNs = range(1,6,2)\n",
    "reports = []\n",
    "for score in scores :\n",
    "    for topN in topNs:\n",
    "        reports.append(\"{}-{}\".format(score,topN))\n",
    "        my_vote_clf = My_vote_clf(topN,score=score)\n",
    "        my_vote_clf.fit(X_train,y_train)\n",
    "        my_vote_clf_pred =  my_vote_clf.predict(X_test)\n",
    "        reports.append(metrics.classification_report(y_test,my_vote_clf_pred))"
   ]
  },
  {
   "cell_type": "code",
   "execution_count": 23,
   "metadata": {},
   "outputs": [
    {
     "name": "stdout",
     "output_type": "stream",
     "text": [
      "accuracy-1\n",
      "              precision    recall  f1-score   support\n",
      "\n",
      "           0       0.67      0.31      0.42        13\n",
      "           1       0.82      0.95      0.88        43\n",
      "\n",
      "    accuracy                           0.80        56\n",
      "   macro avg       0.74      0.63      0.65        56\n",
      "weighted avg       0.78      0.80      0.77        56\n",
      "\n",
      "accuracy-3\n",
      "              precision    recall  f1-score   support\n",
      "\n",
      "           0       0.67      0.31      0.42        13\n",
      "           1       0.82      0.95      0.88        43\n",
      "\n",
      "    accuracy                           0.80        56\n",
      "   macro avg       0.74      0.63      0.65        56\n",
      "weighted avg       0.78      0.80      0.77        56\n",
      "\n",
      "accuracy-5\n",
      "              precision    recall  f1-score   support\n",
      "\n",
      "           0       0.83      0.38      0.53        13\n",
      "           1       0.84      0.98      0.90        43\n",
      "\n",
      "    accuracy                           0.84        56\n",
      "   macro avg       0.84      0.68      0.71        56\n",
      "weighted avg       0.84      0.84      0.82        56\n",
      "\n",
      "precision-1\n",
      "              precision    recall  f1-score   support\n",
      "\n",
      "           0       0.75      0.23      0.35        13\n",
      "           1       0.81      0.98      0.88        43\n",
      "\n",
      "    accuracy                           0.80        56\n",
      "   macro avg       0.78      0.60      0.62        56\n",
      "weighted avg       0.79      0.80      0.76        56\n",
      "\n",
      "precision-3\n",
      "              precision    recall  f1-score   support\n",
      "\n",
      "           0       0.71      0.38      0.50        13\n",
      "           1       0.84      0.95      0.89        43\n",
      "\n",
      "    accuracy                           0.82        56\n",
      "   macro avg       0.78      0.67      0.70        56\n",
      "weighted avg       0.81      0.82      0.80        56\n",
      "\n",
      "precision-5\n",
      "              precision    recall  f1-score   support\n",
      "\n",
      "           0       0.62      0.38      0.48        13\n",
      "           1       0.83      0.93      0.88        43\n",
      "\n",
      "    accuracy                           0.80        56\n",
      "   macro avg       0.73      0.66      0.68        56\n",
      "weighted avg       0.78      0.80      0.79        56\n",
      "\n",
      "recall-1\n",
      "              precision    recall  f1-score   support\n",
      "\n",
      "           0       0.38      0.38      0.38        13\n",
      "           1       0.81      0.81      0.81        43\n",
      "\n",
      "    accuracy                           0.71        56\n",
      "   macro avg       0.60      0.60      0.60        56\n",
      "weighted avg       0.71      0.71      0.71        56\n",
      "\n",
      "recall-3\n",
      "              precision    recall  f1-score   support\n",
      "\n",
      "           0       0.43      0.23      0.30        13\n",
      "           1       0.80      0.91      0.85        43\n",
      "\n",
      "    accuracy                           0.75        56\n",
      "   macro avg       0.61      0.57      0.57        56\n",
      "weighted avg       0.71      0.75      0.72        56\n",
      "\n",
      "recall-5\n",
      "              precision    recall  f1-score   support\n",
      "\n",
      "           0       0.57      0.31      0.40        13\n",
      "           1       0.82      0.93      0.87        43\n",
      "\n",
      "    accuracy                           0.79        56\n",
      "   macro avg       0.69      0.62      0.63        56\n",
      "weighted avg       0.76      0.79      0.76        56\n",
      "\n",
      "f1_score-1\n",
      "              precision    recall  f1-score   support\n",
      "\n",
      "           0       0.57      0.31      0.40        13\n",
      "           1       0.82      0.93      0.87        43\n",
      "\n",
      "    accuracy                           0.79        56\n",
      "   macro avg       0.69      0.62      0.63        56\n",
      "weighted avg       0.76      0.79      0.76        56\n",
      "\n",
      "f1_score-3\n",
      "              precision    recall  f1-score   support\n",
      "\n",
      "           0       0.83      0.38      0.53        13\n",
      "           1       0.84      0.98      0.90        43\n",
      "\n",
      "    accuracy                           0.84        56\n",
      "   macro avg       0.84      0.68      0.71        56\n",
      "weighted avg       0.84      0.84      0.82        56\n",
      "\n",
      "f1_score-5\n",
      "              precision    recall  f1-score   support\n",
      "\n",
      "           0       0.71      0.38      0.50        13\n",
      "           1       0.84      0.95      0.89        43\n",
      "\n",
      "    accuracy                           0.82        56\n",
      "   macro avg       0.78      0.67      0.70        56\n",
      "weighted avg       0.81      0.82      0.80        56\n",
      "\n"
     ]
    }
   ],
   "source": [
    "for report in reports:\n",
    "    print(report)"
   ]
  },
  {
   "cell_type": "markdown",
   "metadata": {},
   "source": [
    "搜索结果哦显示 f1-score-5的结果最佳，故参数设置为5,score='f1_score'得到最终的结果"
   ]
  },
  {
   "cell_type": "markdown",
   "metadata": {},
   "source": [
    "使用十折交叉验证得到最终的成绩"
   ]
  },
  {
   "cell_type": "code",
   "execution_count": null,
   "metadata": {},
   "outputs": [],
   "source": [
    "my_cross_validate_score(My_vote_clf(5,score='accuracy'),X,label,cv=10,mean=True)"
   ]
  },
  {
   "cell_type": "markdown",
   "metadata": {},
   "source": [
    "输出：  \n",
    "{'accuracy': 0.7273701298701299,  \n",
    " 'f1_score': 0.6208039498032091,  \n",
    " 'auc': 0.0,  \n",
    " 'recall_0': 0.31666666666666665,  \n",
    " 'recall_1': 0.92524893314367,  \n",
    " 'precision_0': 0.6747435897435897,  \n",
    " 'precision_1': 0.7389854091713058}   "
   ]
  },
  {
   "cell_type": "markdown",
   "metadata": {},
   "source": [
    "### 特征选择+预分类+投票"
   ]
  },
  {
   "cell_type": "code",
   "execution_count": 58,
   "metadata": {},
   "outputs": [],
   "source": [
    "class My_vote_select_clf():\n",
    "    def __init__(self, topN,score = 'recall'):\n",
    "        #使用phychem进行训练的基分类器\n",
    "        #KNN不支持特征选择\n",
    "        GDBT_phychem = GradientBoostingClassifier()\n",
    "        RandomForest_phychem = RandomForestClassifier(verbose=0)\n",
    "        XGB_phychem = xgb.XGBClassifier(verbosity=0)\n",
    "        SVC_phychem = SVC(kernel=\"linear\")\n",
    "        # KNN_phychem = KNeighborsClassifier()\n",
    "        #使用ECFP4_phychem进行训练的基分类器\n",
    "        RandomForest_ECFP4_phychem = RandomForestClassifier()\n",
    "        ExtraTree_ECFP4_phychem = ExtraTreeClassifier()\n",
    "        SVC_ECFP4_phychem = SVC(kernel=\"linear\")\n",
    "        LinearSVC_ECFP4_phychem = LinearSVC()\n",
    "        # KNN_ECFP4_phychem = KNeighborsClassifier()\n",
    "        #使用ECFP4进行训练的基分类器\n",
    "        RandomForest_ECFP4 = RandomForestClassifier()\n",
    "        GDBT_ECFP4 = GradientBoostingClassifier()\n",
    "        SVC_ECFP4 = SVC(kernel=\"linear\")\n",
    "        LinearSVC_ECFP4 = LinearSVC()\n",
    "        # KNN_ECFP4 = KNeighborsClassifier()\n",
    "        \n",
    "        self.base_als_phychem = [GDBT_phychem,RandomForest_phychem,XGB_phychem,SVC_phychem]\n",
    "        self.base_als_ECFP4_phychem = [RandomForest_ECFP4_phychem,ExtraTree_ECFP4_phychem,SVC_ECFP4_phychem,LinearSVC_ECFP4_phychem]\n",
    "        self.base_als_ECFP4 = [RandomForest_ECFP4,GDBT_ECFP4,SVC_ECFP4,LinearSVC_ECFP4]\n",
    "        self.all_base_algo = self.base_als_phychem+self.base_als_ECFP4_phychem+self.base_als_ECFP4\n",
    "        self.algo_names = ['GDBT_phychem','RandomForest_phychem','XGB_phychem','SVC_phychem',\n",
    "        'RandomForest_ECFP4_phychem','ExtraTree_ECFP4_phychem','SVC_ECFP4_phychem','LinearSVC_ECFP4_phychem',\n",
    "        'RandomForest_ECFP4','GDBT_ECFP4','SVC_ECFP4','LinearSVC_ECFP4']\n",
    "        selectors = []\n",
    "        for algo in self.all_base_algo:\n",
    "            selectors.append(SelectFromModel(estimator = algo))\n",
    "        self.algo_selector_set = list(zip(self.all_base_algo,selectors,self.algo_names))\n",
    "\n",
    "        self.res_dic = dict()\n",
    "        self.keys = ['accuracy','f1_score','auc','recall_0','recall_1','precision_0','precision_1']\n",
    "\n",
    "        self.kmeans = KMeans(n_clusters=2)\n",
    "        self.prepredictor = My_pre_clus()\n",
    "        self.topN = topN\n",
    "        self.score = score\n",
    "\n",
    "    def res_map(self,x):\n",
    "        thres = int(self.topN/2)\n",
    "        # print(thres)\n",
    "        if x<=thres:\n",
    "            return 0\n",
    "        else:\n",
    "            return 1\n",
    "        \n",
    "    def fit(self,X,y):\n",
    "        ECFP4 = X.iloc[:,0:2048]\n",
    "        phychem = X.iloc[:,2048:2248]\n",
    "        L7 = X.iloc[:,2248:]\n",
    "        phychem_ECFP4 = pd.concat([phychem,ECFP4],axis=1)\n",
    "\n",
    "        for key in self.keys:\n",
    "            self.res_dic[key] = []\n",
    "\n",
    "        for i in range(len(self.algo_selector_set)):\n",
    "            t=self.algo_selector_set[i]\n",
    "            print('fitting:',t[2])\n",
    "            if i in range(4):\n",
    "                t[1].fit(phychem,y)\n",
    "                train_selected = t[1].transform(phychem)\n",
    "            elif i in range(4,8):\n",
    "                t[1].fit(phychem_ECFP4,y)\n",
    "                train_selected = t[1].transform(phychem_ECFP4)\n",
    "            else:\n",
    "                t[1].fit(ECFP4,y)\n",
    "                train_selected = t[1].transform(ECFP4)\n",
    "            \n",
    "            train_selected = pd.DataFrame(train_selected)\n",
    "            temp_res = my_cross_validate_score(t[0],train_selected,y,cv=10,mean=True)\n",
    "            for key in self.keys:\n",
    "                self.res_dic[key].append(temp_res[key])\n",
    "\n",
    "        pca_2=decomposition.PCA(n_components=2)\n",
    "        L7_2d = pca_2.fit_transform(L7)\n",
    "        self.kmeans.fit(L7_2d)\n",
    "        # self.kmeans.fit(L7)\n",
    "        # self.prepredictor.fit(X_train,y_train)\n",
    "\n",
    "        print(self.res_dic)\n",
    "    def predict(self,X_test):\n",
    "        ECFP4 = X_test.iloc[:,0:2048]\n",
    "        phychem = X_test.iloc[:,2048:2248]\n",
    "        L7 = X_test.iloc[:,2248:]\n",
    "        phychem_ECFP4 = pd.concat([phychem,ECFP4],axis=1)\n",
    "        \n",
    "        if self.score in ['recall','precision']:\n",
    "            clf41_index = pd.DataFrame(self.res_dic).sort_values([self.score+'_1'],ascending=False)[:self.topN].index\n",
    "            clf40_index = pd.DataFrame(self.res_dic).sort_values([self.score+'_0'],ascending=False)[:self.topN].index\n",
    "        else:\n",
    "            clf41_index = pd.DataFrame(self.res_dic).sort_values([self.score],ascending=False)[:self.topN].index\n",
    "            clf40_index = pd.DataFrame(self.res_dic).sort_values([self.score],ascending=False)[:self.topN].index \n",
    "\n",
    "\n",
    "        clf41 = []\n",
    "        clf40 = []\n",
    "        for i,j in zip(clf41_index,clf40_index):\n",
    "            clf41.append(copy.deepcopy(self.algo_selector_set[i]))\n",
    "            clf40.append(copy.deepcopy(self.algo_selector_set[j]))\n",
    "        \n",
    "        pca_2=decomposition.PCA(n_components=2)\n",
    "        L7_2d = pca_2.fit_transform(L7)\n",
    "        prepred = self.kmeans.predict(L7_2d)\n",
    "        # prepred = self.kmeans.predict(L7)\n",
    "        # prepred = self.prepredictor.predict(X_test)\n",
    "        clf41_preds = []\n",
    "        clf40_preds = []\n",
    "\n",
    "        for i in range(len(clf41)):\n",
    "            t = clf41[i]\n",
    "            if clf41_index[i] in range(0,4):\n",
    "                test_data = phychem\n",
    "            elif clf41_index[i] in range(4,8):\n",
    "                test_data = phychem_ECFP4\n",
    "            else:\n",
    "                test_data = ECFP4\n",
    "            clf41_preds.append(t[0].predict(t[1].transform(test_data)))\n",
    "\n",
    "        for i in range(len(clf40)):\n",
    "            t = clf40[i]\n",
    "            if clf40_index[i] in range(0,4):\n",
    "                test_data = phychem\n",
    "            elif clf40_index[i] in range(4,8):\n",
    "                test_data = phychem_ECFP4\n",
    "            else:\n",
    "                test_data = ECFP4\n",
    "            clf40_preds.append(t[0].predict(t[1].transform(test_data)))\n",
    "\n",
    "        # col_names = ['clf0','clf1','clf2','clf3','clf4']\n",
    "        clf41_preds_dic = dict()\n",
    "        clf40_preds_dic = dict()\n",
    "        \n",
    "        for i  in range(self.topN):\n",
    "            key = 'clf'+str(i)\n",
    "            clf41_preds_dic[key] = clf41_preds[i]\n",
    "            clf40_preds_dic[key] = clf40_preds[i]\n",
    "        \n",
    "        clf41_preds_df = pd.DataFrame(clf41_preds_dic)\n",
    "        clf40_preds_df = pd.DataFrame(clf40_preds_dic)\n",
    "\n",
    "        clf41_voted_pred = clf41_preds_df.sum(axis=1).map(self.res_map)\n",
    "        clf40_voted_pred = clf40_preds_df.sum(axis=1).map(self.res_map)\n",
    "        \n",
    "        res = []\n",
    "\n",
    "        for i in range(len(prepred)):\n",
    "            if prepred[i] == 1:\n",
    "                res.append(clf41_voted_pred[i])\n",
    "            else:\n",
    "                res.append(clf40_voted_pred[i])\n",
    "\n",
    "        print('prepred',prepred)\n",
    "\n",
    "        print('clf41',clf41)\n",
    "        print('clf40',clf40)\n",
    "\n",
    "        print('clf41_preds_dic',clf41_preds_dic)\n",
    "        print('clf40_preds_dic',clf40_preds_dic)\n",
    "        \n",
    "        print('clf41_voted_pred',clf41_voted_pred)\n",
    "        print('clf40_voted_pred',clf40_voted_pred)\n",
    "\n",
    "        return res        "
   ]
  },
  {
   "cell_type": "markdown",
   "metadata": {},
   "source": [
    "寻找最佳的参数"
   ]
  },
  {
   "cell_type": "code",
   "execution_count": null,
   "metadata": {},
   "outputs": [],
   "source": [
    "scores = ['accuracy','precision','recall','f1_score']\n",
    "topNs = range(1,6,2)\n",
    "reports = []\n",
    "for score in scores :\n",
    "    for topN in topNs:\n",
    "        reports.append(\"{}-{}\".format(score,topN))\n",
    "        my_vote_clf = My_vote_select_clf(topN,score=score)\n",
    "        my_vote_clf.fit(X_train,y_train)\n",
    "        my_vote_clf_pred =  my_vote_clf.predict(X_test)\n",
    "        reports.append(metrics.classification_report(y_test,my_vote_clf_pred))\n",
    "        print(\"Done {}-{}\".format(score,topN))"
   ]
  },
  {
   "cell_type": "code",
   "execution_count": null,
   "metadata": {},
   "outputs": [],
   "source": [
    "for report in reports:\n",
    "    print(report)"
   ]
  },
  {
   "cell_type": "markdown",
   "metadata": {},
   "source": [
    "输出详情见 My_vote_select_clf 调参输出.txt"
   ]
  },
  {
   "cell_type": "markdown",
   "metadata": {},
   "source": [
    "最佳参数组合为 accuracy-5"
   ]
  },
  {
   "cell_type": "markdown",
   "metadata": {},
   "source": [
    "十折交叉验证得到最终的结果"
   ]
  },
  {
   "cell_type": "code",
   "execution_count": null,
   "metadata": {},
   "outputs": [],
   "source": [
    "my_cross_validate_score(My_vote_select_clf(5,score='accuracy'),X,label,cv=10,mean=True)"
   ]
  },
  {
   "cell_type": "markdown",
   "metadata": {},
   "source": [
    "输出：   \n",
    "{'accuracy': 0.6731493506493507,  \n",
    " 'f1_score': 0.6161528728746226,  \n",
    " 'auc': 0.0,  \n",
    " 'recall_0': 0.45555555555555555,  \n",
    " 'recall_1': 0.7780938833570412,  \n",
    " 'precision_0': 0.495771676294122,  \n",
    " 'precision_1': 0.7493609400570473}   "
   ]
  },
  {
   "cell_type": "markdown",
   "metadata": {},
   "source": [
    "### 上采样"
   ]
  },
  {
   "cell_type": "markdown",
   "metadata": {},
   "source": [
    "由于数据由些许不均衡，所以考虑引入上采样来提升结果"
   ]
  },
  {
   "cell_type": "code",
   "execution_count": 48,
   "metadata": {},
   "outputs": [],
   "source": [
    "class My_up_sampler():\n",
    "    def __init__(self):\n",
    "        pass\n",
    "    \n",
    "    def up_sample(self,X_train,y_train):\n",
    "        index_1 = y_train[y_train == 1].index\n",
    "        index_0 = y_train[y_train == 0].index\n",
    "        X_train_0 = X_train.loc[index_0]\n",
    "        y_train_0 = y_train.loc[index_0]\n",
    "        scale = len(index_1)/len(index_0)\n",
    "        # print('scale:',scale)\n",
    "        ret_X = copy.deepcopy(X_train)\n",
    "        ret_y = copy.deepcopy(y_train)\n",
    "        for i in range(math.ceil(scale)-1):\n",
    "            ret_X = ret_X.append(X_train_0)\n",
    "            ret_y = ret_y.append(y_train_0)\n",
    "        return ret_X,ret_y  \n"
   ]
  },
  {
   "cell_type": "markdown",
   "metadata": {},
   "source": [
    "测试上采样器"
   ]
  },
  {
   "cell_type": "code",
   "execution_count": 49,
   "metadata": {},
   "outputs": [
    {
     "name": "stdout",
     "output_type": "stream",
     "text": [
      "(7, 3226)\n",
      "(7,)\n",
      "(11, 3226)\n",
      "(11,)\n"
     ]
    }
   ],
   "source": [
    "test_index = [1,2,3,4,5,408,409]\n",
    "test_df_X = X.loc[test_index]\n",
    "test_df_y = label.loc[test_index]\n",
    "\n",
    "print(test_df_X.shape)\n",
    "print(test_df_y.shape)\n",
    "\n",
    "my_up_sampler = My_up_sampler()\n",
    "test_df_X,test_df_y = my_up_sampler.up_sample(test_df_X,test_df_y)\n",
    "# my_up_sampler.up_sample(test_df_X,test_df_y)\n",
    "\n",
    "print(test_df_X.shape)\n",
    "print(test_df_y.shape)"
   ]
  },
  {
   "cell_type": "markdown",
   "metadata": {},
   "source": [
    "### 特征选择+预分类+投票+上采样"
   ]
  },
  {
   "cell_type": "markdown",
   "metadata": {},
   "source": [
    "SelectFromModel可使用K值来调整阈值的范围，所以我们将它设为参数，并在之后进行调参"
   ]
  },
  {
   "cell_type": "code",
   "execution_count": 55,
   "metadata": {},
   "outputs": [],
   "source": [
    "class My_vote_select_with_up_sample_clf():\n",
    "    def __init__(self, topN,score = 'recall',offset = 0,k=1):\n",
    "        #使用phychem进行训练的基分类器\n",
    "        #KNN不支持特征选择\n",
    "        GDBT_phychem = GradientBoostingClassifier()\n",
    "        RandomForest_phychem = RandomForestClassifier()\n",
    "        XGB_phychem = xgb.XGBClassifier(verbosity=0,use_label_encoder=False)\n",
    "        SVC_phychem = SVC(kernel=\"linear\")\n",
    "        # KNN_phychem = KNeighborsClassifier()\n",
    "        #使用ECFP4_phychem进行训练的基分类器\n",
    "        RandomForest_ECFP4_phychem = RandomForestClassifier()\n",
    "        ExtraTree_ECFP4_phychem = ExtraTreeClassifier()\n",
    "        SVC_ECFP4_phychem = SVC(kernel=\"linear\")\n",
    "        LinearSVC_ECFP4_phychem = LinearSVC(dual=False)\n",
    "        # KNN_ECFP4_phychem = KNeighborsClassifier()\n",
    "        #使用ECFP4进行训练的基分类器\n",
    "        RandomForest_ECFP4 = RandomForestClassifier()\n",
    "        GDBT_ECFP4 = GradientBoostingClassifier()\n",
    "        SVC_ECFP4 = SVC(kernel=\"linear\")\n",
    "        LinearSVC_ECFP4 = LinearSVC(dual=False)\n",
    "        # KNN_ECFP4 = KNeighborsClassifier()\n",
    "        \n",
    "        self.base_als_phychem = [GDBT_phychem,RandomForest_phychem,XGB_phychem,SVC_phychem]\n",
    "        self.base_als_ECFP4_phychem = [RandomForest_ECFP4_phychem,ExtraTree_ECFP4_phychem,SVC_ECFP4_phychem,LinearSVC_ECFP4_phychem]\n",
    "        self.base_als_ECFP4 = [RandomForest_ECFP4,GDBT_ECFP4,SVC_ECFP4,LinearSVC_ECFP4]\n",
    "        self.all_base_algo = self.base_als_phychem+self.base_als_ECFP4_phychem+self.base_als_ECFP4\n",
    "        self.algo_names = ['GDBT_phychem','RandomForest_phychem','XGB_phychem','SVC_phychem',\n",
    "        'RandomForest_ECFP4_phychem','ExtraTree_ECFP4_phychem','SVC_ECFP4_phychem','LinearSVC_ECFP4_phychem',\n",
    "        'RandomForest_ECFP4','GDBT_ECFP4','SVC_ECFP4','LinearSVC_ECFP4']\n",
    "        selectors = []\n",
    "        self.k = k\n",
    "        threshold = \"{}*mean\".format(self.k)\n",
    "        for algo in self.all_base_algo:\n",
    "            selectors.append(SelectFromModel(estimator = algo,threshold=threshold))\n",
    "        self.algo_selector_set = list(zip(self.all_base_algo,selectors,self.algo_names))\n",
    "\n",
    "        self.res_dic = dict()\n",
    "        self.keys = ['accuracy','f1_score','auc','recall_0','recall_1','precision_0','precision_1']\n",
    "\n",
    "        self.kmeans = KMeans(n_clusters=2)\n",
    "        self.prepredictor = My_pre_clus()\n",
    "        self.topN = topN\n",
    "        self.score = score\n",
    "        self.offset = offset\n",
    "\n",
    "    def res_map(self,x):\n",
    "        thres = int(self.topN/2)+self.offset\n",
    "        # print(thres)\n",
    "        if x<=thres:\n",
    "            return 0\n",
    "        else:\n",
    "            return 1\n",
    "        \n",
    "    def fit(self,X_train,y_train):\n",
    "        my_up_sampler = My_up_sampler()\n",
    "        # print('X_train.shape',X_train.shape)\n",
    "        # print('y_train.shape',y_train.shape)\n",
    "        X,y = my_up_sampler.up_sample(X_train,y_train)\n",
    "        # print(X.shape)\n",
    "        # print(y.shape)\n",
    "        ECFP4 = X.iloc[:,0:2048]\n",
    "        phychem = X.iloc[:,2048:2248]\n",
    "        L7 = X.iloc[:,2248:]\n",
    "        phychem_ECFP4 = pd.concat([phychem,ECFP4],axis=1)\n",
    "\n",
    "        for key in self.keys:\n",
    "            self.res_dic[key] = []\n",
    "\n",
    "        for i in range(len(self.algo_selector_set)):\n",
    "            t=self.algo_selector_set[i]\n",
    "            # print('fitting:',t[2])\n",
    "            if i in range(4):\n",
    "                t[1].fit(phychem,y)\n",
    "                train_selected = t[1].transform(phychem)\n",
    "            elif i in range(4,8):\n",
    "                t[1].fit(phychem_ECFP4,y)\n",
    "                train_selected = t[1].transform(phychem_ECFP4)\n",
    "            else:\n",
    "                t[1].fit(ECFP4,y)\n",
    "                train_selected = t[1].transform(ECFP4)\n",
    "            \n",
    "            train_selected = pd.DataFrame(train_selected)\n",
    "            temp_res = my_cross_validate_score(t[0],train_selected,y,cv=10,mean=True)\n",
    "            for key in self.keys:\n",
    "                self.res_dic[key].append(temp_res[key])\n",
    "\n",
    "        pca_2=decomposition.PCA(n_components=2)\n",
    "        L7_2d = pca_2.fit_transform(L7)\n",
    "        self.kmeans.fit(L7_2d)\n",
    "        # self.kmeans.fit(L7)\n",
    "        # self.prepredictor.fit(X_train,y_train)\n",
    "\n",
    "        # print(self.res_dic)\n",
    "    def predict(self,X_test):\n",
    "        ECFP4 = X_test.iloc[:,0:2048]\n",
    "        phychem = X_test.iloc[:,2048:2248]\n",
    "        L7 = X_test.iloc[:,2248:]\n",
    "        phychem_ECFP4 = pd.concat([phychem,ECFP4],axis=1)\n",
    "        \n",
    "        if self.score in ['recall','precision']:\n",
    "            clf41_index = pd.DataFrame(self.res_dic).sort_values([self.score+'_1'],ascending=False)[:self.topN].index\n",
    "            clf40_index = pd.DataFrame(self.res_dic).sort_values([self.score+'_0'],ascending=False)[:self.topN].index\n",
    "        else:\n",
    "            clf41_index = pd.DataFrame(self.res_dic).sort_values([self.score],ascending=False)[:self.topN].index\n",
    "            clf40_index = pd.DataFrame(self.res_dic).sort_values([self.score],ascending=False)[:self.topN].index \n",
    "\n",
    "\n",
    "        clf41 = []\n",
    "        clf40 = []\n",
    "        for i,j in zip(clf41_index,clf40_index):\n",
    "            clf41.append(copy.deepcopy(self.algo_selector_set[i]))\n",
    "            clf40.append(copy.deepcopy(self.algo_selector_set[j]))\n",
    "        \n",
    "        pca_2=decomposition.PCA(n_components=2)\n",
    "        L7_2d = pca_2.fit_transform(L7)\n",
    "        prepred = self.kmeans.predict(L7_2d)\n",
    "        # prepred = self.kmeans.predict(L7)\n",
    "        # prepred = self.prepredictor.predict(X_test)\n",
    "        clf41_preds = []\n",
    "        clf40_preds = []\n",
    "\n",
    "        for i in range(len(clf41)):\n",
    "            t = clf41[i]\n",
    "            if clf41_index[i] in range(0,4):\n",
    "                test_data = phychem\n",
    "            elif clf41_index[i] in range(4,8):\n",
    "                test_data = phychem_ECFP4\n",
    "            else:\n",
    "                test_data = ECFP4\n",
    "            clf41_preds.append(t[0].predict(t[1].transform(test_data)))\n",
    "\n",
    "        for i in range(len(clf40)):\n",
    "            t = clf40[i]\n",
    "            if clf40_index[i] in range(0,4):\n",
    "                test_data = phychem\n",
    "            elif clf40_index[i] in range(4,8):\n",
    "                test_data = phychem_ECFP4\n",
    "            else:\n",
    "                test_data = ECFP4\n",
    "            clf40_preds.append(t[0].predict(t[1].transform(test_data)))\n",
    "\n",
    "        # col_names = ['clf0','clf1','clf2','clf3','clf4']\n",
    "        clf41_preds_dic = dict()\n",
    "        clf40_preds_dic = dict()\n",
    "        \n",
    "        for i  in range(self.topN):\n",
    "            key = 'clf'+str(i)\n",
    "            clf41_preds_dic[key] = clf41_preds[i]\n",
    "            clf40_preds_dic[key] = clf40_preds[i]\n",
    "        \n",
    "        clf41_preds_df = pd.DataFrame(clf41_preds_dic)\n",
    "        clf40_preds_df = pd.DataFrame(clf40_preds_dic)\n",
    "\n",
    "        clf41_voted_pred = clf41_preds_df.sum(axis=1).map(self.res_map)\n",
    "        clf40_voted_pred = clf40_preds_df.sum(axis=1).map(self.res_map)\n",
    "        \n",
    "        res = []\n",
    "\n",
    "        for i in range(len(prepred)):\n",
    "            if prepred[i] == 1:\n",
    "                res.append(clf41_voted_pred[i])\n",
    "            else:\n",
    "                res.append(clf40_voted_pred[i])\n",
    "\n",
    "        # print('prepred',prepred)\n",
    "        # print('clf41',clf41)\n",
    "        # print('clf40',clf40)\n",
    "        # print('clf41_preds_dic',clf41_preds_dic)\n",
    "        # print('clf40_preds_dic',clf40_preds_dic)\n",
    "        # print('clf41_voted_pred',clf41_voted_pred)\n",
    "        # print('clf40_voted_pred',clf40_voted_pred)\n",
    "        return res        "
   ]
  },
  {
   "cell_type": "markdown",
   "metadata": {},
   "source": [
    "寻找最佳参数"
   ]
  },
  {
   "cell_type": "code",
   "execution_count": null,
   "metadata": {},
   "outputs": [],
   "source": [
    "scores = ['precision','recall']\n",
    "krange = np.arange(0.8,1.3,0.05)\n",
    "topNs = range(1,6,2)\n",
    "reports = []\n",
    "\n",
    "for score in scores:\n",
    "    for topN in topNs:\n",
    "        for k in krange:\n",
    "            reports.append(\"{}-{}\".format(score,topN))\n",
    "            my_vote_clf = My_vote_select_with_up_sample_clf(topN,score=score,k=k)\n",
    "            my_vote_clf.fit(X_train,y_train)\n",
    "            my_vote_clf_pred =  my_vote_clf.predict(X_test)\n",
    "            reports.append(metrics.classification_report(y_test,my_vote_clf_pred))\n",
    "            print(\"Done {}-{}-{}\".format(score,topN,k))\n",
    "for report in reports:\n",
    "    print(report)\n"
   ]
  },
  {
   "cell_type": "markdown",
   "metadata": {},
   "source": [
    "输出详情见 My_vote_select_with_up_sample_clf调参输出.txt  "
   ]
  },
  {
   "cell_type": "markdown",
   "metadata": {},
   "source": [
    "对单次验证成绩较好的参数使用十折交叉验证"
   ]
  },
  {
   "cell_type": "code",
   "execution_count": 51,
   "metadata": {},
   "outputs": [],
   "source": [
    "paras = [('precision',1,0.85),('precision',3,0.9),('precision',5,1.1),('recall',3,0.85),('recall',3,0.95),('recall',5,0.8)]"
   ]
  },
  {
   "cell_type": "markdown",
   "metadata": {},
   "source": [
    "十折交叉验证"
   ]
  },
  {
   "cell_type": "code",
   "execution_count": 56,
   "metadata": {},
   "outputs": [
    {
     "name": "stderr",
     "output_type": "stream",
     "text": [
      "100%|██████████| 6/6 [41:07<00:00, 411.26s/it]\n"
     ]
    }
   ],
   "source": [
    "reports = []\n",
    "for t in  tqdm(paras):\n",
    "    report =  my_cross_validate_score(My_vote_select_with_up_sample_clf(t[1],score=t[0],k=t[2]),X,label,cv = 10,mean=True)\n",
    "    reports.append(report)\n"
   ]
  },
  {
   "cell_type": "code",
   "execution_count": 57,
   "metadata": {},
   "outputs": [
    {
     "name": "stdout",
     "output_type": "stream",
     "text": [
      "{'accuracy': 0.6912987012987013, 'f1_score': 0.6478879624998242, 'auc': 0.0, 'recall_0': 0.5444444444444445, 'recall_1': 0.7620910384068279, 'precision_0': 0.531557310078982, 'precision_1': 0.7799827938570332}\n",
      "{'accuracy': 0.6732467532467532, 'f1_score': 0.6242415420351847, 'auc': 0.0, 'recall_0': 0.5055555555555555, 'recall_1': 0.754054054054054, 'precision_0': 0.49850925682504627, 'precision_1': 0.7635529802035759}\n",
      "{'accuracy': 0.7022077922077923, 'f1_score': 0.6505699486738523, 'auc': 0.0, 'recall_0': 0.5166666666666666, 'recall_1': 0.7919630156472263, 'precision_0': 0.5580092422197686, 'precision_1': 0.7768211127692758}\n",
      "{'accuracy': 0.7091558441558441, 'f1_score': 0.6593000644996472, 'auc': 0.0, 'recall_0': 0.5166666666666666, 'recall_1': 0.801778093883357, 'precision_0': 0.5582622421438211, 'precision_1': 0.7770710282401364}\n",
      "{'accuracy': 0.7038636363636364, 'f1_score': 0.6543814492221692, 'auc': 0.0, 'recall_0': 0.5166666666666668, 'recall_1': 0.793954480796586, 'precision_0': 0.5484131473102061, 'precision_1': 0.7760949638457483}\n",
      "{'accuracy': 0.684448051948052, 'f1_score': 0.6432855910685548, 'auc': 0.0, 'recall_0': 0.538888888888889, 'recall_1': 0.7547652916073968, 'precision_0': 0.5266865539001762, 'precision_1': 0.7729660029414739}\n"
     ]
    }
   ],
   "source": [
    "for report in reports:\n",
    "    print(report)"
   ]
  },
  {
   "cell_type": "markdown",
   "metadata": {},
   "source": [
    "### 尝试选择出最佳的特征选择阈值"
   ]
  },
  {
   "cell_type": "markdown",
   "metadata": {},
   "source": [
    "尝试使用LassoCV()自动选择出最适合当前分类器的特征选择阈值，但是由于自动选择出的阈值可能使训练数据中的所有属性都被剔除，原因未知，尝试解决之后无果，故放弃。"
   ]
  },
  {
   "cell_type": "code",
   "execution_count": 116,
   "metadata": {},
   "outputs": [],
   "source": [
    "from sklearn.linear_model import LassoCV\n",
    "def getBestThresholdForSelectFromModel(X, y, cv=5):\n",
    "    print(\"finding best threshold for SelectFromModel...\")\n",
    "    # estimator = estimator()\n",
    "    clf = LassoCV(cv=cv).fit(X, y)\n",
    "    importance = np.abs(clf.coef_)\n",
    "    coef = pd.Series(importance, index=X.columns)\n",
    "    sort_res = coef.sort_values()\n",
    "    threshold = sort_res[len(sort_res) - 1]\n",
    "    return threshold\n"
   ]
  },
  {
   "cell_type": "code",
   "execution_count": 120,
   "metadata": {},
   "outputs": [],
   "source": [
    "class My_vote_LassoSelect_with_up_sample_clf():\n",
    "    def __init__(self, topN,score = 'recall',offset = 0):\n",
    "        #使用phychem进行训练的基分类器\n",
    "        #KNN不支持特征选择\n",
    "        GDBT_phychem = GradientBoostingClassifier()\n",
    "        RandomForest_phychem = RandomForestClassifier()\n",
    "        XGB_phychem = xgb.XGBClassifier(verbosity=0,use_label_encoder=False)\n",
    "        SVC_phychem = SVC(kernel=\"linear\")\n",
    "        # KNN_phychem = KNeighborsClassifier()\n",
    "        #使用ECFP4_phychem进行训练的基分类器\n",
    "        RandomForest_ECFP4_phychem = RandomForestClassifier()\n",
    "        ExtraTree_ECFP4_phychem = ExtraTreeClassifier()\n",
    "        SVC_ECFP4_phychem = SVC(kernel=\"linear\")\n",
    "        LinearSVC_ECFP4_phychem = LinearSVC()\n",
    "        # KNN_ECFP4_phychem = KNeighborsClassifier()\n",
    "        #使用ECFP4进行训练的基分类器\n",
    "        RandomForest_ECFP4 = RandomForestClassifier()\n",
    "        GDBT_ECFP4 = GradientBoostingClassifier()\n",
    "        SVC_ECFP4 = SVC(kernel=\"linear\")\n",
    "        LinearSVC_ECFP4 = LinearSVC()\n",
    "        # KNN_ECFP4 = KNeighborsClassifier()\n",
    "        \n",
    "        self.base_als_phychem = [GDBT_phychem,RandomForest_phychem,XGB_phychem,SVC_phychem]\n",
    "        self.base_als_ECFP4_phychem = [RandomForest_ECFP4_phychem,ExtraTree_ECFP4_phychem,SVC_ECFP4_phychem,LinearSVC_ECFP4_phychem]\n",
    "        self.base_als_ECFP4 = [RandomForest_ECFP4,GDBT_ECFP4,SVC_ECFP4,LinearSVC_ECFP4]\n",
    "        self.all_base_algo = self.base_als_phychem+self.base_als_ECFP4_phychem+self.base_als_ECFP4\n",
    "        self.algo_names = ['GDBT_phychem','RandomForest_phychem','XGB_phychem','SVC_phychem',\n",
    "        'RandomForest_ECFP4_phychem','ExtraTree_ECFP4_phychem','SVC_ECFP4_phychem','LinearSVC_ECFP4_phychem',\n",
    "        'RandomForest_ECFP4','GDBT_ECFP4','SVC_ECFP4','LinearSVC_ECFP4']\n",
    "        selectors = []\n",
    "        for algo in self.all_base_algo:\n",
    "            selectors.append(SelectFromModel(estimator = algo))\n",
    "        self.algo_selector_set = list(zip(self.all_base_algo,selectors,self.algo_names))\n",
    "\n",
    "        self.res_dic = dict()\n",
    "        self.keys = ['accuracy','f1_score','auc','recall_0','recall_1','precision_0','precision_1']\n",
    "\n",
    "        self.kmeans = KMeans(n_clusters=2)\n",
    "        self.prepredictor = My_pre_clus()\n",
    "        self.topN = topN\n",
    "        self.score = score\n",
    "        self.offset = offset\n",
    "\n",
    "    def res_map(self,x):\n",
    "        thres = int(self.topN/2)+self.offset\n",
    "        # print(thres)\n",
    "        if x<=thres:\n",
    "            return 0\n",
    "        else:\n",
    "            return 1\n",
    "        \n",
    "    def fit(self,X_train,y_train):\n",
    "        my_up_sampler = My_up_sampler()\n",
    "        # print('X_train.shape',X_train.shape)\n",
    "        # print('y_train.shape',y_train.shape)\n",
    "        X,y = my_up_sampler.up_sample(X_train,y_train)\n",
    "        # print(X.shape)\n",
    "        # print(y.shape)\n",
    "        ECFP4 = X.iloc[:,0:2048]\n",
    "        phychem = X.iloc[:,2048:2248]\n",
    "        L7 = X.iloc[:,2248:]\n",
    "        phychem_ECFP4 = pd.concat([phychem,ECFP4],axis=1)\n",
    "\n",
    "        for key in self.keys:\n",
    "            self.res_dic[key] = []\n",
    "\n",
    "        for i in range(len(self.algo_selector_set)):\n",
    "            t=self.algo_selector_set[i]\n",
    "\n",
    "            # print('fitting:',t[2])\n",
    "            if i in range(4):\n",
    "                t[1].threshold = getBestThresholdForSelectFromModel(phychem,y)\n",
    "                t[1].fit(phychem,y)\n",
    "                train_selected = t[1].transform(phychem)\n",
    "            elif i in range(4,8):\n",
    "                t[1].threshold = getBestThresholdForSelectFromModel(phychem_ECFP4,y)\n",
    "                t[1].fit(phychem_ECFP4,y)\n",
    "                train_selected = t[1].transform(phychem_ECFP4)\n",
    "            else:\n",
    "                t[1].threshold = getBestThresholdForSelectFromModel(ECFP4,y)\n",
    "                t[1].fit(ECFP4,y)\n",
    "                train_selected = t[1].transform(ECFP4)\n",
    "            \n",
    "            train_selected = pd.DataFrame(train_selected)\n",
    "            print('train_selected',train_selected.shape)\n",
    "            temp_res = my_cross_validate_score(t[0],train_selected,y,cv=10,mean=True)\n",
    "            for key in self.keys:\n",
    "                self.res_dic[key].append(temp_res[key])\n",
    "\n",
    "        self.kmeans.fit(L7)\n",
    "        # self.prepredictor.fit(X_train,y_train)\n",
    "\n",
    "        # print(self.res_dic)\n",
    "    def predict(self,X_test):\n",
    "        ECFP4 = X_test.iloc[:,0:2048]\n",
    "        phychem = X_test.iloc[:,2048:2248]\n",
    "        L7 = X_test.iloc[:,2248:]\n",
    "        phychem_ECFP4 = pd.concat([phychem,ECFP4],axis=1)\n",
    "        \n",
    "        if self.score in ['recall','precision']:\n",
    "            clf41_index = pd.DataFrame(self.res_dic).sort_values([self.score+'_1'],ascending=False)[:self.topN].index\n",
    "            clf40_index = pd.DataFrame(self.res_dic).sort_values([self.score+'_0'],ascending=False)[:self.topN].index\n",
    "        else:\n",
    "            clf41_index = pd.DataFrame(self.res_dic).sort_values([self.score],ascending=False)[:self.topN].index\n",
    "            clf40_index = pd.DataFrame(self.res_dic).sort_values([self.score],ascending=False)[:self.topN].index \n",
    "\n",
    "\n",
    "        clf41 = []\n",
    "        clf40 = []\n",
    "        for i,j in zip(clf41_index,clf40_index):\n",
    "            clf41.append(copy.deepcopy(self.algo_selector_set[i]))\n",
    "            clf40.append(copy.deepcopy(self.algo_selector_set[j]))\n",
    "        \n",
    "        prepred = self.kmeans.predict(L7)\n",
    "        # prepred = self.prepredictor.predict(X_test)\n",
    "        clf41_preds = []\n",
    "        clf40_preds = []\n",
    "\n",
    "        for i in range(len(clf41)):\n",
    "            t = clf41[i]\n",
    "            if clf41_index[i] in range(0,4):\n",
    "                test_data = phychem\n",
    "            elif clf41_index[i] in range(4,8):\n",
    "                test_data = phychem_ECFP4\n",
    "            else:\n",
    "                test_data = ECFP4\n",
    "            clf41_preds.append(t[0].predict(t[1].transform(test_data)))\n",
    "\n",
    "        for i in range(len(clf40)):\n",
    "            t = clf40[i]\n",
    "            if clf40_index[i] in range(0,4):\n",
    "                test_data = phychem\n",
    "            elif clf40_index[i] in range(4,8):\n",
    "                test_data = phychem_ECFP4\n",
    "            else:\n",
    "                test_data = ECFP4\n",
    "            clf40_preds.append(t[0].predict(t[1].transform(test_data)))\n",
    "\n",
    "        # col_names = ['clf0','clf1','clf2','clf3','clf4']\n",
    "        clf41_preds_dic = dict()\n",
    "        clf40_preds_dic = dict()\n",
    "        \n",
    "        for i  in range(self.topN):\n",
    "            key = 'clf'+str(i)\n",
    "            clf41_preds_dic[key] = clf41_preds[i]\n",
    "            clf40_preds_dic[key] = clf40_preds[i]\n",
    "        \n",
    "        clf41_preds_df = pd.DataFrame(clf41_preds_dic)\n",
    "        clf40_preds_df = pd.DataFrame(clf40_preds_dic)\n",
    "\n",
    "        clf41_voted_pred = clf41_preds_df.sum(axis=1).map(self.res_map)\n",
    "        clf40_voted_pred = clf40_preds_df.sum(axis=1).map(self.res_map)\n",
    "        \n",
    "        res = []\n",
    "\n",
    "        for i in range(len(prepred)):\n",
    "            if prepred[i] == 1:\n",
    "                res.append(clf41_voted_pred[i])\n",
    "            else:\n",
    "                res.append(clf40_voted_pred[i])\n",
    "\n",
    "        # print('prepred',prepred)\n",
    "        # print('clf41',clf41)\n",
    "        # print('clf40',clf40)\n",
    "        # print('clf41_preds_dic',clf41_preds_dic)\n",
    "        # print('clf40_preds_dic',clf40_preds_dic)\n",
    "        # print('clf41_voted_pred',clf41_voted_pred)\n",
    "        # print('clf40_voted_pred',clf40_voted_pred)\n",
    "        return res        "
   ]
  },
  {
   "cell_type": "code",
   "execution_count": 121,
   "metadata": {},
   "outputs": [
    {
     "name": "stdout",
     "output_type": "stream",
     "text": [
      "scale: 2.074074074074074\n",
      "finding best threshold for SelectFromModel...\n"
     ]
    },
    {
     "name": "stderr",
     "output_type": "stream",
     "text": [
      "e:\\anaconda\\lib\\site-packages\\sklearn\\linear_model\\_coordinate_descent.py:472: ConvergenceWarning: Objective did not converge. You might want to increase the number of iterations. Duality gap: 0.0413148870384461, tolerance: 0.01264931506849316\n",
      "  tol, rng, random, positive)\n",
      "e:\\anaconda\\lib\\site-packages\\sklearn\\linear_model\\_coordinate_descent.py:472: ConvergenceWarning: Objective did not converge. You might want to increase the number of iterations. Duality gap: 0.0579725406066558, tolerance: 0.01264931506849316\n",
      "  tol, rng, random, positive)\n",
      "e:\\anaconda\\lib\\site-packages\\sklearn\\linear_model\\_coordinate_descent.py:472: ConvergenceWarning: Objective did not converge. You might want to increase the number of iterations. Duality gap: 0.06260165835120546, tolerance: 0.01264931506849316\n",
      "  tol, rng, random, positive)\n",
      "e:\\anaconda\\lib\\site-packages\\sklearn\\linear_model\\_coordinate_descent.py:472: ConvergenceWarning: Objective did not converge. You might want to increase the number of iterations. Duality gap: 0.053135275064576604, tolerance: 0.01264931506849316\n",
      "  tol, rng, random, positive)\n",
      "e:\\anaconda\\lib\\site-packages\\sklearn\\linear_model\\_coordinate_descent.py:472: ConvergenceWarning: Objective did not converge. You might want to increase the number of iterations. Duality gap: 0.03906617326791206, tolerance: 0.01264931506849316\n",
      "  tol, rng, random, positive)\n",
      "e:\\anaconda\\lib\\site-packages\\sklearn\\linear_model\\_coordinate_descent.py:472: ConvergenceWarning: Objective did not converge. You might want to increase the number of iterations. Duality gap: 0.0236593735413706, tolerance: 0.01264931506849316\n",
      "  tol, rng, random, positive)\n",
      "e:\\anaconda\\lib\\site-packages\\sklearn\\linear_model\\_coordinate_descent.py:472: ConvergenceWarning: Objective did not converge. You might want to increase the number of iterations. Duality gap: 0.12465687799425496, tolerance: 0.01264931506849316\n",
      "  tol, rng, random, positive)\n",
      "e:\\anaconda\\lib\\site-packages\\sklearn\\linear_model\\_coordinate_descent.py:472: ConvergenceWarning: Objective did not converge. You might want to increase the number of iterations. Duality gap: 0.11130536673979918, tolerance: 0.01264931506849316\n",
      "  tol, rng, random, positive)\n",
      "e:\\anaconda\\lib\\site-packages\\sklearn\\linear_model\\_coordinate_descent.py:472: ConvergenceWarning: Objective did not converge. You might want to increase the number of iterations. Duality gap: 0.15728820640956087, tolerance: 0.01264931506849316\n",
      "  tol, rng, random, positive)\n",
      "e:\\anaconda\\lib\\site-packages\\sklearn\\linear_model\\_coordinate_descent.py:472: ConvergenceWarning: Objective did not converge. You might want to increase the number of iterations. Duality gap: 0.18072515238404208, tolerance: 0.01264931506849316\n",
      "  tol, rng, random, positive)\n",
      "e:\\anaconda\\lib\\site-packages\\sklearn\\linear_model\\_coordinate_descent.py:472: ConvergenceWarning: Objective did not converge. You might want to increase the number of iterations. Duality gap: 0.16864861993977343, tolerance: 0.01264931506849316\n",
      "  tol, rng, random, positive)\n",
      "e:\\anaconda\\lib\\site-packages\\sklearn\\linear_model\\_coordinate_descent.py:472: ConvergenceWarning: Objective did not converge. You might want to increase the number of iterations. Duality gap: 0.15006452930248315, tolerance: 0.01264931506849316\n",
      "  tol, rng, random, positive)\n",
      "e:\\anaconda\\lib\\site-packages\\sklearn\\linear_model\\_coordinate_descent.py:472: ConvergenceWarning: Objective did not converge. You might want to increase the number of iterations. Duality gap: 0.13337249031353338, tolerance: 0.01264931506849316\n",
      "  tol, rng, random, positive)\n",
      "e:\\anaconda\\lib\\site-packages\\sklearn\\linear_model\\_coordinate_descent.py:472: ConvergenceWarning: Objective did not converge. You might want to increase the number of iterations. Duality gap: 0.11846564864026732, tolerance: 0.01264931506849316\n",
      "  tol, rng, random, positive)\n",
      "e:\\anaconda\\lib\\site-packages\\sklearn\\linear_model\\_coordinate_descent.py:472: ConvergenceWarning: Objective did not converge. You might want to increase the number of iterations. Duality gap: 0.15655653057068974, tolerance: 0.01264931506849316\n",
      "  tol, rng, random, positive)\n",
      "e:\\anaconda\\lib\\site-packages\\sklearn\\linear_model\\_coordinate_descent.py:472: ConvergenceWarning: Objective did not converge. You might want to increase the number of iterations. Duality gap: 0.22287687883410712, tolerance: 0.01264931506849316\n",
      "  tol, rng, random, positive)\n",
      "e:\\anaconda\\lib\\site-packages\\sklearn\\linear_model\\_coordinate_descent.py:472: ConvergenceWarning: Objective did not converge. You might want to increase the number of iterations. Duality gap: 0.2979533478551204, tolerance: 0.01264931506849316\n",
      "  tol, rng, random, positive)\n",
      "e:\\anaconda\\lib\\site-packages\\sklearn\\linear_model\\_coordinate_descent.py:472: ConvergenceWarning: Objective did not converge. You might want to increase the number of iterations. Duality gap: 0.35232214643932735, tolerance: 0.01264931506849316\n",
      "  tol, rng, random, positive)\n",
      "e:\\anaconda\\lib\\site-packages\\sklearn\\linear_model\\_coordinate_descent.py:472: ConvergenceWarning: Objective did not converge. You might want to increase the number of iterations. Duality gap: 0.36435528440408405, tolerance: 0.01264931506849316\n",
      "  tol, rng, random, positive)\n",
      "e:\\anaconda\\lib\\site-packages\\sklearn\\linear_model\\_coordinate_descent.py:472: ConvergenceWarning: Objective did not converge. You might want to increase the number of iterations. Duality gap: 0.3789085926350353, tolerance: 0.01264931506849316\n",
      "  tol, rng, random, positive)\n",
      "e:\\anaconda\\lib\\site-packages\\sklearn\\linear_model\\_coordinate_descent.py:472: ConvergenceWarning: Objective did not converge. You might want to increase the number of iterations. Duality gap: 0.3871548743270097, tolerance: 0.01264931506849316\n",
      "  tol, rng, random, positive)\n",
      "e:\\anaconda\\lib\\site-packages\\sklearn\\linear_model\\_coordinate_descent.py:472: ConvergenceWarning: Objective did not converge. You might want to increase the number of iterations. Duality gap: 0.4081929581874917, tolerance: 0.01264931506849316\n",
      "  tol, rng, random, positive)\n",
      "e:\\anaconda\\lib\\site-packages\\sklearn\\linear_model\\_coordinate_descent.py:472: ConvergenceWarning: Objective did not converge. You might want to increase the number of iterations. Duality gap: 0.40095876621812465, tolerance: 0.01264931506849316\n",
      "  tol, rng, random, positive)\n",
      "e:\\anaconda\\lib\\site-packages\\sklearn\\linear_model\\_coordinate_descent.py:472: ConvergenceWarning: Objective did not converge. You might want to increase the number of iterations. Duality gap: 0.014018479116565175, tolerance: 0.01264931506849316\n",
      "  tol, rng, random, positive)\n",
      "e:\\anaconda\\lib\\site-packages\\sklearn\\linear_model\\_coordinate_descent.py:472: ConvergenceWarning: Objective did not converge. You might want to increase the number of iterations. Duality gap: 0.015508685842739567, tolerance: 0.01264931506849316\n",
      "  tol, rng, random, positive)\n",
      "e:\\anaconda\\lib\\site-packages\\sklearn\\linear_model\\_coordinate_descent.py:472: ConvergenceWarning: Objective did not converge. You might want to increase the number of iterations. Duality gap: 0.013364796099317289, tolerance: 0.01264931506849316\n",
      "  tol, rng, random, positive)\n",
      "e:\\anaconda\\lib\\site-packages\\sklearn\\linear_model\\_coordinate_descent.py:472: ConvergenceWarning: Objective did not converge. You might want to increase the number of iterations. Duality gap: 0.013872020419505304, tolerance: 0.01264931506849316\n",
      "  tol, rng, random, positive)\n",
      "e:\\anaconda\\lib\\site-packages\\sklearn\\linear_model\\_coordinate_descent.py:472: ConvergenceWarning: Objective did not converge. You might want to increase the number of iterations. Duality gap: 0.014044813547862134, tolerance: 0.01264931506849316\n",
      "  tol, rng, random, positive)\n",
      "e:\\anaconda\\lib\\site-packages\\sklearn\\linear_model\\_coordinate_descent.py:472: ConvergenceWarning: Objective did not converge. You might want to increase the number of iterations. Duality gap: 0.013468749270721503, tolerance: 0.01264931506849316\n",
      "  tol, rng, random, positive)\n",
      "e:\\anaconda\\lib\\site-packages\\sklearn\\linear_model\\_coordinate_descent.py:472: ConvergenceWarning: Objective did not converge. You might want to increase the number of iterations. Duality gap: 0.015898085670841056, tolerance: 0.01264931506849316\n",
      "  tol, rng, random, positive)\n",
      "e:\\anaconda\\lib\\site-packages\\sklearn\\linear_model\\_coordinate_descent.py:472: ConvergenceWarning: Objective did not converge. You might want to increase the number of iterations. Duality gap: 0.023345914614289143, tolerance: 0.01264931506849316\n",
      "  tol, rng, random, positive)\n",
      "e:\\anaconda\\lib\\site-packages\\sklearn\\linear_model\\_coordinate_descent.py:472: ConvergenceWarning: Objective did not converge. You might want to increase the number of iterations. Duality gap: 0.15989782486823145, tolerance: 0.01264931506849316\n",
      "  tol, rng, random, positive)\n",
      "e:\\anaconda\\lib\\site-packages\\sklearn\\linear_model\\_coordinate_descent.py:472: ConvergenceWarning: Objective did not converge. You might want to increase the number of iterations. Duality gap: 0.26212319187867905, tolerance: 0.01264931506849316\n",
      "  tol, rng, random, positive)\n",
      "e:\\anaconda\\lib\\site-packages\\sklearn\\linear_model\\_coordinate_descent.py:472: ConvergenceWarning: Objective did not converge. You might want to increase the number of iterations. Duality gap: 0.5640008797245031, tolerance: 0.01264931506849316\n",
      "  tol, rng, random, positive)\n",
      "e:\\anaconda\\lib\\site-packages\\sklearn\\linear_model\\_coordinate_descent.py:472: ConvergenceWarning: Objective did not converge. You might want to increase the number of iterations. Duality gap: 0.8937358717432176, tolerance: 0.01264931506849316\n",
      "  tol, rng, random, positive)\n",
      "e:\\anaconda\\lib\\site-packages\\sklearn\\linear_model\\_coordinate_descent.py:472: ConvergenceWarning: Objective did not converge. You might want to increase the number of iterations. Duality gap: 1.0782545876270646, tolerance: 0.01264931506849316\n",
      "  tol, rng, random, positive)\n",
      "e:\\anaconda\\lib\\site-packages\\sklearn\\linear_model\\_coordinate_descent.py:472: ConvergenceWarning: Objective did not converge. You might want to increase the number of iterations. Duality gap: 1.2006155398312472, tolerance: 0.01264931506849316\n",
      "  tol, rng, random, positive)\n",
      "e:\\anaconda\\lib\\site-packages\\sklearn\\linear_model\\_coordinate_descent.py:472: ConvergenceWarning: Objective did not converge. You might want to increase the number of iterations. Duality gap: 1.267571474654666, tolerance: 0.01264931506849316\n",
      "  tol, rng, random, positive)\n",
      "e:\\anaconda\\lib\\site-packages\\sklearn\\linear_model\\_coordinate_descent.py:472: ConvergenceWarning: Objective did not converge. You might want to increase the number of iterations. Duality gap: 1.223626705277816, tolerance: 0.01264931506849316\n",
      "  tol, rng, random, positive)\n",
      "e:\\anaconda\\lib\\site-packages\\sklearn\\linear_model\\_coordinate_descent.py:472: ConvergenceWarning: Objective did not converge. You might want to increase the number of iterations. Duality gap: 1.176053676145841, tolerance: 0.01264931506849316\n",
      "  tol, rng, random, positive)\n",
      "e:\\anaconda\\lib\\site-packages\\sklearn\\linear_model\\_coordinate_descent.py:472: ConvergenceWarning: Objective did not converge. You might want to increase the number of iterations. Duality gap: 1.1744864205033778, tolerance: 0.01264931506849316\n",
      "  tol, rng, random, positive)\n",
      "e:\\anaconda\\lib\\site-packages\\sklearn\\linear_model\\_coordinate_descent.py:472: ConvergenceWarning: Objective did not converge. You might want to increase the number of iterations. Duality gap: 1.122615017400264, tolerance: 0.01264931506849316\n",
      "  tol, rng, random, positive)\n",
      "e:\\anaconda\\lib\\site-packages\\sklearn\\linear_model\\_coordinate_descent.py:472: ConvergenceWarning: Objective did not converge. You might want to increase the number of iterations. Duality gap: 1.5987653985604453, tolerance: 0.01264931506849316\n",
      "  tol, rng, random, positive)\n",
      "e:\\anaconda\\lib\\site-packages\\sklearn\\linear_model\\_coordinate_descent.py:472: ConvergenceWarning: Objective did not converge. You might want to increase the number of iterations. Duality gap: 1.68257653641475, tolerance: 0.01264931506849316\n",
      "  tol, rng, random, positive)\n",
      "e:\\anaconda\\lib\\site-packages\\sklearn\\linear_model\\_coordinate_descent.py:472: ConvergenceWarning: Objective did not converge. You might want to increase the number of iterations. Duality gap: 0.14946161800619961, tolerance: 0.01644984802431611\n",
      "  tol, rng, random, positive)\n",
      "e:\\anaconda\\lib\\site-packages\\sklearn\\linear_model\\_coordinate_descent.py:472: ConvergenceWarning: Objective did not converge. You might want to increase the number of iterations. Duality gap: 0.2331679763556309, tolerance: 0.01644984802431611\n",
      "  tol, rng, random, positive)\n",
      "e:\\anaconda\\lib\\site-packages\\sklearn\\linear_model\\_coordinate_descent.py:472: ConvergenceWarning: Objective did not converge. You might want to increase the number of iterations. Duality gap: 0.26486946555323243, tolerance: 0.01644984802431611\n",
      "  tol, rng, random, positive)\n",
      "e:\\anaconda\\lib\\site-packages\\sklearn\\linear_model\\_coordinate_descent.py:472: ConvergenceWarning: Objective did not converge. You might want to increase the number of iterations. Duality gap: 0.44784537449213246, tolerance: 0.01644984802431611\n",
      "  tol, rng, random, positive)\n",
      "e:\\anaconda\\lib\\site-packages\\sklearn\\linear_model\\_coordinate_descent.py:472: ConvergenceWarning: Objective did not converge. You might want to increase the number of iterations. Duality gap: 0.6511494691987849, tolerance: 0.01644984802431611\n",
      "  tol, rng, random, positive)\n",
      "e:\\anaconda\\lib\\site-packages\\sklearn\\linear_model\\_coordinate_descent.py:472: ConvergenceWarning: Objective did not converge. You might want to increase the number of iterations. Duality gap: 0.7475772710303801, tolerance: 0.01644984802431611\n",
      "  tol, rng, random, positive)\n",
      "e:\\anaconda\\lib\\site-packages\\sklearn\\linear_model\\_coordinate_descent.py:472: ConvergenceWarning: Objective did not converge. You might want to increase the number of iterations. Duality gap: 0.858504409566109, tolerance: 0.01644984802431611\n",
      "  tol, rng, random, positive)\n",
      "e:\\anaconda\\lib\\site-packages\\sklearn\\linear_model\\_coordinate_descent.py:472: ConvergenceWarning: Objective did not converge. You might want to increase the number of iterations. Duality gap: 0.9195754220475436, tolerance: 0.01644984802431611\n",
      "  tol, rng, random, positive)\n",
      "e:\\anaconda\\lib\\site-packages\\sklearn\\linear_model\\_coordinate_descent.py:472: ConvergenceWarning: Objective did not converge. You might want to increase the number of iterations. Duality gap: 0.9418104096883724, tolerance: 0.01644984802431611\n",
      "  tol, rng, random, positive)\n",
      "e:\\anaconda\\lib\\site-packages\\sklearn\\linear_model\\_coordinate_descent.py:472: ConvergenceWarning: Objective did not converge. You might want to increase the number of iterations. Duality gap: 1.1640429913635018, tolerance: 0.01644984802431611\n",
      "  tol, rng, random, positive)\n",
      "e:\\anaconda\\lib\\site-packages\\sklearn\\linear_model\\_coordinate_descent.py:472: ConvergenceWarning: Objective did not converge. You might want to increase the number of iterations. Duality gap: 1.2329273585170313, tolerance: 0.01644984802431611\n",
      "  tol, rng, random, positive)\n",
      "e:\\anaconda\\lib\\site-packages\\sklearn\\linear_model\\_coordinate_descent.py:472: ConvergenceWarning: Objective did not converge. You might want to increase the number of iterations. Duality gap: 0.0765991355508504, tolerance: 0.01644255319148936\n",
      "  tol, rng, random, positive)\n",
      "e:\\anaconda\\lib\\site-packages\\sklearn\\linear_model\\_coordinate_descent.py:472: ConvergenceWarning: Objective did not converge. You might want to increase the number of iterations. Duality gap: 0.1909522374716488, tolerance: 0.01644255319148936\n",
      "  tol, rng, random, positive)\n",
      "e:\\anaconda\\lib\\site-packages\\sklearn\\linear_model\\_coordinate_descent.py:472: ConvergenceWarning: Objective did not converge. You might want to increase the number of iterations. Duality gap: 0.2369869705670169, tolerance: 0.01644255319148936\n",
      "  tol, rng, random, positive)\n",
      "e:\\anaconda\\lib\\site-packages\\sklearn\\linear_model\\_coordinate_descent.py:472: ConvergenceWarning: Objective did not converge. You might want to increase the number of iterations. Duality gap: 0.34714651265808527, tolerance: 0.01644255319148936\n",
      "  tol, rng, random, positive)\n",
      "e:\\anaconda\\lib\\site-packages\\sklearn\\linear_model\\_coordinate_descent.py:472: ConvergenceWarning: Objective did not converge. You might want to increase the number of iterations. Duality gap: 0.6207015797862283, tolerance: 0.01644255319148936\n",
      "  tol, rng, random, positive)\n",
      "e:\\anaconda\\lib\\site-packages\\sklearn\\linear_model\\_coordinate_descent.py:472: ConvergenceWarning: Objective did not converge. You might want to increase the number of iterations. Duality gap: 0.7271402136627216, tolerance: 0.01644255319148936\n",
      "  tol, rng, random, positive)\n",
      "e:\\anaconda\\lib\\site-packages\\sklearn\\linear_model\\_coordinate_descent.py:472: ConvergenceWarning: Objective did not converge. You might want to increase the number of iterations. Duality gap: 0.7675560870402052, tolerance: 0.01644255319148936\n",
      "  tol, rng, random, positive)\n",
      "e:\\anaconda\\lib\\site-packages\\sklearn\\linear_model\\_coordinate_descent.py:472: ConvergenceWarning: Objective did not converge. You might want to increase the number of iterations. Duality gap: 0.8033930963647862, tolerance: 0.01644255319148936\n",
      "  tol, rng, random, positive)\n",
      "e:\\anaconda\\lib\\site-packages\\sklearn\\linear_model\\_coordinate_descent.py:472: ConvergenceWarning: Objective did not converge. You might want to increase the number of iterations. Duality gap: 1.0469389978078283, tolerance: 0.01644255319148936\n",
      "  tol, rng, random, positive)\n",
      "e:\\anaconda\\lib\\site-packages\\sklearn\\linear_model\\_coordinate_descent.py:472: ConvergenceWarning: Objective did not converge. You might want to increase the number of iterations. Duality gap: 1.1738572472267776, tolerance: 0.01644255319148936\n",
      "  tol, rng, random, positive)\n",
      "e:\\anaconda\\lib\\site-packages\\sklearn\\linear_model\\_coordinate_descent.py:472: ConvergenceWarning: Objective did not converge. You might want to increase the number of iterations. Duality gap: 1.1796033182035046, tolerance: 0.01644255319148936\n",
      "  tol, rng, random, positive)\n",
      "e:\\anaconda\\lib\\site-packages\\sklearn\\linear_model\\_coordinate_descent.py:472: ConvergenceWarning: Objective did not converge. You might want to increase the number of iterations. Duality gap: 1.1958602658627342, tolerance: 0.01644255319148936\n",
      "  tol, rng, random, positive)\n",
      "e:\\anaconda\\lib\\site-packages\\sklearn\\linear_model\\_coordinate_descent.py:472: ConvergenceWarning: Objective did not converge. You might want to increase the number of iterations. Duality gap: 0.019470815771015282, tolerance: 0.01644255319148936\n",
      "  tol, rng, random, positive)\n",
      "e:\\anaconda\\lib\\site-packages\\sklearn\\linear_model\\_coordinate_descent.py:472: ConvergenceWarning: Objective did not converge. You might want to increase the number of iterations. Duality gap: 0.07681176143658774, tolerance: 0.01644255319148936\n",
      "  tol, rng, random, positive)\n",
      "e:\\anaconda\\lib\\site-packages\\sklearn\\linear_model\\_coordinate_descent.py:472: ConvergenceWarning: Objective did not converge. You might want to increase the number of iterations. Duality gap: 0.20233993211026302, tolerance: 0.01644255319148936\n",
      "  tol, rng, random, positive)\n",
      "e:\\anaconda\\lib\\site-packages\\sklearn\\linear_model\\_coordinate_descent.py:472: ConvergenceWarning: Objective did not converge. You might want to increase the number of iterations. Duality gap: 0.2586338433761597, tolerance: 0.01644255319148936\n",
      "  tol, rng, random, positive)\n",
      "e:\\anaconda\\lib\\site-packages\\sklearn\\linear_model\\_coordinate_descent.py:472: ConvergenceWarning: Objective did not converge. You might want to increase the number of iterations. Duality gap: 0.2757326881262969, tolerance: 0.01644255319148936\n",
      "  tol, rng, random, positive)\n",
      "e:\\anaconda\\lib\\site-packages\\sklearn\\linear_model\\_coordinate_descent.py:472: ConvergenceWarning: Objective did not converge. You might want to increase the number of iterations. Duality gap: 0.4884286105118463, tolerance: 0.01644255319148936\n",
      "  tol, rng, random, positive)\n",
      "e:\\anaconda\\lib\\site-packages\\sklearn\\linear_model\\_coordinate_descent.py:472: ConvergenceWarning: Objective did not converge. You might want to increase the number of iterations. Duality gap: 0.6253006891102899, tolerance: 0.01644255319148936\n",
      "  tol, rng, random, positive)\n",
      "e:\\anaconda\\lib\\site-packages\\sklearn\\linear_model\\_coordinate_descent.py:472: ConvergenceWarning: Objective did not converge. You might want to increase the number of iterations. Duality gap: 0.6697441871748993, tolerance: 0.01644255319148936\n",
      "  tol, rng, random, positive)\n",
      "e:\\anaconda\\lib\\site-packages\\sklearn\\linear_model\\_coordinate_descent.py:472: ConvergenceWarning: Objective did not converge. You might want to increase the number of iterations. Duality gap: 0.7421164979721766, tolerance: 0.01644255319148936\n",
      "  tol, rng, random, positive)\n",
      "e:\\anaconda\\lib\\site-packages\\sklearn\\linear_model\\_coordinate_descent.py:472: ConvergenceWarning: Objective did not converge. You might want to increase the number of iterations. Duality gap: 0.8389395154298995, tolerance: 0.01644255319148936\n",
      "  tol, rng, random, positive)\n",
      "e:\\anaconda\\lib\\site-packages\\sklearn\\linear_model\\_coordinate_descent.py:472: ConvergenceWarning: Objective did not converge. You might want to increase the number of iterations. Duality gap: 1.1175776312407777, tolerance: 0.01644255319148936\n",
      "  tol, rng, random, positive)\n",
      "e:\\anaconda\\lib\\site-packages\\sklearn\\linear_model\\_coordinate_descent.py:472: ConvergenceWarning: Objective did not converge. You might want to increase the number of iterations. Duality gap: 1.184928358370101, tolerance: 0.01644255319148936\n",
      "  tol, rng, random, positive)\n",
      "e:\\anaconda\\lib\\site-packages\\sklearn\\linear_model\\_coordinate_descent.py:472: ConvergenceWarning: Objective did not converge. You might want to increase the number of iterations. Duality gap: 1.1365814162560923, tolerance: 0.01644255319148936\n",
      "  tol, rng, random, positive)\n"
     ]
    },
    {
     "name": "stdout",
     "output_type": "stream",
     "text": [
      "train_selected (822, 0)\n"
     ]
    },
    {
     "name": "stderr",
     "output_type": "stream",
     "text": [
      "e:\\anaconda\\lib\\site-packages\\sklearn\\feature_selection\\_base.py:81: UserWarning: No features were selected: either the data is too noisy or the selection test too strict.\n",
      "  UserWarning)\n"
     ]
    },
    {
     "ename": "ValueError",
     "evalue": "at least one array or dtype is required",
     "output_type": "error",
     "traceback": [
      "\u001b[1;31m---------------------------------------------------------------------------\u001b[0m",
      "\u001b[1;31mValueError\u001b[0m                                Traceback (most recent call last)",
      "\u001b[1;32m<ipython-input-121-f3a4c5d9f8e5>\u001b[0m in \u001b[0;36m<module>\u001b[1;34m\u001b[0m\n\u001b[1;32m----> 1\u001b[1;33m \u001b[0mmy_cross_validate_score\u001b[0m\u001b[1;33m(\u001b[0m\u001b[0mMy_vote_LassoSelect_with_up_sample_clf\u001b[0m\u001b[1;33m(\u001b[0m\u001b[1;36m1\u001b[0m\u001b[1;33m)\u001b[0m\u001b[1;33m,\u001b[0m\u001b[0mX\u001b[0m\u001b[1;33m,\u001b[0m\u001b[0mlabel\u001b[0m\u001b[1;33m,\u001b[0m\u001b[0mcv\u001b[0m\u001b[1;33m=\u001b[0m\u001b[1;36m10\u001b[0m\u001b[1;33m,\u001b[0m\u001b[0mmean\u001b[0m\u001b[1;33m=\u001b[0m\u001b[1;32mTrue\u001b[0m\u001b[1;33m)\u001b[0m\u001b[1;33m\u001b[0m\u001b[1;33m\u001b[0m\u001b[0m\n\u001b[0m",
      "\u001b[1;32m<ipython-input-87-2718bc7f38e5>\u001b[0m in \u001b[0;36mmy_cross_validate_score\u001b[1;34m(estimator, X, y, cv, mean, ret_est)\u001b[0m\n\u001b[0;32m     17\u001b[0m         \u001b[0mtrain_X\u001b[0m\u001b[1;33m,\u001b[0m \u001b[0mtrain_y\u001b[0m \u001b[1;33m=\u001b[0m \u001b[0mX\u001b[0m\u001b[1;33m.\u001b[0m\u001b[0miloc\u001b[0m\u001b[1;33m[\u001b[0m\u001b[0mtrain_index\u001b[0m\u001b[1;33m]\u001b[0m\u001b[1;33m,\u001b[0m\u001b[0my\u001b[0m\u001b[1;33m.\u001b[0m\u001b[0miloc\u001b[0m\u001b[1;33m[\u001b[0m\u001b[0mtrain_index\u001b[0m\u001b[1;33m]\u001b[0m\u001b[1;33m\u001b[0m\u001b[1;33m\u001b[0m\u001b[0m\n\u001b[0;32m     18\u001b[0m         \u001b[0mtest_X\u001b[0m\u001b[1;33m,\u001b[0m \u001b[0mtest_y\u001b[0m \u001b[1;33m=\u001b[0m \u001b[0mX\u001b[0m\u001b[1;33m.\u001b[0m\u001b[0miloc\u001b[0m\u001b[1;33m[\u001b[0m\u001b[0mtest_index\u001b[0m\u001b[1;33m]\u001b[0m\u001b[1;33m,\u001b[0m\u001b[0my\u001b[0m\u001b[1;33m.\u001b[0m\u001b[0miloc\u001b[0m\u001b[1;33m[\u001b[0m\u001b[0mtest_index\u001b[0m\u001b[1;33m]\u001b[0m\u001b[1;33m\u001b[0m\u001b[1;33m\u001b[0m\u001b[0m\n\u001b[1;32m---> 19\u001b[1;33m         \u001b[0mestimator\u001b[0m\u001b[1;33m.\u001b[0m\u001b[0mfit\u001b[0m\u001b[1;33m(\u001b[0m\u001b[0mtrain_X\u001b[0m\u001b[1;33m,\u001b[0m\u001b[0mtrain_y\u001b[0m\u001b[1;33m)\u001b[0m\u001b[1;33m\u001b[0m\u001b[1;33m\u001b[0m\u001b[0m\n\u001b[0m\u001b[0;32m     20\u001b[0m         \u001b[0mclf_predict\u001b[0m \u001b[1;33m=\u001b[0m \u001b[0mestimator\u001b[0m\u001b[1;33m.\u001b[0m\u001b[0mpredict\u001b[0m\u001b[1;33m(\u001b[0m\u001b[0mtest_X\u001b[0m\u001b[1;33m)\u001b[0m\u001b[1;33m\u001b[0m\u001b[1;33m\u001b[0m\u001b[0m\n\u001b[0;32m     21\u001b[0m         \u001b[0mreport\u001b[0m \u001b[1;33m=\u001b[0m \u001b[0mmetrics\u001b[0m\u001b[1;33m.\u001b[0m\u001b[0mclassification_report\u001b[0m\u001b[1;33m(\u001b[0m\u001b[0mtest_y\u001b[0m\u001b[1;33m,\u001b[0m\u001b[0mclf_predict\u001b[0m\u001b[1;33m,\u001b[0m\u001b[0moutput_dict\u001b[0m\u001b[1;33m=\u001b[0m\u001b[1;32mTrue\u001b[0m\u001b[1;33m)\u001b[0m\u001b[1;33m\u001b[0m\u001b[1;33m\u001b[0m\u001b[0m\n",
      "\u001b[1;32m<ipython-input-120-a2ccd98fae2e>\u001b[0m in \u001b[0;36mfit\u001b[1;34m(self, X_train, y_train)\u001b[0m\n\u001b[0;32m     84\u001b[0m             \u001b[0mtrain_selected\u001b[0m \u001b[1;33m=\u001b[0m \u001b[0mpd\u001b[0m\u001b[1;33m.\u001b[0m\u001b[0mDataFrame\u001b[0m\u001b[1;33m(\u001b[0m\u001b[0mtrain_selected\u001b[0m\u001b[1;33m)\u001b[0m\u001b[1;33m\u001b[0m\u001b[1;33m\u001b[0m\u001b[0m\n\u001b[0;32m     85\u001b[0m             \u001b[0mprint\u001b[0m\u001b[1;33m(\u001b[0m\u001b[1;34m'train_selected'\u001b[0m\u001b[1;33m,\u001b[0m\u001b[0mtrain_selected\u001b[0m\u001b[1;33m.\u001b[0m\u001b[0mshape\u001b[0m\u001b[1;33m)\u001b[0m\u001b[1;33m\u001b[0m\u001b[1;33m\u001b[0m\u001b[0m\n\u001b[1;32m---> 86\u001b[1;33m             \u001b[0mtemp_res\u001b[0m \u001b[1;33m=\u001b[0m \u001b[0mmy_cross_validate_score\u001b[0m\u001b[1;33m(\u001b[0m\u001b[0mt\u001b[0m\u001b[1;33m[\u001b[0m\u001b[1;36m0\u001b[0m\u001b[1;33m]\u001b[0m\u001b[1;33m,\u001b[0m\u001b[0mtrain_selected\u001b[0m\u001b[1;33m,\u001b[0m\u001b[0my\u001b[0m\u001b[1;33m,\u001b[0m\u001b[0mcv\u001b[0m\u001b[1;33m=\u001b[0m\u001b[1;36m10\u001b[0m\u001b[1;33m,\u001b[0m\u001b[0mmean\u001b[0m\u001b[1;33m=\u001b[0m\u001b[1;32mTrue\u001b[0m\u001b[1;33m)\u001b[0m\u001b[1;33m\u001b[0m\u001b[1;33m\u001b[0m\u001b[0m\n\u001b[0m\u001b[0;32m     87\u001b[0m             \u001b[1;32mfor\u001b[0m \u001b[0mkey\u001b[0m \u001b[1;32min\u001b[0m \u001b[0mself\u001b[0m\u001b[1;33m.\u001b[0m\u001b[0mkeys\u001b[0m\u001b[1;33m:\u001b[0m\u001b[1;33m\u001b[0m\u001b[1;33m\u001b[0m\u001b[0m\n\u001b[0;32m     88\u001b[0m                 \u001b[0mself\u001b[0m\u001b[1;33m.\u001b[0m\u001b[0mres_dic\u001b[0m\u001b[1;33m[\u001b[0m\u001b[0mkey\u001b[0m\u001b[1;33m]\u001b[0m\u001b[1;33m.\u001b[0m\u001b[0mappend\u001b[0m\u001b[1;33m(\u001b[0m\u001b[0mtemp_res\u001b[0m\u001b[1;33m[\u001b[0m\u001b[0mkey\u001b[0m\u001b[1;33m]\u001b[0m\u001b[1;33m)\u001b[0m\u001b[1;33m\u001b[0m\u001b[1;33m\u001b[0m\u001b[0m\n",
      "\u001b[1;32m<ipython-input-87-2718bc7f38e5>\u001b[0m in \u001b[0;36mmy_cross_validate_score\u001b[1;34m(estimator, X, y, cv, mean, ret_est)\u001b[0m\n\u001b[0;32m     17\u001b[0m         \u001b[0mtrain_X\u001b[0m\u001b[1;33m,\u001b[0m \u001b[0mtrain_y\u001b[0m \u001b[1;33m=\u001b[0m \u001b[0mX\u001b[0m\u001b[1;33m.\u001b[0m\u001b[0miloc\u001b[0m\u001b[1;33m[\u001b[0m\u001b[0mtrain_index\u001b[0m\u001b[1;33m]\u001b[0m\u001b[1;33m,\u001b[0m\u001b[0my\u001b[0m\u001b[1;33m.\u001b[0m\u001b[0miloc\u001b[0m\u001b[1;33m[\u001b[0m\u001b[0mtrain_index\u001b[0m\u001b[1;33m]\u001b[0m\u001b[1;33m\u001b[0m\u001b[1;33m\u001b[0m\u001b[0m\n\u001b[0;32m     18\u001b[0m         \u001b[0mtest_X\u001b[0m\u001b[1;33m,\u001b[0m \u001b[0mtest_y\u001b[0m \u001b[1;33m=\u001b[0m \u001b[0mX\u001b[0m\u001b[1;33m.\u001b[0m\u001b[0miloc\u001b[0m\u001b[1;33m[\u001b[0m\u001b[0mtest_index\u001b[0m\u001b[1;33m]\u001b[0m\u001b[1;33m,\u001b[0m\u001b[0my\u001b[0m\u001b[1;33m.\u001b[0m\u001b[0miloc\u001b[0m\u001b[1;33m[\u001b[0m\u001b[0mtest_index\u001b[0m\u001b[1;33m]\u001b[0m\u001b[1;33m\u001b[0m\u001b[1;33m\u001b[0m\u001b[0m\n\u001b[1;32m---> 19\u001b[1;33m         \u001b[0mestimator\u001b[0m\u001b[1;33m.\u001b[0m\u001b[0mfit\u001b[0m\u001b[1;33m(\u001b[0m\u001b[0mtrain_X\u001b[0m\u001b[1;33m,\u001b[0m\u001b[0mtrain_y\u001b[0m\u001b[1;33m)\u001b[0m\u001b[1;33m\u001b[0m\u001b[1;33m\u001b[0m\u001b[0m\n\u001b[0m\u001b[0;32m     20\u001b[0m         \u001b[0mclf_predict\u001b[0m \u001b[1;33m=\u001b[0m \u001b[0mestimator\u001b[0m\u001b[1;33m.\u001b[0m\u001b[0mpredict\u001b[0m\u001b[1;33m(\u001b[0m\u001b[0mtest_X\u001b[0m\u001b[1;33m)\u001b[0m\u001b[1;33m\u001b[0m\u001b[1;33m\u001b[0m\u001b[0m\n\u001b[0;32m     21\u001b[0m         \u001b[0mreport\u001b[0m \u001b[1;33m=\u001b[0m \u001b[0mmetrics\u001b[0m\u001b[1;33m.\u001b[0m\u001b[0mclassification_report\u001b[0m\u001b[1;33m(\u001b[0m\u001b[0mtest_y\u001b[0m\u001b[1;33m,\u001b[0m\u001b[0mclf_predict\u001b[0m\u001b[1;33m,\u001b[0m\u001b[0moutput_dict\u001b[0m\u001b[1;33m=\u001b[0m\u001b[1;32mTrue\u001b[0m\u001b[1;33m)\u001b[0m\u001b[1;33m\u001b[0m\u001b[1;33m\u001b[0m\u001b[0m\n",
      "\u001b[1;32me:\\anaconda\\lib\\site-packages\\sklearn\\ensemble\\_gb.py\u001b[0m in \u001b[0;36mfit\u001b[1;34m(self, X, y, sample_weight, monitor)\u001b[0m\n\u001b[0;32m   1439\u001b[0m         \u001b[1;31m# Since check_array converts both X and y to the same dtype, but the\u001b[0m\u001b[1;33m\u001b[0m\u001b[1;33m\u001b[0m\u001b[1;33m\u001b[0m\u001b[0m\n\u001b[0;32m   1440\u001b[0m         \u001b[1;31m# trees use different types for X and y, checking them separately.\u001b[0m\u001b[1;33m\u001b[0m\u001b[1;33m\u001b[0m\u001b[1;33m\u001b[0m\u001b[0m\n\u001b[1;32m-> 1441\u001b[1;33m         \u001b[0mX\u001b[0m \u001b[1;33m=\u001b[0m \u001b[0mcheck_array\u001b[0m\u001b[1;33m(\u001b[0m\u001b[0mX\u001b[0m\u001b[1;33m,\u001b[0m \u001b[0maccept_sparse\u001b[0m\u001b[1;33m=\u001b[0m\u001b[1;33m[\u001b[0m\u001b[1;34m'csr'\u001b[0m\u001b[1;33m,\u001b[0m \u001b[1;34m'csc'\u001b[0m\u001b[1;33m,\u001b[0m \u001b[1;34m'coo'\u001b[0m\u001b[1;33m]\u001b[0m\u001b[1;33m,\u001b[0m \u001b[0mdtype\u001b[0m\u001b[1;33m=\u001b[0m\u001b[0mDTYPE\u001b[0m\u001b[1;33m)\u001b[0m\u001b[1;33m\u001b[0m\u001b[1;33m\u001b[0m\u001b[0m\n\u001b[0m\u001b[0;32m   1442\u001b[0m         \u001b[0mn_samples\u001b[0m\u001b[1;33m,\u001b[0m \u001b[0mself\u001b[0m\u001b[1;33m.\u001b[0m\u001b[0mn_features_\u001b[0m \u001b[1;33m=\u001b[0m \u001b[0mX\u001b[0m\u001b[1;33m.\u001b[0m\u001b[0mshape\u001b[0m\u001b[1;33m\u001b[0m\u001b[1;33m\u001b[0m\u001b[0m\n\u001b[0;32m   1443\u001b[0m \u001b[1;33m\u001b[0m\u001b[0m\n",
      "\u001b[1;32me:\\anaconda\\lib\\site-packages\\sklearn\\utils\\validation.py\u001b[0m in \u001b[0;36mcheck_array\u001b[1;34m(array, accept_sparse, accept_large_sparse, dtype, order, copy, force_all_finite, ensure_2d, allow_nd, ensure_min_samples, ensure_min_features, warn_on_dtype, estimator)\u001b[0m\n\u001b[0;32m    473\u001b[0m \u001b[1;33m\u001b[0m\u001b[0m\n\u001b[0;32m    474\u001b[0m         \u001b[1;32mif\u001b[0m \u001b[0mall\u001b[0m\u001b[1;33m(\u001b[0m\u001b[0misinstance\u001b[0m\u001b[1;33m(\u001b[0m\u001b[0mdtype\u001b[0m\u001b[1;33m,\u001b[0m \u001b[0mnp\u001b[0m\u001b[1;33m.\u001b[0m\u001b[0mdtype\u001b[0m\u001b[1;33m)\u001b[0m \u001b[1;32mfor\u001b[0m \u001b[0mdtype\u001b[0m \u001b[1;32min\u001b[0m \u001b[0mdtypes_orig\u001b[0m\u001b[1;33m)\u001b[0m\u001b[1;33m:\u001b[0m\u001b[1;33m\u001b[0m\u001b[1;33m\u001b[0m\u001b[0m\n\u001b[1;32m--> 475\u001b[1;33m             \u001b[0mdtype_orig\u001b[0m \u001b[1;33m=\u001b[0m \u001b[0mnp\u001b[0m\u001b[1;33m.\u001b[0m\u001b[0mresult_type\u001b[0m\u001b[1;33m(\u001b[0m\u001b[1;33m*\u001b[0m\u001b[0mdtypes_orig\u001b[0m\u001b[1;33m)\u001b[0m\u001b[1;33m\u001b[0m\u001b[1;33m\u001b[0m\u001b[0m\n\u001b[0m\u001b[0;32m    476\u001b[0m \u001b[1;33m\u001b[0m\u001b[0m\n\u001b[0;32m    477\u001b[0m     \u001b[1;32mif\u001b[0m \u001b[0mdtype_numeric\u001b[0m\u001b[1;33m:\u001b[0m\u001b[1;33m\u001b[0m\u001b[1;33m\u001b[0m\u001b[0m\n",
      "\u001b[1;32m<__array_function__ internals>\u001b[0m in \u001b[0;36mresult_type\u001b[1;34m(*args, **kwargs)\u001b[0m\n",
      "\u001b[1;31mValueError\u001b[0m: at least one array or dtype is required"
     ]
    }
   ],
   "source": [
    "my_cross_validate_score(My_vote_LassoSelect_with_up_sample_clf(1),X,label,cv=10,mean=True)"
   ]
  }
 ],
 "metadata": {
  "interpreter": {
   "hash": "7758e92e9a61d7a3490898707f7eeb937c85e9d1e8d4e877cc6c187218f226d5"
  },
  "kernelspec": {
   "display_name": "Python 3.6.13 ('base')",
   "language": "python",
   "name": "python3"
  },
  "language_info": {
   "codemirror_mode": {
    "name": "ipython",
    "version": 3
   },
   "file_extension": ".py",
   "mimetype": "text/x-python",
   "name": "python",
   "nbconvert_exporter": "python",
   "pygments_lexer": "ipython3",
   "version": "3.6.13"
  },
  "orig_nbformat": 4
 },
 "nbformat": 4,
 "nbformat_minor": 2
}
