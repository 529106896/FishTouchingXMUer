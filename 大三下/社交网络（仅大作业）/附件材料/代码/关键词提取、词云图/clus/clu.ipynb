{
 "cells": [
  {
   "cell_type": "markdown",
   "metadata": {},
   "source": [
    "## 对每一个主题进行情感分析"
   ]
  },
  {
   "cell_type": "code",
   "execution_count": 1,
   "metadata": {},
   "outputs": [],
   "source": [
    "import pandas as pd\n",
    "import jieba.analyse\n",
    "import math\n",
    "import numpy as np\n",
    "import jieba.posseg as pseg\n",
    "from tqdm import tqdm\n",
    "import pandas as pd\n",
    "import jieba.analyse\n",
    "import jieba.posseg as psg\n",
    "from os import path\n",
    "import matplotlib.pyplot as plt\n",
    "from wordcloud import WordCloud\n",
    "import jieba.analyse\n",
    "import pandas as pd\n",
    "import jieba"
   ]
  },
  {
   "cell_type": "code",
   "execution_count": 9,
   "metadata": {},
   "outputs": [
    {
     "data": {
      "text/html": [
       "<div>\n",
       "<style scoped>\n",
       "    .dataframe tbody tr th:only-of-type {\n",
       "        vertical-align: middle;\n",
       "    }\n",
       "\n",
       "    .dataframe tbody tr th {\n",
       "        vertical-align: top;\n",
       "    }\n",
       "\n",
       "    .dataframe thead th {\n",
       "        text-align: right;\n",
       "    }\n",
       "</style>\n",
       "<table border=\"1\" class=\"dataframe\">\n",
       "  <thead>\n",
       "    <tr style=\"text-align: right;\">\n",
       "      <th></th>\n",
       "      <th>weibo_username</th>\n",
       "      <th>weibo_verification</th>\n",
       "      <th>weibo_content</th>\n",
       "      <th>weibo_content_preprocessed</th>\n",
       "      <th>submit_time</th>\n",
       "      <th>forward_counts</th>\n",
       "      <th>comments_counts</th>\n",
       "      <th>points_times</th>\n",
       "      <th>概率最大的主题序号</th>\n",
       "      <th>每个主题对应概率</th>\n",
       "    </tr>\n",
       "  </thead>\n",
       "  <tbody>\n",
       "    <tr>\n",
       "      <th>0</th>\n",
       "      <td>辣子鸡谁做的好吃</td>\n",
       "      <td>NaN</td>\n",
       "      <td>好像可以在自己幻想的元宇宙里过一辈子好像已经过完了一辈子双鱼座的脑子要不得</td>\n",
       "      <td>好像 幻想 元宇宙 里 一辈子 好像 完 一辈子 双鱼座 脑子 要不得</td>\n",
       "      <td>01月10日 23:59</td>\n",
       "      <td>0</td>\n",
       "      <td>0</td>\n",
       "      <td>0</td>\n",
       "      <td>Topic #0</td>\n",
       "      <td>[0.59993559 0.10006406 0.10000012 0.10000015 0...</td>\n",
       "    </tr>\n",
       "    <tr>\n",
       "      <th>1</th>\n",
       "      <td>远古的刀</td>\n",
       "      <td>NaN</td>\n",
       "      <td>反正闭关锁宇宙我们将会面临下一次的闭关锁国融入不了全球经济王峻涛跟你们讲我相信这个元宇宙真的...</td>\n",
       "      <td>反正 闭关 锁 宇宙 将会 面临 闭关锁国 融入 全球 经济 王峻涛 讲 元宇宙 真的 一下...</td>\n",
       "      <td>01月10日 23:58</td>\n",
       "      <td>32</td>\n",
       "      <td>3</td>\n",
       "      <td>0</td>\n",
       "      <td>Topic #4</td>\n",
       "      <td>[0.05551718 0.05494438 0.05384941 0.22117649 0...</td>\n",
       "    </tr>\n",
       "    <tr>\n",
       "      <th>2</th>\n",
       "      <td>暮景烟_深浅</td>\n",
       "      <td>NaN</td>\n",
       "      <td>周深先生之夜元宇宙周深拥有了生米就像拥有了梦的翅膀卡布叻周深放心飞吧生米永相随时尚先生元宇宙...</td>\n",
       "      <td>周深 之夜 元宇宙 周深 拥有 生米 拥有 梦 翅膀 卡布 叻 周深 放心 飞 生米 永 相...</td>\n",
       "      <td>01月10日 23:58</td>\n",
       "      <td>0</td>\n",
       "      <td>0</td>\n",
       "      <td>0</td>\n",
       "      <td>Topic #3</td>\n",
       "      <td>[0.08547488 0.08395077 0.08746527 0.65873332 0...</td>\n",
       "    </tr>\n",
       "    <tr>\n",
       "      <th>3</th>\n",
       "      <td>东辉毅恒传媒</td>\n",
       "      <td>NaN</td>\n",
       "      <td>王峻涛其实吧你有空可以再看看这个视频跟你们讲我相信这个元宇宙真的会来虽然不是一下子就到来还需...</td>\n",
       "      <td>王峻涛 有空 视频 讲 元宇宙 真的 一下子 到来 技术 突破 社会 讲 玩 后果 人会 分...</td>\n",
       "      <td>01月10日 23:57</td>\n",
       "      <td>0</td>\n",
       "      <td>0</td>\n",
       "      <td>0</td>\n",
       "      <td>Topic #0</td>\n",
       "      <td>[0.76555387 0.06196691 0.0575368  0.0572471  0...</td>\n",
       "    </tr>\n",
       "    <tr>\n",
       "      <th>4</th>\n",
       "      <td>在寒蝉鸣泣中等待夏日重现</td>\n",
       "      <td>NaN</td>\n",
       "      <td>敬元宇宙让基尔希斯坦的女朋友的微博视频</td>\n",
       "      <td>敬 元宇宙 基尔 希斯 坦 女朋友 微博 视频</td>\n",
       "      <td>01月10日 23:57</td>\n",
       "      <td>0</td>\n",
       "      <td>0</td>\n",
       "      <td>5</td>\n",
       "      <td>Topic #2</td>\n",
       "      <td>[0.10187652 0.10000001 0.59628575 0.10132168 0...</td>\n",
       "    </tr>\n",
       "  </tbody>\n",
       "</table>\n",
       "</div>"
      ],
      "text/plain": [
       "  weibo_username weibo_verification  \\\n",
       "0       辣子鸡谁做的好吃                NaN   \n",
       "1           远古的刀                NaN   \n",
       "2         暮景烟_深浅                NaN   \n",
       "3         东辉毅恒传媒                NaN   \n",
       "4   在寒蝉鸣泣中等待夏日重现                NaN   \n",
       "\n",
       "                                       weibo_content  \\\n",
       "0              好像可以在自己幻想的元宇宙里过一辈子好像已经过完了一辈子双鱼座的脑子要不得   \n",
       "1  反正闭关锁宇宙我们将会面临下一次的闭关锁国融入不了全球经济王峻涛跟你们讲我相信这个元宇宙真的...   \n",
       "2  周深先生之夜元宇宙周深拥有了生米就像拥有了梦的翅膀卡布叻周深放心飞吧生米永相随时尚先生元宇宙...   \n",
       "3  王峻涛其实吧你有空可以再看看这个视频跟你们讲我相信这个元宇宙真的会来虽然不是一下子就到来还需...   \n",
       "4                                敬元宇宙让基尔希斯坦的女朋友的微博视频   \n",
       "\n",
       "                          weibo_content_preprocessed   submit_time  \\\n",
       "0                好像 幻想 元宇宙 里 一辈子 好像 完 一辈子 双鱼座 脑子 要不得  01月10日 23:59   \n",
       "1  反正 闭关 锁 宇宙 将会 面临 闭关锁国 融入 全球 经济 王峻涛 讲 元宇宙 真的 一下...  01月10日 23:58   \n",
       "2  周深 之夜 元宇宙 周深 拥有 生米 拥有 梦 翅膀 卡布 叻 周深 放心 飞 生米 永 相...  01月10日 23:58   \n",
       "3  王峻涛 有空 视频 讲 元宇宙 真的 一下子 到来 技术 突破 社会 讲 玩 后果 人会 分...  01月10日 23:57   \n",
       "4                            敬 元宇宙 基尔 希斯 坦 女朋友 微博 视频  01月10日 23:57   \n",
       "\n",
       "   forward_counts  comments_counts  points_times 概率最大的主题序号  \\\n",
       "0               0                0             0  Topic #0   \n",
       "1              32                3             0  Topic #4   \n",
       "2               0                0             0  Topic #3   \n",
       "3               0                0             0  Topic #0   \n",
       "4               0                0             5  Topic #2   \n",
       "\n",
       "                                            每个主题对应概率  \n",
       "0  [0.59993559 0.10006406 0.10000012 0.10000015 0...  \n",
       "1  [0.05551718 0.05494438 0.05384941 0.22117649 0...  \n",
       "2  [0.08547488 0.08395077 0.08746527 0.65873332 0...  \n",
       "3  [0.76555387 0.06196691 0.0575368  0.0572471  0...  \n",
       "4  [0.10187652 0.10000001 0.59628575 0.10132168 0...  "
      ]
     },
     "execution_count": 9,
     "metadata": {},
     "output_type": "execute_result"
    }
   ],
   "source": [
    "raw_df = pd.read_csv(r'data_topic_tfidf.CSV',encoding='GBK')\n",
    "raw_df.head()"
   ]
  },
  {
   "cell_type": "code",
   "execution_count": 19,
   "metadata": {},
   "outputs": [],
   "source": [
    "# df_t1 = raw_df[raw_df['概率最大的主题序号'] == 'Topic #0']\n",
    "# df_t1.to_csv('topic_1.csv',index=None)\n",
    "# df_t1 = raw_df[raw_df['概率最大的主题序号'] == 'Topic #1']\n",
    "# df_t1.to_csv('topic_2.csv',index=None)\n",
    "# df_t1 = raw_df[raw_df['概率最大的主题序号'] == 'Topic #2']\n",
    "# df_t1.to_csv('topic_3.csv',index=None)\n",
    "# df_t1 = raw_df[raw_df['概率最大的主题序号'] == 'Topic #3']\n",
    "# df_t1.to_csv('topic_4.csv',index=None)\n",
    "# df_t1 = raw_df[raw_df['概率最大的主题序号'] == 'Topic #4']\n",
    "# df_t1.to_csv('topic_5.csv',index=None)"
   ]
  },
  {
   "cell_type": "code",
   "execution_count": 21,
   "metadata": {},
   "outputs": [
    {
     "name": "stderr",
     "output_type": "stream",
     "text": [
      "100%|██████████| 21505/21505 [12:38<00:00, 28.35it/s] \n"
     ]
    },
    {
     "data": {
      "image/png": "[encoded data removed]",
      "text/plain": [
       "<Figure size 432x288 with 1 Axes>"
      ]
     },
     "metadata": {
      "needs_background": "light"
     },
     "output_type": "display_data"
    }
   ],
   "source": [
    "import pandas as pd\n",
    "from snownlp import SnowNLP\n",
    "import jieba.posseg as psg\n",
    "import jieba.analyse\n",
    "import matplotlib.pyplot as plt\n",
    "import numpy as np\n",
    "\n",
    "file_path = r'./topic_3.csv'\n",
    "data = pd.read_csv(file_path).astype(str)\n",
    "\n",
    "comments = data['weibo_content']\n",
    "sentimentlist = []\n",
    "for comment in tqdm(comments):\n",
    "    s = SnowNLP(comment)\n",
    "    sentimentlist.append(s.sentiments)\n",
    "\n",
    "#可视化结果\n",
    "plt.hist(sentimentlist, bins=np.arange(0,1,0.01),facecolor='b')\n",
    "plt.xlabel('Probability')\n",
    "plt.ylabel('Quantity')\n",
    "plt.title('Sentiment Analysis')\n",
    "plt.savefig('sentiment_analysis.png')\n",
    "plt.show()\n"
   ]
  },
  {
   "cell_type": "code",
   "execution_count": 23,
   "metadata": {},
   "outputs": [
    {
     "data": {
      "image/png": "[encoded data removed]",
      "text/plain": [
       "<Figure size 432x288 with 1 Axes>"
      ]
     },
     "metadata": {
      "needs_background": "light"
     },
     "output_type": "display_data"
    }
   ],
   "source": [
    "#可视化结果\n",
    "plt.hist(sentimentlist, bins=np.arange(0,1,0.01),facecolor='b')\n",
    "plt.xlabel('Probability')\n",
    "plt.ylabel('Quantity')\n",
    "plt.title('Sentiment Analysis Topic#3')\n",
    "plt.savefig('sentiment_analysis_Topic#3.png')\n",
    "plt.show()\n"
   ]
  }
 ],
 "metadata": {
  "kernelspec": {
   "display_name": "Python 3.6.13 ('base')",
   "language": "python",
   "name": "python3"
  },
  "language_info": {
   "codemirror_mode": {
    "name": "ipython",
    "version": 3
   },
   "file_extension": ".py",
   "mimetype": "text/x-python",
   "name": "python",
   "nbconvert_exporter": "python",
   "pygments_lexer": "ipython3",
   "version": "3.6.13"
  },
  "orig_nbformat": 4,
  "vscode": {
   "interpreter": {
    "hash": "7758e92e9a61d7a3490898707f7eeb937c85e9d1e8d4e877cc6c187218f226d5"
   }
  }
 },
 "nbformat": 4,
 "nbformat_minor": 2
}
