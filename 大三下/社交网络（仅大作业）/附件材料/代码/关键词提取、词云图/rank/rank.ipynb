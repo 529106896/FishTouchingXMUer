{
 "cells": [
  {
   "cell_type": "markdown",
   "metadata": {},
   "source": [
    "# 查看数据基本信息、使用textrank进行关键词提取、词云图可视化"
   ]
  },
  {
   "cell_type": "markdown",
   "metadata": {},
   "source": [
    "## 导入必要的包"
   ]
  },
  {
   "cell_type": "code",
   "execution_count": 1,
   "metadata": {},
   "outputs": [],
   "source": [
    "import pandas as pd\n",
    "import jieba.analyse\n",
    "import jieba.posseg as psg\n",
    "from os import path\n",
    "import matplotlib.pyplot as plt\n",
    "from wordcloud import WordCloud\n",
    "import jieba.analyse\n",
    "import pandas as pd"
   ]
  },
  {
   "cell_type": "markdown",
   "metadata": {},
   "source": [
    "## 读取数据与数据基础信息查看"
   ]
  },
  {
   "cell_type": "code",
   "execution_count": 2,
   "metadata": {},
   "outputs": [],
   "source": [
    "raw_df = pd.read_csv(r'rawdata_reprocessed.csv')"
   ]
  },
  {
   "cell_type": "code",
   "execution_count": 3,
   "metadata": {},
   "outputs": [
    {
     "data": {
      "text/html": [
       "<div>\n",
       "<style scoped>\n",
       "    .dataframe tbody tr th:only-of-type {\n",
       "        vertical-align: middle;\n",
       "    }\n",
       "\n",
       "    .dataframe tbody tr th {\n",
       "        vertical-align: top;\n",
       "    }\n",
       "\n",
       "    .dataframe thead th {\n",
       "        text-align: right;\n",
       "    }\n",
       "</style>\n",
       "<table border=\"1\" class=\"dataframe\">\n",
       "  <thead>\n",
       "    <tr style=\"text-align: right;\">\n",
       "      <th></th>\n",
       "      <th>weibo_username</th>\n",
       "      <th>weibo_verification</th>\n",
       "      <th>weibo_content</th>\n",
       "      <th>weibo_content_preprocessed</th>\n",
       "      <th>submit_time</th>\n",
       "      <th>forward_counts</th>\n",
       "      <th>comments_counts</th>\n",
       "      <th>points_times</th>\n",
       "    </tr>\n",
       "  </thead>\n",
       "  <tbody>\n",
       "    <tr>\n",
       "      <th>0</th>\n",
       "      <td>辣子鸡谁做的好吃</td>\n",
       "      <td>NaN</td>\n",
       "      <td>好像可以在自己幻想的元宇宙里过一辈子好像已经过完了一辈子双鱼座的脑子要不得</td>\n",
       "      <td>好像 幻想 元宇宙 里 一辈子 好像 完 一辈子 双鱼座 脑子 要不得</td>\n",
       "      <td>01月10日 23:59</td>\n",
       "      <td>0</td>\n",
       "      <td>0</td>\n",
       "      <td>0</td>\n",
       "    </tr>\n",
       "    <tr>\n",
       "      <th>1</th>\n",
       "      <td>远古的刀</td>\n",
       "      <td>NaN</td>\n",
       "      <td>反正闭关锁宇宙我们将会面临下一次的闭关锁国融入不了全球经济王峻涛跟你们讲我相信这个元宇宙真的...</td>\n",
       "      <td>反正 闭关 锁 宇宙 将会 面临 闭关锁国 融入 全球 经济 王峻涛 讲 元宇宙 真的 一下...</td>\n",
       "      <td>01月10日 23:58</td>\n",
       "      <td>32</td>\n",
       "      <td>3</td>\n",
       "      <td>0</td>\n",
       "    </tr>\n",
       "    <tr>\n",
       "      <th>2</th>\n",
       "      <td>暮景烟_深浅</td>\n",
       "      <td>NaN</td>\n",
       "      <td>周深先生之夜元宇宙周深拥有了生米就像拥有了梦的翅膀卡布叻周深放心飞吧生米永相随时尚先生元宇宙...</td>\n",
       "      <td>周深 之夜 元宇宙 周深 拥有 生米 拥有 梦 翅膀 卡布 叻 周深 放心 飞 生米 永 相...</td>\n",
       "      <td>01月10日 23:58</td>\n",
       "      <td>0</td>\n",
       "      <td>0</td>\n",
       "      <td>0</td>\n",
       "    </tr>\n",
       "    <tr>\n",
       "      <th>3</th>\n",
       "      <td>东辉毅恒传媒</td>\n",
       "      <td>NaN</td>\n",
       "      <td>王峻涛其实吧你有空可以再看看这个视频跟你们讲我相信这个元宇宙真的会来虽然不是一下子就到来还需...</td>\n",
       "      <td>王峻涛 有空 视频 讲 元宇宙 真的 一下子 到来 技术 突破 社会 讲 玩 后果 人会 分...</td>\n",
       "      <td>01月10日 23:57</td>\n",
       "      <td>0</td>\n",
       "      <td>0</td>\n",
       "      <td>0</td>\n",
       "    </tr>\n",
       "    <tr>\n",
       "      <th>4</th>\n",
       "      <td>在寒蝉鸣泣中等待夏日重现</td>\n",
       "      <td>NaN</td>\n",
       "      <td>敬元宇宙让基尔希斯坦的女朋友的微博视频</td>\n",
       "      <td>敬 元宇宙 基尔 希斯 坦 女朋友 微博 视频</td>\n",
       "      <td>01月10日 23:57</td>\n",
       "      <td>0</td>\n",
       "      <td>0</td>\n",
       "      <td>5</td>\n",
       "    </tr>\n",
       "  </tbody>\n",
       "</table>\n",
       "</div>"
      ],
      "text/plain": [
       "  weibo_username weibo_verification  \\\n",
       "0       辣子鸡谁做的好吃                NaN   \n",
       "1           远古的刀                NaN   \n",
       "2         暮景烟_深浅                NaN   \n",
       "3         东辉毅恒传媒                NaN   \n",
       "4   在寒蝉鸣泣中等待夏日重现                NaN   \n",
       "\n",
       "                                       weibo_content  \\\n",
       "0              好像可以在自己幻想的元宇宙里过一辈子好像已经过完了一辈子双鱼座的脑子要不得   \n",
       "1  反正闭关锁宇宙我们将会面临下一次的闭关锁国融入不了全球经济王峻涛跟你们讲我相信这个元宇宙真的...   \n",
       "2  周深先生之夜元宇宙周深拥有了生米就像拥有了梦的翅膀卡布叻周深放心飞吧生米永相随时尚先生元宇宙...   \n",
       "3  王峻涛其实吧你有空可以再看看这个视频跟你们讲我相信这个元宇宙真的会来虽然不是一下子就到来还需...   \n",
       "4                                敬元宇宙让基尔希斯坦的女朋友的微博视频   \n",
       "\n",
       "                          weibo_content_preprocessed   submit_time  \\\n",
       "0                好像 幻想 元宇宙 里 一辈子 好像 完 一辈子 双鱼座 脑子 要不得  01月10日 23:59   \n",
       "1  反正 闭关 锁 宇宙 将会 面临 闭关锁国 融入 全球 经济 王峻涛 讲 元宇宙 真的 一下...  01月10日 23:58   \n",
       "2  周深 之夜 元宇宙 周深 拥有 生米 拥有 梦 翅膀 卡布 叻 周深 放心 飞 生米 永 相...  01月10日 23:58   \n",
       "3  王峻涛 有空 视频 讲 元宇宙 真的 一下子 到来 技术 突破 社会 讲 玩 后果 人会 分...  01月10日 23:57   \n",
       "4                            敬 元宇宙 基尔 希斯 坦 女朋友 微博 视频  01月10日 23:57   \n",
       "\n",
       "   forward_counts  comments_counts  points_times  \n",
       "0               0                0             0  \n",
       "1              32                3             0  \n",
       "2               0                0             0  \n",
       "3               0                0             0  \n",
       "4               0                0             5  "
      ]
     },
     "execution_count": 3,
     "metadata": {},
     "output_type": "execute_result"
    }
   ],
   "source": [
    "raw_df.head()"
   ]
  },
  {
   "cell_type": "markdown",
   "metadata": {},
   "source": [
    "### 导出微博内容用于BTM聚类分析"
   ]
  },
  {
   "cell_type": "code",
   "execution_count": 5,
   "metadata": {},
   "outputs": [],
   "source": [
    "raw_df['weibo_content_preprocessed'].to_csv('weibo_content_preprocessed.txt',header=None,index=None)"
   ]
  },
  {
   "cell_type": "markdown",
   "metadata": {},
   "source": [
    "### 数据量大电脑配置不行导致程序经常崩溃，所以采样20000条进行分析"
   ]
  },
  {
   "cell_type": "code",
   "execution_count": 6,
   "metadata": {},
   "outputs": [],
   "source": [
    "raw_df['weibo_content_preprocessed'].sample(20000).to_csv('weibo_content_preprocessed_20000sample.txt',header=None,index=None)"
   ]
  },
  {
   "cell_type": "markdown",
   "metadata": {},
   "source": [
    "### 查看各种认证信息的数量"
   ]
  },
  {
   "cell_type": "code",
   "execution_count": 4,
   "metadata": {},
   "outputs": [
    {
     "data": {
      "text/plain": [
       "NaN       87597\n",
       "微博个人认证    33489\n",
       "微博官方认证    11118\n",
       "Name: weibo_verification, dtype: int64"
      ]
     },
     "execution_count": 4,
     "metadata": {},
     "output_type": "execute_result"
    }
   ],
   "source": [
    "raw_df['weibo_verification'].value_counts(dropna=False)"
   ]
  },
  {
   "cell_type": "markdown",
   "metadata": {},
   "source": [
    "### 查看转评赞数据平均值"
   ]
  },
  {
   "cell_type": "code",
   "execution_count": 5,
   "metadata": {},
   "outputs": [
    {
     "name": "stdout",
     "output_type": "stream",
     "text": [
      "15.12959517109921\n",
      "9.262329430274425\n",
      "14722.48153611086\n"
     ]
    }
   ],
   "source": [
    "print(raw_df['forward_counts'].mean())\n",
    "print(raw_df['comments_counts'].mean())\n",
    "print(raw_df['points_times'].mean())"
   ]
  },
  {
   "cell_type": "markdown",
   "metadata": {},
   "source": [
    "## 使用jieba.textrank进行关键词提取"
   ]
  },
  {
   "cell_type": "markdown",
   "metadata": {},
   "source": [
    "### 加载用户词典"
   ]
  },
  {
   "cell_type": "code",
   "execution_count": 6,
   "metadata": {},
   "outputs": [
    {
     "name": "stderr",
     "output_type": "stream",
     "text": [
      "Building prefix dict from the default dictionary ...\n",
      "Loading model from cache C:\\Users\\25795\\AppData\\Local\\Temp\\jieba.cache\n",
      "Loading model cost 0.863 seconds.\n",
      "Prefix dict has been built successfully.\n"
     ]
    }
   ],
   "source": [
    "jieba.load_userdict('userdic.txt')"
   ]
  },
  {
   "cell_type": "code",
   "execution_count": 7,
   "metadata": {},
   "outputs": [],
   "source": [
    "jieba.add_word('元宇宙')"
   ]
  },
  {
   "cell_type": "markdown",
   "metadata": {},
   "source": [
    "### 进行关键词提取并查看"
   ]
  },
  {
   "cell_type": "code",
   "execution_count": 8,
   "metadata": {},
   "outputs": [],
   "source": [
    "text = ' '.join(map(str,raw_df['weibo_content_preprocessed'].values))\n",
    "\n",
    "keywords = jieba.analyse.textrank(text,topK=50,withWeight=True,allowPOS=['a','d','n','ns','nr','x','vn'])"
   ]
  },
  {
   "cell_type": "code",
   "execution_count": 9,
   "metadata": {},
   "outputs": [
    {
     "name": "stdout",
     "output_type": "stream",
     "text": [
      "[('元宇宙', 1.0), ('数字', 0.17124186487688306), ('板块', 0.12655198908970852), ('公司', 0.12143604437289619), ('科技', 0.11711449316867813), ('宇宙', 0.11168316843637238), ('游戏', 0.11167033329905332), ('世界', 0.10852528749451718), ('市场', 0.10625178295237088), ('概念', 0.10585377096590465), ('股份', 0.10217423516337541), ('技术', 0.09635749128561137), ('链接', 0.08799507105575208), ('发展', 0.08378682618721717), ('中国', 0.07648853917732781), ('网页', 0.07509794886409835), ('平台', 0.06775042538561524), ('区块', 0.0656150754655005), ('投资', 0.06306128466289182), ('行业', 0.05942135611133051), ('项目', 0.0591643572102727), ('视频', 0.05262038179690696), ('经济', 0.050925033563070814), ('货币', 0.04719321421580891), ('现实', 0.0461948187018246), ('互联网', 0.045610263540478854), ('藏品', 0.04502954254657213), ('全球', 0.04331268749533565), ('资金', 0.043108810088672865), ('人类', 0.0424905282021997), ('机会', 0.042480916474729034), ('产品', 0.041969518385569386), ('社区', 0.04073608342143041), ('领域', 0.040233735322282076), ('真的', 0.04019051506032536), ('时代', 0.039913094842451806), ('方向', 0.03961305833177352), ('产业', 0.03903979003210436), ('企业', 0.038457079785671686), ('汽车', 0.037998947891446255), ('空间', 0.03733762110010057), ('个股', 0.03629124597747897), ('智能', 0.03613558965148411), ('体验', 0.03586864909103434), ('数据', 0.0358646978206041), ('时间', 0.03584245661809108), ('文化', 0.035634101583426926), ('行情', 0.03547737555211919), ('新能源', 0.03533766946169598), ('财经', 0.035181380418320876)]\n"
     ]
    }
   ],
   "source": [
    "print(keywords)"
   ]
  },
  {
   "cell_type": "markdown",
   "metadata": {},
   "source": [
    "### 词云图可视化"
   ]
  },
  {
   "cell_type": "code",
   "execution_count": 10,
   "metadata": {},
   "outputs": [
    {
     "data": {
      "text/plain": [
       "{'元宇宙': 1.0,\n",
       " '数字': 0.17124186487688306,\n",
       " '板块': 0.12655198908970852,\n",
       " '公司': 0.12143604437289619,\n",
       " '科技': 0.11711449316867813,\n",
       " '宇宙': 0.11168316843637238,\n",
       " '游戏': 0.11167033329905332,\n",
       " '世界': 0.10852528749451718,\n",
       " '市场': 0.10625178295237088,\n",
       " '概念': 0.10585377096590465,\n",
       " '股份': 0.10217423516337541,\n",
       " '技术': 0.09635749128561137,\n",
       " '链接': 0.08799507105575208,\n",
       " '发展': 0.08378682618721717,\n",
       " '中国': 0.07648853917732781,\n",
       " '网页': 0.07509794886409835,\n",
       " '平台': 0.06775042538561524,\n",
       " '区块': 0.0656150754655005,\n",
       " '投资': 0.06306128466289182,\n",
       " '行业': 0.05942135611133051,\n",
       " '项目': 0.0591643572102727,\n",
       " '视频': 0.05262038179690696,\n",
       " '经济': 0.050925033563070814,\n",
       " '货币': 0.04719321421580891,\n",
       " '现实': 0.0461948187018246,\n",
       " '互联网': 0.045610263540478854,\n",
       " '藏品': 0.04502954254657213,\n",
       " '全球': 0.04331268749533565,\n",
       " '资金': 0.043108810088672865,\n",
       " '人类': 0.0424905282021997,\n",
       " '机会': 0.042480916474729034,\n",
       " '产品': 0.041969518385569386,\n",
       " '社区': 0.04073608342143041,\n",
       " '领域': 0.040233735322282076,\n",
       " '真的': 0.04019051506032536,\n",
       " '时代': 0.039913094842451806,\n",
       " '方向': 0.03961305833177352,\n",
       " '产业': 0.03903979003210436,\n",
       " '企业': 0.038457079785671686,\n",
       " '汽车': 0.037998947891446255,\n",
       " '空间': 0.03733762110010057,\n",
       " '个股': 0.03629124597747897,\n",
       " '智能': 0.03613558965148411,\n",
       " '体验': 0.03586864909103434,\n",
       " '数据': 0.0358646978206041,\n",
       " '时间': 0.03584245661809108,\n",
       " '文化': 0.035634101583426926,\n",
       " '行情': 0.03547737555211919,\n",
       " '新能源': 0.03533766946169598,\n",
       " '财经': 0.035181380418320876}"
      ]
     },
     "execution_count": 10,
     "metadata": {},
     "output_type": "execute_result"
    }
   ],
   "source": [
    "words_frequence = {x[0]:x[1] for x in keywords}\n",
    "words_frequence"
   ]
  },
  {
   "cell_type": "code",
   "execution_count": 27,
   "metadata": {},
   "outputs": [
    {
     "data": {
      "text/plain": [
       "<matplotlib.image.AxesImage at 0x1c2673b70b8>"
      ]
     },
     "execution_count": 27,
     "metadata": {},
     "output_type": "execute_result"
    },
    {
     "data": {
      "image/png": "[encoded data removed]",
      "text/plain": [
       "<Figure size 432x288 with 1 Axes>"
      ]
     },
     "metadata": {
      "needs_background": "light"
     },
     "output_type": "display_data"
    }
   ],
   "source": [
    "\n",
    "backgroud_Image=plt.imread(r'./METAVERSE3.jpg')\n",
    "# 若是有中文的话，font_path ='simsun.ttc'必须添加，不然会出现方框，不出现汉字\n",
    "# simsun.ttc为汉字编码文件，可以从本地windows系统找一个汉字编码文件上传， 如C:\\\\Windows\\Fonts下有许多汉字编码文件\n",
    "wordcloud = WordCloud(font_path ='simsun.ttc',repeat=True,mask=backgroud_Image,background_color='white',width=2000,height=1000,colormap='cool')\n",
    "wordcloud = wordcloud.fit_words(words_frequence)\n",
    "wordcloud.to_file('wordcloud_textrank.png')\n",
    "plt.imshow(wordcloud)"
   ]
  },
  {
   "cell_type": "markdown",
   "metadata": {},
   "source": [
    "### 保存提取的关键词"
   ]
  },
  {
   "cell_type": "code",
   "execution_count": 12,
   "metadata": {},
   "outputs": [],
   "source": [
    "def save_dic(dic,path):\n",
    "    '''\n",
    "    将字典输出到指定目录下的文件中\n",
    "    若文件不存在则会自动创建\n",
    "    :param dic: 需要输出的字典\n",
    "    :param path: 输出路径\n",
    "    :return: 无\n",
    "    '''\n",
    "    with open(path,'w') as out_file:\n",
    "        for key in dic.keys():\n",
    "            out_file.write(\"{}:{}\\n\".format(key, dic.get(key)))\n",
    "        out_file.flush()\n",
    "        out_file.close()"
   ]
  },
  {
   "cell_type": "code",
   "execution_count": 13,
   "metadata": {},
   "outputs": [],
   "source": [
    "save_dic(words_frequence,'keywords.txt')"
   ]
  }
 ],
 "metadata": {
  "interpreter": {
   "hash": "7758e92e9a61d7a3490898707f7eeb937c85e9d1e8d4e877cc6c187218f226d5"
  },
  "kernelspec": {
   "display_name": "Python 3.6.13 ('base')",
   "language": "python",
   "name": "python3"
  },
  "language_info": {
   "codemirror_mode": {
    "name": "ipython",
    "version": 3
   },
   "file_extension": ".py",
   "mimetype": "text/x-python",
   "name": "python",
   "nbconvert_exporter": "python",
   "pygments_lexer": "ipython3",
   "version": "3.6.13"
  },
  "orig_nbformat": 4
 },
 "nbformat": 4,
 "nbformat_minor": 2
}
