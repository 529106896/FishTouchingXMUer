{
 "cells": [
  {
   "cell_type": "markdown",
   "metadata": {},
   "source": [
    "# 使用自定义评分函数进行关键词提取、词频统计、词云图可视化"
   ]
  },
  {
   "cell_type": "markdown",
   "metadata": {},
   "source": [
    "## 导入必要的包"
   ]
  },
  {
   "cell_type": "code",
   "execution_count": 1,
   "metadata": {},
   "outputs": [],
   "source": [
    "import pandas as pd\n",
    "import jieba.analyse\n",
    "import math\n",
    "import numpy as np\n",
    "import jieba.posseg as pseg\n",
    "from tqdm import tqdm\n",
    "import pandas as pd\n",
    "import jieba.analyse\n",
    "import jieba.posseg as psg\n",
    "from os import path\n",
    "import matplotlib.pyplot as plt\n",
    "from wordcloud import WordCloud\n",
    "import jieba.analyse\n",
    "import pandas as pd\n",
    "import jieba"
   ]
  },
  {
   "cell_type": "markdown",
   "metadata": {},
   "source": [
    "## 读取数据与数据基础信息查看"
   ]
  },
  {
   "cell_type": "code",
   "execution_count": 2,
   "metadata": {},
   "outputs": [],
   "source": [
    "raw_df = pd.read_csv(r'rawdata_reprocessed.csv')"
   ]
  },
  {
   "cell_type": "code",
   "execution_count": 3,
   "metadata": {},
   "outputs": [
    {
     "data": {
      "text/html": [
       "<div>\n",
       "<style scoped>\n",
       "    .dataframe tbody tr th:only-of-type {\n",
       "        vertical-align: middle;\n",
       "    }\n",
       "\n",
       "    .dataframe tbody tr th {\n",
       "        vertical-align: top;\n",
       "    }\n",
       "\n",
       "    .dataframe thead th {\n",
       "        text-align: right;\n",
       "    }\n",
       "</style>\n",
       "<table border=\"1\" class=\"dataframe\">\n",
       "  <thead>\n",
       "    <tr style=\"text-align: right;\">\n",
       "      <th></th>\n",
       "      <th>weibo_username</th>\n",
       "      <th>weibo_verification</th>\n",
       "      <th>weibo_content</th>\n",
       "      <th>weibo_content_preprocessed</th>\n",
       "      <th>submit_time</th>\n",
       "      <th>forward_counts</th>\n",
       "      <th>comments_counts</th>\n",
       "      <th>points_times</th>\n",
       "    </tr>\n",
       "  </thead>\n",
       "  <tbody>\n",
       "    <tr>\n",
       "      <th>0</th>\n",
       "      <td>辣子鸡谁做的好吃</td>\n",
       "      <td>NaN</td>\n",
       "      <td>好像可以在自己幻想的元宇宙里过一辈子好像已经过完了一辈子双鱼座的脑子要不得</td>\n",
       "      <td>好像 幻想 元宇宙 里 一辈子 好像 完 一辈子 双鱼座 脑子 要不得</td>\n",
       "      <td>01月10日 23:59</td>\n",
       "      <td>0</td>\n",
       "      <td>0</td>\n",
       "      <td>0</td>\n",
       "    </tr>\n",
       "    <tr>\n",
       "      <th>1</th>\n",
       "      <td>远古的刀</td>\n",
       "      <td>NaN</td>\n",
       "      <td>反正闭关锁宇宙我们将会面临下一次的闭关锁国融入不了全球经济王峻涛跟你们讲我相信这个元宇宙真的...</td>\n",
       "      <td>反正 闭关 锁 宇宙 将会 面临 闭关锁国 融入 全球 经济 王峻涛 讲 元宇宙 真的 一下...</td>\n",
       "      <td>01月10日 23:58</td>\n",
       "      <td>32</td>\n",
       "      <td>3</td>\n",
       "      <td>0</td>\n",
       "    </tr>\n",
       "    <tr>\n",
       "      <th>2</th>\n",
       "      <td>暮景烟_深浅</td>\n",
       "      <td>NaN</td>\n",
       "      <td>周深先生之夜元宇宙周深拥有了生米就像拥有了梦的翅膀卡布叻周深放心飞吧生米永相随时尚先生元宇宙...</td>\n",
       "      <td>周深 之夜 元宇宙 周深 拥有 生米 拥有 梦 翅膀 卡布 叻 周深 放心 飞 生米 永 相...</td>\n",
       "      <td>01月10日 23:58</td>\n",
       "      <td>0</td>\n",
       "      <td>0</td>\n",
       "      <td>0</td>\n",
       "    </tr>\n",
       "    <tr>\n",
       "      <th>3</th>\n",
       "      <td>东辉毅恒传媒</td>\n",
       "      <td>NaN</td>\n",
       "      <td>王峻涛其实吧你有空可以再看看这个视频跟你们讲我相信这个元宇宙真的会来虽然不是一下子就到来还需...</td>\n",
       "      <td>王峻涛 有空 视频 讲 元宇宙 真的 一下子 到来 技术 突破 社会 讲 玩 后果 人会 分...</td>\n",
       "      <td>01月10日 23:57</td>\n",
       "      <td>0</td>\n",
       "      <td>0</td>\n",
       "      <td>0</td>\n",
       "    </tr>\n",
       "    <tr>\n",
       "      <th>4</th>\n",
       "      <td>在寒蝉鸣泣中等待夏日重现</td>\n",
       "      <td>NaN</td>\n",
       "      <td>敬元宇宙让基尔希斯坦的女朋友的微博视频</td>\n",
       "      <td>敬 元宇宙 基尔 希斯 坦 女朋友 微博 视频</td>\n",
       "      <td>01月10日 23:57</td>\n",
       "      <td>0</td>\n",
       "      <td>0</td>\n",
       "      <td>5</td>\n",
       "    </tr>\n",
       "    <tr>\n",
       "      <th>5</th>\n",
       "      <td>北北红牛一号</td>\n",
       "      <td>微博个人认证</td>\n",
       "      <td>我们在玩股票的时候首先要明白当前的市场环境大势第一顺势而为整个市场的高度从龙精药业的板并且给...</td>\n",
       "      <td>玩 股票 明白 市场 环境 大势 第一 顺势 市场 高度 从龙精 药业 板 给出 一线 逃命...</td>\n",
       "      <td>01月10日 23:56</td>\n",
       "      <td>0</td>\n",
       "      <td>0</td>\n",
       "      <td>2</td>\n",
       "    </tr>\n",
       "    <tr>\n",
       "      <th>6</th>\n",
       "      <td>-玫瑰骑士夢</td>\n",
       "      <td>微博个人认证</td>\n",
       "      <td>朝元気芋泥萄萄宇宙小居民黄仁俊元气活泼跑起来会扬起耳朵的小帕恰签售时挑战的可爱笨笨金色卷卷珍...</td>\n",
       "      <td>元 気 芋 泥 萄 萄 宇宙 居民 黄仁俊 元气 活泼 跑 扬起 耳朵 小帕恰 签售 时 挑...</td>\n",
       "      <td>01月10日 23:56</td>\n",
       "      <td>0</td>\n",
       "      <td>0</td>\n",
       "      <td>0</td>\n",
       "    </tr>\n",
       "    <tr>\n",
       "      <th>7</th>\n",
       "      <td>成都仁寿商会</td>\n",
       "      <td>NaN</td>\n",
       "      <td>元宇宙成苹果禁区将发布首款头显月日消息苹果公司预计将于今年发布其首款混合现实头戴设备彭博社记...</td>\n",
       "      <td>元宇宙 成 苹果 禁区 发布 首款 头显 月 日 消息 苹果公司 预计 发布 首款 混合 现...</td>\n",
       "      <td>01月10日 23:56</td>\n",
       "      <td>0</td>\n",
       "      <td>0</td>\n",
       "      <td>0</td>\n",
       "    </tr>\n",
       "    <tr>\n",
       "      <th>8</th>\n",
       "      <td>是个吃货叻</td>\n",
       "      <td>NaN</td>\n",
       "      <td>帅帅帅冲浪的紅豆鯊啊啊啊太帅了卡布叻周深周深星星瞭望塔周深时尚先生周深先生之夜元宇宙勇敢突破...</td>\n",
       "      <td>帅帅帅 冲浪 紅豆 鯊 啊啊啊 太帅 卡布 叻 周深 周深 星星 瞭望 塔周 深 时尚 周深...</td>\n",
       "      <td>01月10日 23:55</td>\n",
       "      <td>0</td>\n",
       "      <td>0</td>\n",
       "      <td>1026193</td>\n",
       "    </tr>\n",
       "    <tr>\n",
       "      <th>9</th>\n",
       "      <td>是个吃货叻</td>\n",
       "      <td>NaN</td>\n",
       "      <td>周深啊啊啊啊冲浪的紅豆鯊啊啊啊太帅了卡布叻周深周深星星瞭望塔周深时尚先生周深先生之夜元宇宙勇...</td>\n",
       "      <td>周深 啊啊啊 冲浪 紅豆 鯊 啊啊啊 太帅 卡布 叻 周深 周深 星星 瞭望 塔周 深 时尚...</td>\n",
       "      <td>01月10日 23:55</td>\n",
       "      <td>0</td>\n",
       "      <td>0</td>\n",
       "      <td>1026193</td>\n",
       "    </tr>\n",
       "    <tr>\n",
       "      <th>10</th>\n",
       "      <td>山东大A</td>\n",
       "      <td>NaN</td>\n",
       "      <td>今晚和怡宝一起玩了人类一败涂地在元宇宙也想邀请你跳一支交谊舞</td>\n",
       "      <td>今晚 怡宝 玩 人类 一败涂地 元宇宙 想 邀请 跳 一支 交谊舞</td>\n",
       "      <td>01月10日 23:53</td>\n",
       "      <td>0</td>\n",
       "      <td>3</td>\n",
       "      <td>3</td>\n",
       "    </tr>\n",
       "    <tr>\n",
       "      <th>11</th>\n",
       "      <td>养绫波的猫空</td>\n",
       "      <td>NaN</td>\n",
       "      <td>设圈到底是本身就低龄还是有人割低龄韭菜镁基夜师傅说虚拟图片我还以为元宇宙结果又是设还不如元宇...</td>\n",
       "      <td>设圈 低龄 有人 割 低龄 韭菜 镁 基夜 师傅 说 虚拟 图片 元宇宙 设 元宇宙 炒孽 ...</td>\n",
       "      <td>01月10日 23:52</td>\n",
       "      <td>0</td>\n",
       "      <td>0</td>\n",
       "      <td>71750</td>\n",
       "    </tr>\n",
       "    <tr>\n",
       "      <th>12</th>\n",
       "      <td>云啸-</td>\n",
       "      <td>NaN</td>\n",
       "      <td>周深先生之夜元宇宙往事都随风而散你的歌声也飘远但是我的心不会为你而散卡布叻周深时尚先生元宇宙...</td>\n",
       "      <td>周深 之夜 元宇宙 往事 随风 而散 歌声 飘远 心 散卡布 叻 周深 时尚 元宇宙 梅涩 ...</td>\n",
       "      <td>01月10日 23:52</td>\n",
       "      <td>0</td>\n",
       "      <td>0</td>\n",
       "      <td>0</td>\n",
       "    </tr>\n",
       "    <tr>\n",
       "      <th>13</th>\n",
       "      <td>yu兔去看烸</td>\n",
       "      <td>微博个人认证</td>\n",
       "      <td>一个人的时候喜欢沉浸式唱歌尽力把感情音调动作表情等等都用上细细地把自己融入你会发现在一首歌里...</td>\n",
       "      <td>喜欢 沉浸 式 唱歌 尽力 感情 音调 动作 表情 细细地 融入 发现 一首歌 里 深层 东...</td>\n",
       "      <td>01月10日 23:51</td>\n",
       "      <td>0</td>\n",
       "      <td>2</td>\n",
       "      <td>3</td>\n",
       "    </tr>\n",
       "    <tr>\n",
       "      <th>14</th>\n",
       "      <td>馍中王</td>\n",
       "      <td>NaN</td>\n",
       "      <td>利好东北意思一边在东北开澡堂子一边玩元宇宙实体虚拟都赢麻了</td>\n",
       "      <td>利好 东北 东北 开 澡堂子 玩 元宇宙 实体 虚拟 赢 麻</td>\n",
       "      <td>01月10日 23:51</td>\n",
       "      <td>0</td>\n",
       "      <td>0</td>\n",
       "      <td>34</td>\n",
       "    </tr>\n",
       "    <tr>\n",
       "      <th>15</th>\n",
       "      <td>遂昌快活林</td>\n",
       "      <td>微博个人认证</td>\n",
       "      <td>元宇宙金融时报如果银行也来元宇宙你怎么看月日央行主管的金融时报官微发文虚拟品牌官艾雅正式入职...</td>\n",
       "      <td>元宇宙 金融时报 银行 元宇宙 月 日 央行 主管 金融时报 官微 发文 虚拟 品牌 官艾雅...</td>\n",
       "      <td>01月10日 23:50</td>\n",
       "      <td>1</td>\n",
       "      <td>0</td>\n",
       "      <td>8</td>\n",
       "    </tr>\n",
       "    <tr>\n",
       "      <th>16</th>\n",
       "      <td>元味儿冰淇淋</td>\n",
       "      <td>NaN</td>\n",
       "      <td>一往无前的蓝张嘉元宇宙没有伏笔海里没有潮汐请问你是在搜张嘉元的宇宙海吗既然来了那就了解一下元...</td>\n",
       "      <td>一往无前 蓝 张嘉 元宇宙 伏笔 海里 潮汐 请问 搜 张嘉元 宇宙 海 元气 满满的 指弹...</td>\n",
       "      <td>01月10日 23:49</td>\n",
       "      <td>0</td>\n",
       "      <td>0</td>\n",
       "      <td>0</td>\n",
       "    </tr>\n",
       "    <tr>\n",
       "      <th>17</th>\n",
       "      <td>见闻实时新闻</td>\n",
       "      <td>微博官方认证</td>\n",
       "      <td>人民日报评论无论元宇宙和人工智能多么精彩但或许最难冲击甚至取代洗浴行业经历过竞奢赛豪的误区如...</td>\n",
       "      <td>人民日报 评论 元宇宙 人工智能 精彩 难 冲击 取代 洗浴 行业 经历 竞奢赛 豪 误区 ...</td>\n",
       "      <td>01月10日 23:48</td>\n",
       "      <td>18</td>\n",
       "      <td>13</td>\n",
       "      <td>34</td>\n",
       "    </tr>\n",
       "    <tr>\n",
       "      <th>18</th>\n",
       "      <td>拉诺西亚香橙</td>\n",
       "      <td>NaN</td>\n",
       "      <td>镁基夜师傅说虚拟图片我还以为元宇宙结果又是设还不如元宇宙呢那个还能炒孽孽没有猫迷惑行為大賞小...</td>\n",
       "      <td>镁 基夜 师傅 说 虚拟 图片 元宇宙 设 元宇宙 炒孽 孽 猫 迷惑 行為 大賞 幽困 呼...</td>\n",
       "      <td>01月10日 23:48</td>\n",
       "      <td>0</td>\n",
       "      <td>0</td>\n",
       "      <td>71750</td>\n",
       "    </tr>\n",
       "    <tr>\n",
       "      <th>19</th>\n",
       "      <td>心台怡的怡4</td>\n",
       "      <td>NaN</td>\n",
       "      <td>繁體君周深时尚先生卡布叻周深周深星轨记录仪周深周深年度先生走过荆棘丛生夜色茫茫仍有理想滚烫心...</td>\n",
       "      <td>繁體 君 周深 时尚 卡布 叻 周深 周深 星轨 记录仪 周深 周深 年度 走过 荆棘丛生 ...</td>\n",
       "      <td>01月10日 23:48</td>\n",
       "      <td>0</td>\n",
       "      <td>0</td>\n",
       "      <td>1026193</td>\n",
       "    </tr>\n",
       "  </tbody>\n",
       "</table>\n",
       "</div>"
      ],
      "text/plain": [
       "   weibo_username weibo_verification  \\\n",
       "0        辣子鸡谁做的好吃                NaN   \n",
       "1            远古的刀                NaN   \n",
       "2          暮景烟_深浅                NaN   \n",
       "3          东辉毅恒传媒                NaN   \n",
       "4    在寒蝉鸣泣中等待夏日重现                NaN   \n",
       "5          北北红牛一号             微博个人认证   \n",
       "6          -玫瑰骑士夢             微博个人认证   \n",
       "7          成都仁寿商会                NaN   \n",
       "8           是个吃货叻                NaN   \n",
       "9           是个吃货叻                NaN   \n",
       "10           山东大A                NaN   \n",
       "11         养绫波的猫空                NaN   \n",
       "12            云啸-                NaN   \n",
       "13         yu兔去看烸             微博个人认证   \n",
       "14            馍中王                NaN   \n",
       "15          遂昌快活林             微博个人认证   \n",
       "16         元味儿冰淇淋                NaN   \n",
       "17         见闻实时新闻             微博官方认证   \n",
       "18         拉诺西亚香橙                NaN   \n",
       "19         心台怡的怡4                NaN   \n",
       "\n",
       "                                        weibo_content  \\\n",
       "0               好像可以在自己幻想的元宇宙里过一辈子好像已经过完了一辈子双鱼座的脑子要不得   \n",
       "1   反正闭关锁宇宙我们将会面临下一次的闭关锁国融入不了全球经济王峻涛跟你们讲我相信这个元宇宙真的...   \n",
       "2   周深先生之夜元宇宙周深拥有了生米就像拥有了梦的翅膀卡布叻周深放心飞吧生米永相随时尚先生元宇宙...   \n",
       "3   王峻涛其实吧你有空可以再看看这个视频跟你们讲我相信这个元宇宙真的会来虽然不是一下子就到来还需...   \n",
       "4                                 敬元宇宙让基尔希斯坦的女朋友的微博视频   \n",
       "5   我们在玩股票的时候首先要明白当前的市场环境大势第一顺势而为整个市场的高度从龙精药业的板并且给...   \n",
       "6   朝元気芋泥萄萄宇宙小居民黄仁俊元气活泼跑起来会扬起耳朵的小帕恰签售时挑战的可爱笨笨金色卷卷珍...   \n",
       "7   元宇宙成苹果禁区将发布首款头显月日消息苹果公司预计将于今年发布其首款混合现实头戴设备彭博社记...   \n",
       "8   帅帅帅冲浪的紅豆鯊啊啊啊太帅了卡布叻周深周深星星瞭望塔周深时尚先生周深先生之夜元宇宙勇敢突破...   \n",
       "9   周深啊啊啊啊冲浪的紅豆鯊啊啊啊太帅了卡布叻周深周深星星瞭望塔周深时尚先生周深先生之夜元宇宙勇...   \n",
       "10                     今晚和怡宝一起玩了人类一败涂地在元宇宙也想邀请你跳一支交谊舞   \n",
       "11  设圈到底是本身就低龄还是有人割低龄韭菜镁基夜师傅说虚拟图片我还以为元宇宙结果又是设还不如元宇...   \n",
       "12  周深先生之夜元宇宙往事都随风而散你的歌声也飘远但是我的心不会为你而散卡布叻周深时尚先生元宇宙...   \n",
       "13  一个人的时候喜欢沉浸式唱歌尽力把感情音调动作表情等等都用上细细地把自己融入你会发现在一首歌里...   \n",
       "14                      利好东北意思一边在东北开澡堂子一边玩元宇宙实体虚拟都赢麻了   \n",
       "15  元宇宙金融时报如果银行也来元宇宙你怎么看月日央行主管的金融时报官微发文虚拟品牌官艾雅正式入职...   \n",
       "16  一往无前的蓝张嘉元宇宙没有伏笔海里没有潮汐请问你是在搜张嘉元的宇宙海吗既然来了那就了解一下元...   \n",
       "17  人民日报评论无论元宇宙和人工智能多么精彩但或许最难冲击甚至取代洗浴行业经历过竞奢赛豪的误区如...   \n",
       "18  镁基夜师傅说虚拟图片我还以为元宇宙结果又是设还不如元宇宙呢那个还能炒孽孽没有猫迷惑行為大賞小...   \n",
       "19  繁體君周深时尚先生卡布叻周深周深星轨记录仪周深周深年度先生走过荆棘丛生夜色茫茫仍有理想滚烫心...   \n",
       "\n",
       "                           weibo_content_preprocessed   submit_time  \\\n",
       "0                 好像 幻想 元宇宙 里 一辈子 好像 完 一辈子 双鱼座 脑子 要不得  01月10日 23:59   \n",
       "1   反正 闭关 锁 宇宙 将会 面临 闭关锁国 融入 全球 经济 王峻涛 讲 元宇宙 真的 一下...  01月10日 23:58   \n",
       "2   周深 之夜 元宇宙 周深 拥有 生米 拥有 梦 翅膀 卡布 叻 周深 放心 飞 生米 永 相...  01月10日 23:58   \n",
       "3   王峻涛 有空 视频 讲 元宇宙 真的 一下子 到来 技术 突破 社会 讲 玩 后果 人会 分...  01月10日 23:57   \n",
       "4                             敬 元宇宙 基尔 希斯 坦 女朋友 微博 视频  01月10日 23:57   \n",
       "5   玩 股票 明白 市场 环境 大势 第一 顺势 市场 高度 从龙精 药业 板 给出 一线 逃命...  01月10日 23:56   \n",
       "6   元 気 芋 泥 萄 萄 宇宙 居民 黄仁俊 元气 活泼 跑 扬起 耳朵 小帕恰 签售 时 挑...  01月10日 23:56   \n",
       "7   元宇宙 成 苹果 禁区 发布 首款 头显 月 日 消息 苹果公司 预计 发布 首款 混合 现...  01月10日 23:56   \n",
       "8   帅帅帅 冲浪 紅豆 鯊 啊啊啊 太帅 卡布 叻 周深 周深 星星 瞭望 塔周 深 时尚 周深...  01月10日 23:55   \n",
       "9   周深 啊啊啊 冲浪 紅豆 鯊 啊啊啊 太帅 卡布 叻 周深 周深 星星 瞭望 塔周 深 时尚...  01月10日 23:55   \n",
       "10                  今晚 怡宝 玩 人类 一败涂地 元宇宙 想 邀请 跳 一支 交谊舞  01月10日 23:53   \n",
       "11  设圈 低龄 有人 割 低龄 韭菜 镁 基夜 师傅 说 虚拟 图片 元宇宙 设 元宇宙 炒孽 ...  01月10日 23:52   \n",
       "12  周深 之夜 元宇宙 往事 随风 而散 歌声 飘远 心 散卡布 叻 周深 时尚 元宇宙 梅涩 ...  01月10日 23:52   \n",
       "13  喜欢 沉浸 式 唱歌 尽力 感情 音调 动作 表情 细细地 融入 发现 一首歌 里 深层 东...  01月10日 23:51   \n",
       "14                     利好 东北 东北 开 澡堂子 玩 元宇宙 实体 虚拟 赢 麻  01月10日 23:51   \n",
       "15  元宇宙 金融时报 银行 元宇宙 月 日 央行 主管 金融时报 官微 发文 虚拟 品牌 官艾雅...  01月10日 23:50   \n",
       "16  一往无前 蓝 张嘉 元宇宙 伏笔 海里 潮汐 请问 搜 张嘉元 宇宙 海 元气 满满的 指弹...  01月10日 23:49   \n",
       "17  人民日报 评论 元宇宙 人工智能 精彩 难 冲击 取代 洗浴 行业 经历 竞奢赛 豪 误区 ...  01月10日 23:48   \n",
       "18  镁 基夜 师傅 说 虚拟 图片 元宇宙 设 元宇宙 炒孽 孽 猫 迷惑 行為 大賞 幽困 呼...  01月10日 23:48   \n",
       "19  繁體 君 周深 时尚 卡布 叻 周深 周深 星轨 记录仪 周深 周深 年度 走过 荆棘丛生 ...  01月10日 23:48   \n",
       "\n",
       "    forward_counts  comments_counts  points_times  \n",
       "0                0                0             0  \n",
       "1               32                3             0  \n",
       "2                0                0             0  \n",
       "3                0                0             0  \n",
       "4                0                0             5  \n",
       "5                0                0             2  \n",
       "6                0                0             0  \n",
       "7                0                0             0  \n",
       "8                0                0       1026193  \n",
       "9                0                0       1026193  \n",
       "10               0                3             3  \n",
       "11               0                0         71750  \n",
       "12               0                0             0  \n",
       "13               0                2             3  \n",
       "14               0                0            34  \n",
       "15               1                0             8  \n",
       "16               0                0             0  \n",
       "17              18               13            34  \n",
       "18               0                0         71750  \n",
       "19               0                0       1026193  "
      ]
     },
     "execution_count": 3,
     "metadata": {},
     "output_type": "execute_result"
    }
   ],
   "source": [
    "raw_df.head(20)"
   ]
  },
  {
   "cell_type": "markdown",
   "metadata": {},
   "source": [
    "## 进行词频统计与关键词提取"
   ]
  },
  {
   "cell_type": "code",
   "execution_count": 49,
   "metadata": {},
   "outputs": [],
   "source": [
    "word_count = {}\n",
    "# contents = raw_df['weibo_content_preprocessed'].values\n",
    "# for line in tqdm(contents):\n",
    "#     words = str(line).split(' ')\n",
    "#     for word in words:\n",
    "#         if word_count.get(word) is None:\n",
    "#             word_count[word] = 1\n",
    "#         else:\n",
    "#             word_count[word] = word_count[word]+1"
   ]
  },
  {
   "cell_type": "markdown",
   "metadata": {},
   "source": [
    "词语重要性 ：  \n",
    "认证：普通用户博文中出现：1分，个人认证博文中出现：3分，官方认证博文中出现：9分  \n",
    "转评赞数据：ceil(1xlog(点赞数+1)),ceil(3xlog(评论数+1)),ceil(5xlog(转发数+1))"
   ]
  },
  {
   "cell_type": "code",
   "execution_count": 50,
   "metadata": {},
   "outputs": [],
   "source": [
    "def auth_map(x):\n",
    "    if x == '微博个人认证':\n",
    "        return 3\n",
    "    elif x == '微博官方认证':\n",
    "        return 9\n",
    "    else:\n",
    "        return 1\n",
    "        "
   ]
  },
  {
   "cell_type": "code",
   "execution_count": 51,
   "metadata": {},
   "outputs": [],
   "source": [
    "def get_score(df):\n",
    "    score1 = df['points_times'].map(float).map(lambda x:math.ceil(math.log10(x+1)))\n",
    "    score2 = df['comments_counts'].map(float).map(lambda x:3*math.ceil(math.log10(x+1)))\n",
    "    score3 = df['forward_counts'].map(float).map(lambda x:5*math.ceil(math.log10(x+1)))\n",
    "    score4 = df['weibo_verification'].map(auth_map)\n",
    "    score = score1+score2+score3+score4\n",
    "    return score"
   ]
  },
  {
   "cell_type": "markdown",
   "metadata": {},
   "source": [
    "### 获取每一条微博的权重"
   ]
  },
  {
   "cell_type": "code",
   "execution_count": 52,
   "metadata": {},
   "outputs": [
    {
     "data": {
      "text/plain": [
       "0          1\n",
       "1         14\n",
       "2          1\n",
       "3          1\n",
       "4          2\n",
       "          ..\n",
       "132199     1\n",
       "132200     5\n",
       "132201     8\n",
       "132202     1\n",
       "132203     1\n",
       "Length: 132204, dtype: int64"
      ]
     },
     "execution_count": 52,
     "metadata": {},
     "output_type": "execute_result"
    }
   ],
   "source": [
    "scores = get_score(raw_df)\n",
    "scores"
   ]
  },
  {
   "cell_type": "code",
   "execution_count": 53,
   "metadata": {},
   "outputs": [],
   "source": [
    "pos_allow=['d','n','ns','nr','x','vn']\n",
    "jieba.load_userdict('./userdic.txt')"
   ]
  },
  {
   "cell_type": "code",
   "execution_count": 54,
   "metadata": {},
   "outputs": [],
   "source": [
    "def pos_filter(line:str,pos_list):\n",
    "    words = pseg.cut(str(line))\n",
    "    ret_words = []\n",
    "    for word,pos in words:\n",
    "        if word.strip() is not ''  and pos in pos_list :\n",
    "            ret_words.append(word)\n",
    "    return ret_words\n"
   ]
  },
  {
   "cell_type": "code",
   "execution_count": 55,
   "metadata": {},
   "outputs": [
    {
     "name": "stdout",
     "output_type": "stream",
     "text": [
      "['幻想', '元宇宙', '脑子']\n"
     ]
    }
   ],
   "source": [
    "print(pos_filter('好像 幻想 元宇宙 里 一辈子 好像 完 一辈子 双鱼座 脑子 要不得',pos_allow))"
   ]
  },
  {
   "cell_type": "markdown",
   "metadata": {},
   "source": [
    "### 关键词提取与词频统计"
   ]
  },
  {
   "cell_type": "code",
   "execution_count": 56,
   "metadata": {},
   "outputs": [
    {
     "name": "stderr",
     "output_type": "stream",
     "text": [
      "100%|██████████| 132204/132204 [18:43<00:00, 117.70it/s]\n"
     ]
    }
   ],
   "source": [
    "keywords = dict()\n",
    "contents = raw_df['weibo_content_preprocessed'].values\n",
    "for line,score in  tqdm(zip(contents,scores),total=len(scores)):\n",
    "    # words = str(line).split(' ')\n",
    "    words = pos_filter(line,pos_allow)\n",
    "    for word in words:\n",
    "        if keywords.get(word) is None:\n",
    "            keywords[word] = score\n",
    "        else:\n",
    "            keywords[word] = keywords[word]+score\n",
    "        \n",
    "        if word_count.get(word) is None:\n",
    "            word_count[word] = 1\n",
    "        else:\n",
    "            word_count[word] = word_count[word]+1"
   ]
  },
  {
   "cell_type": "markdown",
   "metadata": {},
   "source": [
    "## 关键词可视化"
   ]
  },
  {
   "cell_type": "code",
   "execution_count": 57,
   "metadata": {},
   "outputs": [],
   "source": [
    "sorted_kw_dic = sorted(keywords.items(),key=lambda x:x[1],reverse=True)"
   ]
  },
  {
   "cell_type": "code",
   "execution_count": 58,
   "metadata": {},
   "outputs": [
    {
     "name": "stdout",
     "output_type": "stream",
     "text": [
      "('元宇宙', 1253941)\n",
      "('数字', 219828)\n",
      "('板块', 169289)\n",
      "('公司', 166277)\n",
      "('科技', 145733)\n",
      "('市场', 144216)\n",
      "('游戏', 141704)\n",
      "('博', 138929)\n",
      "('概念', 134401)\n",
      "('技术', 130308)\n",
      "('视频', 123068)\n",
      "('世界', 120218)\n",
      "('宇宙', 115196)\n",
      "('链接', 114956)\n",
      "('股份', 101712)\n",
      "('发展', 100481)\n",
      "('网页', 100385)\n",
      "('区块', 99274)\n",
      "('链', 98543)\n",
      "('平台', 96583)\n",
      "('币', 93274)\n",
      "('中国', 88953)\n",
      "('投资', 85720)\n",
      "('行业', 77912)\n",
      "('项目', 72632)\n",
      "('资金', 67973)\n",
      "('机会', 64881)\n",
      "('藏品', 61611)\n",
      "('现实', 59984)\n",
      "('经济', 59504)\n",
      "('行情', 57754)\n",
      "('全球', 57061)\n",
      "('互联网', 56280)\n",
      "('时间', 56272)\n",
      "('领域', 54710)\n",
      "('产品', 54643)\n",
      "('个股', 53355)\n",
      "('方向', 52531)\n",
      "('体验', 52334)\n",
      "('指数', 51934)\n",
      "('企业', 51579)\n",
      "('股票', 51557)\n",
      "('产业', 51183)\n",
      "('货币', 50009)\n",
      "('空间', 49895)\n",
      "('财经', 49673)\n",
      "('数据', 47371)\n",
      "('社区', 46818)\n",
      "('汽车', 46393)\n",
      "('时代', 46160)\n"
     ]
    }
   ],
   "source": [
    "words_frequence = dict()\n",
    "for i in range(50):\n",
    "    words_frequence[sorted_kw_dic[i][0]] = sorted_kw_dic[i][1]\n",
    "    print(sorted_kw_dic[i])\n",
    "    "
   ]
  },
  {
   "cell_type": "code",
   "execution_count": 59,
   "metadata": {},
   "outputs": [
    {
     "data": {
      "text/plain": [
       "{'元宇宙': 1253941,\n",
       " '数字': 219828,\n",
       " '板块': 169289,\n",
       " '公司': 166277,\n",
       " '科技': 145733,\n",
       " '市场': 144216,\n",
       " '游戏': 141704,\n",
       " '博': 138929,\n",
       " '概念': 134401,\n",
       " '技术': 130308,\n",
       " '视频': 123068,\n",
       " '世界': 120218,\n",
       " '宇宙': 115196,\n",
       " '链接': 114956,\n",
       " '股份': 101712,\n",
       " '发展': 100481,\n",
       " '网页': 100385,\n",
       " '区块': 99274,\n",
       " '链': 98543,\n",
       " '平台': 96583,\n",
       " '币': 93274,\n",
       " '中国': 88953,\n",
       " '投资': 85720,\n",
       " '行业': 77912,\n",
       " '项目': 72632,\n",
       " '资金': 67973,\n",
       " '机会': 64881,\n",
       " '藏品': 61611,\n",
       " '现实': 59984,\n",
       " '经济': 59504,\n",
       " '行情': 57754,\n",
       " '全球': 57061,\n",
       " '互联网': 56280,\n",
       " '时间': 56272,\n",
       " '领域': 54710,\n",
       " '产品': 54643,\n",
       " '个股': 53355,\n",
       " '方向': 52531,\n",
       " '体验': 52334,\n",
       " '指数': 51934,\n",
       " '企业': 51579,\n",
       " '股票': 51557,\n",
       " '产业': 51183,\n",
       " '货币': 50009,\n",
       " '空间': 49895,\n",
       " '财经': 49673,\n",
       " '数据': 47371,\n",
       " '社区': 46818,\n",
       " '汽车': 46393,\n",
       " '时代': 46160}"
      ]
     },
     "execution_count": 59,
     "metadata": {},
     "output_type": "execute_result"
    }
   ],
   "source": [
    "words_frequence"
   ]
  },
  {
   "cell_type": "code",
   "execution_count": 60,
   "metadata": {},
   "outputs": [
    {
     "data": {
      "text/plain": [
       "<matplotlib.image.AxesImage at 0x157253860f0>"
      ]
     },
     "execution_count": 60,
     "metadata": {},
     "output_type": "execute_result"
    },
    {
     "data": {
      "image/png": "[encoded data removed]",
      "text/plain": [
       "<Figure size 432x288 with 1 Axes>"
      ]
     },
     "metadata": {
      "needs_background": "light"
     },
     "output_type": "display_data"
    }
   ],
   "source": [
    "\n",
    "backgroud_Image=plt.imread(r'./METAVERSE3.jpg')\n",
    "# 若是有中文的话，font_path ='simsun.ttc'必须添加，不然会出现方框，不出现汉字\n",
    "# simsun.ttc为汉字编码文件，可以从本地windows系统找一个汉字编码文件上传， 如C:\\\\Windows\\Fonts下有许多汉字编码文件\n",
    "wordcloud = WordCloud(font_path ='simsun.ttc',repeat=True,mask=backgroud_Image,background_color='white',width=2000,height=1000,colormap='cool')\n",
    "wordcloud = wordcloud.fit_words(words_frequence)\n",
    "wordcloud.to_file('wordcloud_myscoring.png')\n",
    "plt.imshow(wordcloud)"
   ]
  },
  {
   "cell_type": "markdown",
   "metadata": {},
   "source": [
    "## 词频可视化"
   ]
  },
  {
   "cell_type": "code",
   "execution_count": 61,
   "metadata": {},
   "outputs": [
    {
     "name": "stdout",
     "output_type": "stream",
     "text": [
      "99192\n",
      "('元宇宙', 205648)\n",
      "('数字', 32422)\n",
      "('板块', 32068)\n",
      "('市场', 25735)\n",
      "('公司', 25269)\n",
      "('概念', 22935)\n",
      "('游戏', 22496)\n",
      "('科技', 22175)\n",
      "('技术', 20202)\n",
      "('世界', 19972)\n",
      "('宇宙', 19764)\n",
      "('博', 19030)\n",
      "('刘宇', 18907)\n",
      "('股份', 18682)\n",
      "('区块', 16620)\n",
      "('链', 16271)\n",
      "('发展', 16059)\n",
      "('链接', 15898)\n",
      "('币', 15720)\n",
      "('视频', 15678)\n",
      "('平台', 14791)\n",
      "('中国', 13560)\n",
      "('投资', 13125)\n",
      "('资金', 12942)\n",
      "('网页', 12778)\n",
      "('行业', 12605)\n",
      "('项目', 11869)\n",
      "('个股', 11369)\n",
      "('机会', 10871)\n",
      "('指数', 10713)\n"
     ]
    },
    {
     "data": {
      "image/png": "[encoded data removed]",
      "text/plain": [
       "<Figure size 1440x720 with 1 Axes>"
      ]
     },
     "metadata": {
      "needs_background": "light"
     },
     "output_type": "display_data"
    }
   ],
   "source": [
    "print(len(word_count))\n",
    "sorted_wc_dic = sorted(word_count.items(),key=lambda x:x[1],reverse=True)\n",
    "x_word = []\n",
    "y_count = []\n",
    "for i in range(30):\n",
    "    x_word.append(sorted_wc_dic[i][0])\n",
    "    y_count.append(sorted_wc_dic[i][1])\n",
    "    print(sorted_wc_dic[i])\n",
    "\n",
    "def autolabel(rects):\n",
    "    for rect in rects:\n",
    "        height = rect.get_height()\n",
    "        plt.text(rect.get_x()+rect.get_width()/2.-0.35, 1.01*height, '%s' % int(height))\n",
    "\n",
    "plt.figure(figsize=(20,10))\n",
    "plt.rcParams['font.sans-serif']=['SimHei'] #用来正常显示中文标签\n",
    "plt.rcParams['axes.unicode_minus']=False #用来正常显示负号 #有中文出现的情况，需要u'内容'\n",
    "rects = plt.bar(x_word,y_count,width=0.5,color=\"c\")\n",
    "plt.xlabel(\"word\")\n",
    "plt.ylabel(\"frequency\")\n",
    "plt.yscale('symlog')\n",
    "plt.ylim(10000,250000)\n",
    "autolabel(rects)"
   ]
  }
 ],
 "metadata": {
  "interpreter": {
   "hash": "7758e92e9a61d7a3490898707f7eeb937c85e9d1e8d4e877cc6c187218f226d5"
  },
  "kernelspec": {
   "display_name": "Python 3.6.13 ('base')",
   "language": "python",
   "name": "python3"
  },
  "language_info": {
   "codemirror_mode": {
    "name": "ipython",
    "version": 3
   },
   "file_extension": ".py",
   "mimetype": "text/x-python",
   "name": "python",
   "nbconvert_exporter": "python",
   "pygments_lexer": "ipython3",
   "version": "3.6.13"
  },
  "orig_nbformat": 4
 },
 "nbformat": 4,
 "nbformat_minor": 2
}
