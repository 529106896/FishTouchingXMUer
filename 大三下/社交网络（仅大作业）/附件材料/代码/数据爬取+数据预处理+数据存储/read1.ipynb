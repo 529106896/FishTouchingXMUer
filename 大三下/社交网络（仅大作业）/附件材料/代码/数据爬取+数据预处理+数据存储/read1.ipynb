{
 "cells": [
  {
   "cell_type": "code",
   "execution_count": 6,
   "metadata": {},
   "outputs": [],
   "source": [
    "import os\n",
    "import pandas as pd\n",
    "import warnings\n",
    "from tqdm import tqdm\n",
    "\n",
    "warnings.filterwarnings('ignore')\n",
    "\n",
    "raw_dataframe = pd.DataFrame()"
   ]
  },
  {
   "cell_type": "code",
   "execution_count": 7,
   "metadata": {},
   "outputs": [],
   "source": [
    "def update_file(file_path):\n",
    "    global raw_dataframe\n",
    "    print(\"\\ncurrent file：\", file_path)\n",
    "    excel_file = pd.ExcelFile(file_path)\n",
    "    sheet_name = excel_file.sheet_names\n",
    "    for i in tqdm(sheet_name):\n",
    "        df_tmp = pd.read_excel(file_path, sheet_name=i)\n",
    "        if raw_dataframe.empty:\n",
    "            raw_dataframe = df_tmp\n",
    "        else:\n",
    "            raw_dataframe = pd.concat([raw_dataframe, df_tmp], axis=0, ignore_index=True)\n",
    "    print(\"file %s read completed\" % file_path)"
   ]
  },
  {
   "cell_type": "code",
   "execution_count": 8,
   "metadata": {},
   "outputs": [],
   "source": [
    "def walk_dir(dir_path):\n",
    "    for curr, dirs, files in os.walk(dir_path):\n",
    "        for file in files:\n",
    "            if not file.endswith(\".xlsx\"):\n",
    "                continue\n",
    "            fpath = os.path.join(curr, file)\n",
    "            update_file(fpath)"
   ]
  },
  {
   "cell_type": "code",
   "execution_count": 9,
   "metadata": {},
   "outputs": [],
   "source": [
    "# 数据预处理\n",
    "def preHandle(df):\n",
    "    df['微博内容'] = df['微博内容'].str.replace(r'[^\\w]+', '')\n",
    "    df.drop_duplicates(['微博内容'], keep='last', inplace=True)\n",
    "    df.reset_index(drop=True, inplace=True)"
   ]
  },
  {
   "cell_type": "code",
   "execution_count": 10,
   "metadata": {},
   "outputs": [
    {
     "name": "stdout",
     "output_type": "stream",
     "text": [
      "\n",
      "current file： data\\data1.xlsx\n"
     ]
    },
    {
     "name": "stderr",
     "output_type": "stream",
     "text": [
      "100%|██████████| 1/1 [00:00<00:00, 10.67it/s]"
     ]
    },
    {
     "name": "stdout",
     "output_type": "stream",
     "text": [
      "file data\\data1.xlsx read completed\n",
      "\n",
      "current file： data\\data10.xlsx\n"
     ]
    },
    {
     "name": "stderr",
     "output_type": "stream",
     "text": [
      "\n",
      "100%|██████████| 11/11 [00:03<00:00,  2.85it/s]\n"
     ]
    },
    {
     "name": "stdout",
     "output_type": "stream",
     "text": [
      "file data\\data10.xlsx read completed\n",
      "\n",
      "current file： data\\data11.xlsx\n"
     ]
    },
    {
     "name": "stderr",
     "output_type": "stream",
     "text": [
      "100%|██████████| 37/37 [00:33<00:00,  1.11it/s]\n"
     ]
    },
    {
     "name": "stdout",
     "output_type": "stream",
     "text": [
      "file data\\data11.xlsx read completed\n",
      "\n",
      "current file： data\\data12.xlsx\n"
     ]
    },
    {
     "name": "stderr",
     "output_type": "stream",
     "text": [
      "100%|██████████| 2/2 [00:00<00:00,  7.19it/s]\n"
     ]
    },
    {
     "name": "stdout",
     "output_type": "stream",
     "text": [
      "file data\\data12.xlsx read completed\n",
      "\n",
      "current file： data\\data13.xlsx\n"
     ]
    },
    {
     "name": "stderr",
     "output_type": "stream",
     "text": [
      "100%|██████████| 2/2 [00:00<00:00,  8.83it/s]\n"
     ]
    },
    {
     "name": "stdout",
     "output_type": "stream",
     "text": [
      "file data\\data13.xlsx read completed\n",
      "\n",
      "current file： data\\data14.xlsx\n"
     ]
    },
    {
     "name": "stderr",
     "output_type": "stream",
     "text": [
      "100%|██████████| 6/6 [00:01<00:00,  5.36it/s]\n"
     ]
    },
    {
     "name": "stdout",
     "output_type": "stream",
     "text": [
      "file data\\data14.xlsx read completed\n",
      "\n",
      "current file： data\\data15.xlsx\n"
     ]
    },
    {
     "name": "stderr",
     "output_type": "stream",
     "text": [
      "100%|██████████| 7/7 [00:02<00:00,  3.45it/s]\n"
     ]
    },
    {
     "name": "stdout",
     "output_type": "stream",
     "text": [
      "file data\\data15.xlsx read completed\n",
      "\n",
      "current file： data\\data16.xlsx\n"
     ]
    },
    {
     "name": "stderr",
     "output_type": "stream",
     "text": [
      "100%|██████████| 1/1 [00:00<00:00,  9.20it/s]\n"
     ]
    },
    {
     "name": "stdout",
     "output_type": "stream",
     "text": [
      "file data\\data16.xlsx read completed\n",
      "\n",
      "current file： data\\data17.xlsx\n"
     ]
    },
    {
     "name": "stderr",
     "output_type": "stream",
     "text": [
      "100%|██████████| 7/7 [00:01<00:00,  5.82it/s]\n"
     ]
    },
    {
     "name": "stdout",
     "output_type": "stream",
     "text": [
      "file data\\data17.xlsx read completed\n",
      "\n",
      "current file： data\\data18.xlsx\n"
     ]
    },
    {
     "name": "stderr",
     "output_type": "stream",
     "text": [
      "100%|██████████| 59/59 [01:33<00:00,  1.59s/it]\n"
     ]
    },
    {
     "name": "stdout",
     "output_type": "stream",
     "text": [
      "file data\\data18.xlsx read completed\n",
      "\n",
      "current file： data\\data2.xlsx\n"
     ]
    },
    {
     "name": "stderr",
     "output_type": "stream",
     "text": [
      "100%|██████████| 3/3 [00:00<00:00,  7.86it/s]\n"
     ]
    },
    {
     "name": "stdout",
     "output_type": "stream",
     "text": [
      "file data\\data2.xlsx read completed\n",
      "\n",
      "current file： data\\data3.xlsx\n"
     ]
    },
    {
     "name": "stderr",
     "output_type": "stream",
     "text": [
      "100%|██████████| 46/46 [00:56<00:00,  1.22s/it]\n"
     ]
    },
    {
     "name": "stdout",
     "output_type": "stream",
     "text": [
      "file data\\data3.xlsx read completed\n",
      "\n",
      "current file： data\\data4.xlsx\n"
     ]
    },
    {
     "name": "stderr",
     "output_type": "stream",
     "text": [
      "100%|██████████| 9/9 [00:02<00:00,  3.27it/s]\n"
     ]
    },
    {
     "name": "stdout",
     "output_type": "stream",
     "text": [
      "file data\\data4.xlsx read completed\n",
      "\n",
      "current file： data\\data5.xlsx\n"
     ]
    },
    {
     "name": "stderr",
     "output_type": "stream",
     "text": [
      "100%|██████████| 49/49 [01:19<00:00,  1.62s/it]\n"
     ]
    },
    {
     "name": "stdout",
     "output_type": "stream",
     "text": [
      "file data\\data5.xlsx read completed\n",
      "\n",
      "current file： data\\data6.xlsx\n"
     ]
    },
    {
     "name": "stderr",
     "output_type": "stream",
     "text": [
      "100%|██████████| 3/3 [00:00<00:00,  4.28it/s]\n"
     ]
    },
    {
     "name": "stdout",
     "output_type": "stream",
     "text": [
      "file data\\data6.xlsx read completed\n",
      "\n",
      "current file： data\\data7.xlsx\n"
     ]
    },
    {
     "name": "stderr",
     "output_type": "stream",
     "text": [
      "100%|██████████| 5/5 [00:01<00:00,  3.98it/s]\n"
     ]
    },
    {
     "name": "stdout",
     "output_type": "stream",
     "text": [
      "file data\\data7.xlsx read completed\n",
      "\n",
      "current file： data\\data8.xlsx\n"
     ]
    },
    {
     "name": "stderr",
     "output_type": "stream",
     "text": [
      "100%|██████████| 15/15 [00:09<00:00,  1.53it/s]\n"
     ]
    },
    {
     "name": "stdout",
     "output_type": "stream",
     "text": [
      "file data\\data8.xlsx read completed\n",
      "\n",
      "current file： data\\data9.xlsx\n"
     ]
    },
    {
     "name": "stderr",
     "output_type": "stream",
     "text": [
      "100%|██████████| 2/2 [00:00<00:00,  5.39it/s]"
     ]
    },
    {
     "name": "stdout",
     "output_type": "stream",
     "text": [
      "file data\\data9.xlsx read completed\n",
      "ready to preprocess\n"
     ]
    },
    {
     "name": "stderr",
     "output_type": "stream",
     "text": [
      "\n"
     ]
    },
    {
     "data": {
      "text/html": [
       "<div>\n",
       "<style scoped>\n",
       "    .dataframe tbody tr th:only-of-type {\n",
       "        vertical-align: middle;\n",
       "    }\n",
       "\n",
       "    .dataframe tbody tr th {\n",
       "        vertical-align: top;\n",
       "    }\n",
       "\n",
       "    .dataframe thead th {\n",
       "        text-align: right;\n",
       "    }\n",
       "</style>\n",
       "<table border=\"1\" class=\"dataframe\">\n",
       "  <thead>\n",
       "    <tr style=\"text-align: right;\">\n",
       "      <th></th>\n",
       "      <th>博主昵称</th>\n",
       "      <th>微博认证</th>\n",
       "      <th>微博内容</th>\n",
       "      <th>发布时间</th>\n",
       "      <th>转发</th>\n",
       "      <th>评论</th>\n",
       "      <th>赞</th>\n",
       "    </tr>\n",
       "  </thead>\n",
       "  <tbody>\n",
       "    <tr>\n",
       "      <th>0</th>\n",
       "      <td>黄泳蓁</td>\n",
       "      <td>NaN</td>\n",
       "      <td>//@王峻涛6688:其实吧，你有空可以再看看这个视频。跟你们讲，我相信这个元宇宙真的会来，...</td>\n",
       "      <td>01月10日 23:59</td>\n",
       "      <td>0</td>\n",
       "      <td>0</td>\n",
       "      <td>0</td>\n",
       "    </tr>\n",
       "    <tr>\n",
       "      <th>1</th>\n",
       "      <td>辣子鸡谁做的好吃</td>\n",
       "      <td>NaN</td>\n",
       "      <td>好像可以在自己幻想的元宇宙里过一辈子，好像已经过完了一辈子，双鱼座的脑子要不得😖😣😫😩</td>\n",
       "      <td>01月10日 23:59</td>\n",
       "      <td>0</td>\n",
       "      <td>0</td>\n",
       "      <td>0</td>\n",
       "    </tr>\n",
       "    <tr>\n",
       "      <th>2</th>\n",
       "      <td>远古的刀</td>\n",
       "      <td>NaN</td>\n",
       "      <td>反正闭关锁宇宙，我们将会面临下一次的闭关锁国，融入不了全球经济//@王峻涛6688:跟你们讲...</td>\n",
       "      <td>01月10日 23:58</td>\n",
       "      <td>32</td>\n",
       "      <td>3</td>\n",
       "      <td>0</td>\n",
       "    </tr>\n",
       "    <tr>\n",
       "      <th>3</th>\n",
       "      <td>暮景烟_深浅</td>\n",
       "      <td>NaN</td>\n",
       "      <td>#周深先生之夜元宇宙#周深拥有了生米，就像拥有了梦的翅膀，@卡布叻_周深 放心飞吧！生米永相...</td>\n",
       "      <td>01月10日 23:58</td>\n",
       "      <td>0</td>\n",
       "      <td>0</td>\n",
       "      <td>0</td>\n",
       "    </tr>\n",
       "    <tr>\n",
       "      <th>4</th>\n",
       "      <td>-玫瑰骑士夢</td>\n",
       "      <td>微博个人认证</td>\n",
       "      <td>朝元気芋泥萄萄宇宙小居民黄仁俊🧚🏻‍♂️元气活泼跑起来会扬起耳朵的小帕恰🤲签售时𝑪𝒉𝒆𝒓𝒓...</td>\n",
       "      <td>01月10日 23:57</td>\n",
       "      <td>0</td>\n",
       "      <td>0</td>\n",
       "      <td>0</td>\n",
       "    </tr>\n",
       "    <tr>\n",
       "      <th>...</th>\n",
       "      <td>...</td>\n",
       "      <td>...</td>\n",
       "      <td>...</td>\n",
       "      <td>...</td>\n",
       "      <td>...</td>\n",
       "      <td>...</td>\n",
       "      <td>...</td>\n",
       "    </tr>\n",
       "    <tr>\n",
       "      <th>213634</th>\n",
       "      <td>币圈大事件123</td>\n",
       "      <td>NaN</td>\n",
       "      <td>【海南省区块链协会副会长曹元：元宇宙的最大意义是人类对待客观世界的范式可能会发生改变】11月...</td>\n",
       "      <td>2021年11月25日 22:26</td>\n",
       "      <td>0</td>\n",
       "      <td>0</td>\n",
       "      <td>0</td>\n",
       "    </tr>\n",
       "    <tr>\n",
       "      <th>213635</th>\n",
       "      <td>xiaotuner</td>\n",
       "      <td>NaN</td>\n",
       "      <td>#徐佳莹以上皆非# 有暗黑系、次元映像、宇宙空间的种种，实验性的新尝试，无论变换各种怪诞，最...</td>\n",
       "      <td>2021年11月25日 22:26</td>\n",
       "      <td>0</td>\n",
       "      <td>0</td>\n",
       "      <td>5778</td>\n",
       "    </tr>\n",
       "    <tr>\n",
       "      <th>213636</th>\n",
       "      <td>股海选时</td>\n",
       "      <td>微博个人认证</td>\n",
       "      <td>今日看盘#今日短线股票推荐##今日短线牛股##微博股票#回复函【海兰信】：公司海底数据中心...</td>\n",
       "      <td>2021年11月25日 22:25</td>\n",
       "      <td>1</td>\n",
       "      <td>0</td>\n",
       "      <td>0</td>\n",
       "    </tr>\n",
       "    <tr>\n",
       "      <th>213637</th>\n",
       "      <td>80生的心在飞</td>\n",
       "      <td>NaN</td>\n",
       "      <td>元宇宙概念沙盒游戏Sandbox是由一家香港公司开发的，其游戏代币SAND兑美元已经涨至7....</td>\n",
       "      <td>2021年11月25日 22:25</td>\n",
       "      <td>0</td>\n",
       "      <td>0</td>\n",
       "      <td>0</td>\n",
       "    </tr>\n",
       "    <tr>\n",
       "      <th>213638</th>\n",
       "      <td>WQ-698</td>\n",
       "      <td>NaN</td>\n",
       "      <td>元宇宙经济打怪兽赚米 2合肥·世纪金源购物中心 LWQ-698的微博视频</td>\n",
       "      <td>2021年11月25日 22:24</td>\n",
       "      <td>0</td>\n",
       "      <td>0</td>\n",
       "      <td>0</td>\n",
       "    </tr>\n",
       "  </tbody>\n",
       "</table>\n",
       "<p>213639 rows × 7 columns</p>\n",
       "</div>"
      ],
      "text/plain": [
       "             博主昵称    微博认证                                               微博内容  \\\n",
       "0             黄泳蓁     NaN  //@王峻涛6688:其实吧，你有空可以再看看这个视频。跟你们讲，我相信这个元宇宙真的会来，...   \n",
       "1        辣子鸡谁做的好吃     NaN        好像可以在自己幻想的元宇宙里过一辈子，好像已经过完了一辈子，双鱼座的脑子要不得😖😣😫😩   \n",
       "2            远古的刀     NaN  反正闭关锁宇宙，我们将会面临下一次的闭关锁国，融入不了全球经济//@王峻涛6688:跟你们讲...   \n",
       "3          暮景烟_深浅     NaN  #周深先生之夜元宇宙#周深拥有了生米，就像拥有了梦的翅膀，@卡布叻_周深 放心飞吧！生米永相...   \n",
       "4          -玫瑰骑士夢  微博个人认证  朝元気芋泥萄萄宇宙小居民黄仁俊🧚🏻‍♂️元气活泼跑起来会扬起耳朵的小帕恰🤲签售时𝑪𝒉𝒆𝒓𝒓...   \n",
       "...           ...     ...                                                ...   \n",
       "213634   币圈大事件123     NaN  【海南省区块链协会副会长曹元：元宇宙的最大意义是人类对待客观世界的范式可能会发生改变】11月...   \n",
       "213635  xiaotuner     NaN  #徐佳莹以上皆非# 有暗黑系、次元映像、宇宙空间的种种，实验性的新尝试，无论变换各种怪诞，最...   \n",
       "213636       股海选时  微博个人认证  今日看盘#今日短线股票推荐##今日短线牛股##微博股票#回复函【海兰信】：公司海底数据中心...   \n",
       "213637    80生的心在飞     NaN  元宇宙概念沙盒游戏Sandbox是由一家香港公司开发的，其游戏代币SAND兑美元已经涨至7....   \n",
       "213638     WQ-698     NaN               元宇宙经济打怪兽赚米 2合肥·世纪金源购物中心 LWQ-698的微博视频   \n",
       "\n",
       "                     发布时间  转发 评论     赞  \n",
       "0            01月10日 23:59   0  0     0  \n",
       "1            01月10日 23:59   0  0     0  \n",
       "2            01月10日 23:58  32  3     0  \n",
       "3            01月10日 23:58   0  0     0  \n",
       "4            01月10日 23:57   0  0     0  \n",
       "...                   ...  .. ..   ...  \n",
       "213634  2021年11月25日 22:26   0  0     0  \n",
       "213635  2021年11月25日 22:26   0  0  5778  \n",
       "213636  2021年11月25日 22:25   1  0     0  \n",
       "213637  2021年11月25日 22:25   0  0     0  \n",
       "213638  2021年11月25日 22:24   0  0     0  \n",
       "\n",
       "[213639 rows x 7 columns]"
      ]
     },
     "execution_count": 10,
     "metadata": {},
     "output_type": "execute_result"
    }
   ],
   "source": [
    "walk_dir(\"data\")\n",
    "print(\"ready to preprocess\")\n",
    "raw_dataframe"
   ]
  },
  {
   "cell_type": "code",
   "execution_count": 11,
   "metadata": {},
   "outputs": [
    {
     "data": {
      "text/html": [
       "<div>\n",
       "<style scoped>\n",
       "    .dataframe tbody tr th:only-of-type {\n",
       "        vertical-align: middle;\n",
       "    }\n",
       "\n",
       "    .dataframe tbody tr th {\n",
       "        vertical-align: top;\n",
       "    }\n",
       "\n",
       "    .dataframe thead th {\n",
       "        text-align: right;\n",
       "    }\n",
       "</style>\n",
       "<table border=\"1\" class=\"dataframe\">\n",
       "  <thead>\n",
       "    <tr style=\"text-align: right;\">\n",
       "      <th></th>\n",
       "      <th>weibo_username</th>\n",
       "      <th>weibo_verification</th>\n",
       "      <th>weibo_content</th>\n",
       "      <th>submit_time</th>\n",
       "      <th>forward_counts</th>\n",
       "      <th>comments_counts</th>\n",
       "      <th>points_times</th>\n",
       "    </tr>\n",
       "  </thead>\n",
       "  <tbody>\n",
       "    <tr>\n",
       "      <th>0</th>\n",
       "      <td>黄泳蓁</td>\n",
       "      <td>NaN</td>\n",
       "      <td>//@王峻涛6688:其实吧，你有空可以再看看这个视频。跟你们讲，我相信这个元宇宙真的会来，...</td>\n",
       "      <td>01月10日 23:59</td>\n",
       "      <td>0</td>\n",
       "      <td>0</td>\n",
       "      <td>0</td>\n",
       "    </tr>\n",
       "    <tr>\n",
       "      <th>1</th>\n",
       "      <td>辣子鸡谁做的好吃</td>\n",
       "      <td>NaN</td>\n",
       "      <td>好像可以在自己幻想的元宇宙里过一辈子，好像已经过完了一辈子，双鱼座的脑子要不得😖😣😫😩</td>\n",
       "      <td>01月10日 23:59</td>\n",
       "      <td>0</td>\n",
       "      <td>0</td>\n",
       "      <td>0</td>\n",
       "    </tr>\n",
       "    <tr>\n",
       "      <th>2</th>\n",
       "      <td>远古的刀</td>\n",
       "      <td>NaN</td>\n",
       "      <td>反正闭关锁宇宙，我们将会面临下一次的闭关锁国，融入不了全球经济//@王峻涛6688:跟你们讲...</td>\n",
       "      <td>01月10日 23:58</td>\n",
       "      <td>32</td>\n",
       "      <td>3</td>\n",
       "      <td>0</td>\n",
       "    </tr>\n",
       "    <tr>\n",
       "      <th>3</th>\n",
       "      <td>暮景烟_深浅</td>\n",
       "      <td>NaN</td>\n",
       "      <td>#周深先生之夜元宇宙#周深拥有了生米，就像拥有了梦的翅膀，@卡布叻_周深 放心飞吧！生米永相...</td>\n",
       "      <td>01月10日 23:58</td>\n",
       "      <td>0</td>\n",
       "      <td>0</td>\n",
       "      <td>0</td>\n",
       "    </tr>\n",
       "    <tr>\n",
       "      <th>4</th>\n",
       "      <td>-玫瑰骑士夢</td>\n",
       "      <td>微博个人认证</td>\n",
       "      <td>朝元気芋泥萄萄宇宙小居民黄仁俊🧚🏻‍♂️元气活泼跑起来会扬起耳朵的小帕恰🤲签售时𝑪𝒉𝒆𝒓𝒓...</td>\n",
       "      <td>01月10日 23:57</td>\n",
       "      <td>0</td>\n",
       "      <td>0</td>\n",
       "      <td>0</td>\n",
       "    </tr>\n",
       "    <tr>\n",
       "      <th>5</th>\n",
       "      <td>小容的太阳花</td>\n",
       "      <td>NaN</td>\n",
       "      <td>#周深先生之夜元宇宙#周深在我眼中是最迷人的，周深的歌声在我耳中是最动听的。@卡布叻_周深L...</td>\n",
       "      <td>01月10日 23:57</td>\n",
       "      <td>0</td>\n",
       "      <td>0</td>\n",
       "      <td>0</td>\n",
       "    </tr>\n",
       "    <tr>\n",
       "      <th>6</th>\n",
       "      <td>炫铃用户2895183515_177</td>\n",
       "      <td>NaN</td>\n",
       "      <td>//@EricTsui:有没有课代表？//@建筑教师万谦://@赵逵建筑:元宇宙//@站山顶...</td>\n",
       "      <td>01月10日 23:57</td>\n",
       "      <td>0</td>\n",
       "      <td>0</td>\n",
       "      <td>1011</td>\n",
       "    </tr>\n",
       "    <tr>\n",
       "      <th>7</th>\n",
       "      <td>不明标記·</td>\n",
       "      <td>微博个人认证</td>\n",
       "      <td>【#一往无前的蓝#张嘉元 zjy 涨价元 】，我投给了“#INTO1冷感门面张嘉元#宇宙海好...</td>\n",
       "      <td>01月10日 23:57</td>\n",
       "      <td>0</td>\n",
       "      <td>0</td>\n",
       "      <td>511</td>\n",
       "    </tr>\n",
       "    <tr>\n",
       "      <th>8</th>\n",
       "      <td>东辉毅恒传媒</td>\n",
       "      <td>NaN</td>\n",
       "      <td>//@王峻涛6688:其实吧，你有空可以再看看这个视频。跟你们讲，我相信这个元宇宙真的会来，...</td>\n",
       "      <td>01月10日 23:57</td>\n",
       "      <td>0</td>\n",
       "      <td>0</td>\n",
       "      <td>0</td>\n",
       "    </tr>\n",
       "    <tr>\n",
       "      <th>9</th>\n",
       "      <td>在寒蝉鸣泣中等待夏日重现</td>\n",
       "      <td>NaN</td>\n",
       "      <td>敬元宇宙 L让基尔希斯坦的女朋友的微博视频</td>\n",
       "      <td>01月10日 23:57</td>\n",
       "      <td>0</td>\n",
       "      <td>0</td>\n",
       "      <td>5</td>\n",
       "    </tr>\n",
       "  </tbody>\n",
       "</table>\n",
       "</div>"
      ],
      "text/plain": [
       "       weibo_username weibo_verification  \\\n",
       "0                 黄泳蓁                NaN   \n",
       "1            辣子鸡谁做的好吃                NaN   \n",
       "2                远古的刀                NaN   \n",
       "3              暮景烟_深浅                NaN   \n",
       "4              -玫瑰骑士夢             微博个人认证   \n",
       "5              小容的太阳花                NaN   \n",
       "6  炫铃用户2895183515_177                NaN   \n",
       "7               不明标記·             微博个人认证   \n",
       "8              东辉毅恒传媒                NaN   \n",
       "9        在寒蝉鸣泣中等待夏日重现                NaN   \n",
       "\n",
       "                                       weibo_content   submit_time  \\\n",
       "0  //@王峻涛6688:其实吧，你有空可以再看看这个视频。跟你们讲，我相信这个元宇宙真的会来，...  01月10日 23:59   \n",
       "1        好像可以在自己幻想的元宇宙里过一辈子，好像已经过完了一辈子，双鱼座的脑子要不得😖😣😫😩  01月10日 23:59   \n",
       "2  反正闭关锁宇宙，我们将会面临下一次的闭关锁国，融入不了全球经济//@王峻涛6688:跟你们讲...  01月10日 23:58   \n",
       "3  #周深先生之夜元宇宙#周深拥有了生米，就像拥有了梦的翅膀，@卡布叻_周深 放心飞吧！生米永相...  01月10日 23:58   \n",
       "4  朝元気芋泥萄萄宇宙小居民黄仁俊🧚🏻‍♂️元气活泼跑起来会扬起耳朵的小帕恰🤲签售时𝑪𝒉𝒆𝒓𝒓...  01月10日 23:57   \n",
       "5  #周深先生之夜元宇宙#周深在我眼中是最迷人的，周深的歌声在我耳中是最动听的。@卡布叻_周深L...  01月10日 23:57   \n",
       "6  //@EricTsui:有没有课代表？//@建筑教师万谦://@赵逵建筑:元宇宙//@站山顶...  01月10日 23:57   \n",
       "7  【#一往无前的蓝#张嘉元 zjy 涨价元 】，我投给了“#INTO1冷感门面张嘉元#宇宙海好...  01月10日 23:57   \n",
       "8  //@王峻涛6688:其实吧，你有空可以再看看这个视频。跟你们讲，我相信这个元宇宙真的会来，...  01月10日 23:57   \n",
       "9                              敬元宇宙 L让基尔希斯坦的女朋友的微博视频  01月10日 23:57   \n",
       "\n",
       "  forward_counts comments_counts points_times  \n",
       "0              0               0            0  \n",
       "1              0               0            0  \n",
       "2             32               3            0  \n",
       "3              0               0            0  \n",
       "4              0               0            0  \n",
       "5              0               0            0  \n",
       "6              0               0         1011  \n",
       "7              0               0          511  \n",
       "8              0               0            0  \n",
       "9              0               0            5  "
      ]
     },
     "execution_count": 11,
     "metadata": {},
     "output_type": "execute_result"
    }
   ],
   "source": [
    "raw_dataframe.rename(columns={'博主昵称': 'weibo_username', '微博认证': 'weibo_verification', '微博内容': 'weibo_content', '发布时间': 'submit_time', '转发': 'forward_counts', '评论': 'comments_counts', '赞': 'points_times'}, inplace=True)\n",
    "raw_dataframe.head(10)"
   ]
  },
  {
   "cell_type": "code",
   "execution_count": 12,
   "metadata": {},
   "outputs": [
    {
     "name": "stdout",
     "output_type": "stream",
     "text": [
      "export successfully\n"
     ]
    }
   ],
   "source": [
    "raw_dataframe.to_csv(\"rawdata.csv\", index=0, encoding='utf-8')\n",
    "print(\"export successfully\")"
   ]
  }
 ],
 "metadata": {
  "interpreter": {
   "hash": "58e751578d0ff1c990a06c7c78cdf7a429bc7070a69a28a734164b0005f13abb"
  },
  "kernelspec": {
   "display_name": "Python 3.9.7 64-bit",
   "language": "python",
   "name": "python3"
  },
  "language_info": {
   "codemirror_mode": {
    "name": "ipython",
    "version": 3
   },
   "file_extension": ".py",
   "mimetype": "text/x-python",
   "name": "python",
   "nbconvert_exporter": "python",
   "pygments_lexer": "ipython3",
   "version": "3.9.7"
  },
  "orig_nbformat": 4
 },
 "nbformat": 4,
 "nbformat_minor": 2
}
